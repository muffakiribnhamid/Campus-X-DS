{
 "cells": [
  {
   "cell_type": "code",
   "execution_count": 10,
   "id": "bc7f2ad1-a4a8-4d30-94ca-c944e880b045",
   "metadata": {},
   "outputs": [
    {
     "name": "stdin",
     "output_type": "stream",
     "text": [
      "Enter Celsius Value :  10\n"
     ]
    },
    {
     "name": "stdout",
     "output_type": "stream",
     "text": [
      "50\n"
     ]
    }
   ],
   "source": [
    "#celsius to farenheit program\n",
    "celsius = int(input(\"Enter Celsius Value : \"))\n",
    "farenheit = int((celsius * 9/5) + 32)\n",
    "print(farenheit)"
   ]
  },
  {
   "cell_type": "code",
   "execution_count": 14,
   "id": "3d6501d1-a7bb-4ffe-a69d-295f4a06bcdf",
   "metadata": {},
   "outputs": [
    {
     "name": "stdin",
     "output_type": "stream",
     "text": [
      "Enter first number:  10\n",
      "Enter second number:  20\n"
     ]
    },
    {
     "name": "stdout",
     "output_type": "stream",
     "text": [
      "20 10\n"
     ]
    }
   ],
   "source": [
    "#swap two numbers\n",
    "fnum = int(input(\"Enter first number: \"))\n",
    "snum = int(input(\"Enter second number: \"))\n",
    "\n",
    "new_var = fnum\n",
    "fnum = snum\n",
    "snum = new_var\n",
    "\n",
    "print(fnum,snum)"
   ]
  },
  {
   "cell_type": "code",
   "execution_count": 19,
   "id": "f5b875c6-b3c1-4b23-a2e0-e56b95106d7d",
   "metadata": {},
   "outputs": [
    {
     "name": "stdin",
     "output_type": "stream",
     "text": [
      "Enter x-coordinate of first point 1\n",
      "Enter x-coordinate of second point 1\n",
      "Enter y-coordinate of first point 7\n",
      "Enter y-coordinate of second point 8\n"
     ]
    },
    {
     "name": "stdout",
     "output_type": "stream",
     "text": [
      "1.0\n"
     ]
    }
   ],
   "source": [
    "#euclidean distance between two coordinates\n",
    "#(x1,y1) and (x2,y2)\n",
    "\n",
    "x1 = int(input(\"Enter x-coordinate of first point\"))\n",
    "x2 = int(input(\"Enter x-coordinate of second point\"))\n",
    "y2 = int(input(\"Enter y-coordinate of first point\"))\n",
    "y1 = int(input(\"Enter y-coordinate of second point\"))\n",
    "\n",
    "\n",
    "distance =((x2 - x1) ** 2 + (y2 - y1) ** 2) ** 0.5\n",
    "\n",
    "\n",
    "print(distance)"
   ]
  },
  {
   "cell_type": "code",
   "execution_count": 29,
   "id": "0295d03d-ee86-4019-ac3f-b0ddd9d8f907",
   "metadata": {},
   "outputs": [
    {
     "name": "stdin",
     "output_type": "stream",
     "text": [
      "Enter Princpal Amount:  10\n",
      "Enter Rate of intrest:  1\n",
      "Enter time period:  1\n"
     ]
    },
    {
     "name": "stdout",
     "output_type": "stream",
     "text": [
      "$0.1 intrest rate\n",
      "1.0\n"
     ]
    }
   ],
   "source": [
    "#program to find simple interest\n",
    "value = int(input(\"Enter Princpal Amount: \"))\n",
    "interest = float(input(\"Enter Rate of interest: \"))\n",
    "time = int(input(\"Enter time period: \"))\n",
    "\n",
    "\n",
    "simple_interest = (value * interest * time) / 100 \n",
    "final_amount = value  simple_interest\n",
    "\n",
    "print(f\"{simple_interest}% interest rate\")\n",
    "print(final_amount)\n"
   ]
  },
  {
   "cell_type": "code",
   "execution_count": 31,
   "id": "183fff95-72d9-4c69-aba7-2c415c17b1c7",
   "metadata": {},
   "outputs": [
    {
     "name": "stdin",
     "output_type": "stream",
     "text": [
      "Enter no of heads :  4\n",
      "Enter no of legs :  12\n"
     ]
    },
    {
     "name": "stdout",
     "output_type": "stream",
     "text": [
      "2.0 2.0\n"
     ]
    }
   ],
   "source": [
    "heads = int(input(\"Enter no of heads : \"))\n",
    "legs = int(input(\"Enter no of legs : \"))\n",
    "\n",
    "dogs = (legs - 2 * heads) / 2\n",
    "\n",
    "chickens = heads - dogs\n",
    "\n",
    "print(dogs, chickens)\n",
    "\n"
   ]
  },
  {
   "cell_type": "code",
   "execution_count": 43,
   "id": "7c768b9d-947a-46ce-8723-922d256c1d6d",
   "metadata": {},
   "outputs": [
    {
     "name": "stdin",
     "output_type": "stream",
     "text": [
      "Enter N :  10\n"
     ]
    },
    {
     "name": "stdout",
     "output_type": "stream",
     "text": [
      "385.0\n"
     ]
    }
   ],
   "source": [
    "n = int(input(\"Enter N : \"))\n",
    "\n",
    "sum = (n * (n + 1) * (2 * n + 1) / 6)\n",
    "\n",
    "print((sum))\n",
    "\n"
   ]
  },
  {
   "cell_type": "code",
   "execution_count": 48,
   "id": "212e739e-8770-4a72-a6d8-08515f40c4e8",
   "metadata": {},
   "outputs": [
    {
     "name": "stdin",
     "output_type": "stream",
     "text": [
      "Enter first term :  1\n",
      "Enter second term :  1\n",
      "Enter nth term :  1\n"
     ]
    },
    {
     "name": "stdout",
     "output_type": "stream",
     "text": [
      "1\n"
     ]
    }
   ],
   "source": [
    "first_term = int(input(\"Enter first term : \"))\n",
    "second_term = int(input(\"Enter second term : \"))\n",
    "nth_term = int(input(\"Enter nth term : \"))\n",
    "\n",
    "#using #an = a1 + (n-1)d\n",
    "\n",
    "d = second_term - first_term\n",
    "an = (first_term + (nth_term - 1) * d)\n",
    "\n",
    "print(an)\n"
   ]
  },
  {
   "cell_type": "code",
   "execution_count": 51,
   "id": "dd602563-e674-4a2f-a02c-931b7797a143",
   "metadata": {},
   "outputs": [
    {
     "name": "stdin",
     "output_type": "stream",
     "text": [
      "Enter Numerator of first term :  1\n",
      "Enter Numerator of second term :  1\n",
      "Enter Denominator of first term :  2\n",
      "Enter Denominator of second term :  3\n"
     ]
    },
    {
     "name": "stdout",
     "output_type": "stream",
     "text": [
      "5 / 6\n"
     ]
    }
   ],
   "source": [
    "n1 = int(input(\"Enter Numerator of first term : \"))\n",
    "n2 = int(input(\"Enter Numerator of second term : \"))\n",
    "d1 = int(input(\"Enter Denominator of first term : \"))\n",
    "d2 = int(input(\"Enter Denominator of second term : \"))\n",
    "\n",
    "numerator = (n1 * d2 + n2 * d1) \n",
    "denominator = (d1 * d2)\n",
    "\n",
    "print(f\"{numerator} / {denominator}\")"
   ]
  },
  {
   "cell_type": "code",
   "execution_count": 53,
   "id": "8dfa3739-ad17-4a37-aefd-d316a17d0d53",
   "metadata": {},
   "outputs": [
    {
     "name": "stdout",
     "output_type": "stream",
     "text": [
      "848.4848484848485\n"
     ]
    }
   ],
   "source": [
    "ht = 20\n",
    "lt = 20\n",
    "bt = 20\n",
    "\n",
    "hg = 3\n",
    "rg = 1\n",
    "\n",
    "v_tank = ht * lt * bt \n",
    "v_glass = 22/7 * rg ** 2 * hg\n",
    "\n",
    "no_of_glasses = v_tank / v_glass\n",
    "\n",
    "print(no_of_glasses)\n",
    "\n",
    "\n",
    "#milk tank = v = 22/7 * r**2 * h\n"
   ]
  },
  {
   "cell_type": "code",
   "execution_count": null,
   "id": "b448fb24-ff72-4ab0-9eb4-003a077c3ec4",
   "metadata": {},
   "outputs": [],
   "source": []
  }
 ],
 "metadata": {
  "kernelspec": {
   "display_name": "Python [conda env:base] *",
   "language": "python",
   "name": "conda-base-py"
  },
  "language_info": {
   "codemirror_mode": {
    "name": "ipython",
    "version": 3
   },
   "file_extension": ".py",
   "mimetype": "text/x-python",
   "name": "python",
   "nbconvert_exporter": "python",
   "pygments_lexer": "ipython3",
   "version": "3.12.7"
  }
 },
 "nbformat": 4,
 "nbformat_minor": 5
}
