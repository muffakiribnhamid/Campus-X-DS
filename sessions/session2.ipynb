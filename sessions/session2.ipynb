{
 "cells": [
  {
   "cell_type": "code",
   "execution_count": 1,
   "id": "3c5348e7-b449-4656-b0c5-0972fecd6b75",
   "metadata": {},
   "outputs": [
    {
     "name": "stdout",
     "output_type": "stream",
     "text": [
      "True\n"
     ]
    }
   ],
   "source": [
    "print(\"D\" in \"Delhi\")"
   ]
  },
  {
   "cell_type": "code",
   "execution_count": 2,
   "id": "b360fbdb-d3c8-4b70-8cd6-5658203d3dcf",
   "metadata": {},
   "outputs": [
    {
     "name": "stdout",
     "output_type": "stream",
     "text": [
      "False\n"
     ]
    }
   ],
   "source": [
    "print(\"d\" in \"Delhi\")"
   ]
  },
  {
   "cell_type": "code",
   "execution_count": 9,
   "id": "b2b88290-ad4d-49a9-9355-5fe5353f44bc",
   "metadata": {},
   "outputs": [
    {
     "name": "stdin",
     "output_type": "stream",
     "text": [
      "Enter a 3 digit number 999\n"
     ]
    },
    {
     "name": "stdout",
     "output_type": "stream",
     "text": [
      "27\n"
     ]
    }
   ],
   "source": [
    "number = int(input(\"Enter a 3 digit number\"))\n",
    "first = number % 10\n",
    "number = number // 10\n",
    "second = number % 10\n",
    "number = number // 10\n",
    "third = number % 10\n",
    "print(first + second + third)\n"
   ]
  },
  {
   "cell_type": "code",
   "execution_count": 13,
   "id": "3d2275f0-cf2f-4f28-8629-fe0fe4b8a936",
   "metadata": {},
   "outputs": [
    {
     "name": "stdin",
     "output_type": "stream",
     "text": [
      "Enter Email:  muffakir.x@gmail.com\n",
      "Enter password:  12\n"
     ]
    },
    {
     "name": "stdout",
     "output_type": "stream",
     "text": [
      "Incorrect password!\n"
     ]
    },
    {
     "name": "stdin",
     "output_type": "stream",
     "text": [
      "Enter password again 1234\n"
     ]
    }
   ],
   "source": [
    "#if else program\n",
    "\n",
    "#email = muffakir.x@gmail.com\n",
    "#password = 1234\n",
    "\n",
    "email = input(\"Enter Email: \")\n",
    "password = input(\"Enter password: \")\n",
    "\n",
    "if email == \"muffakir.x@gmail.com\" and password == \"1234\":\n",
    "    print(\"Welcome Sir\")\n",
    "elif email == \"muffakir.x@gmail.com\" and password != \"1234\":\n",
    "    print(\"Incorrect password!\")\n",
    "    password = input(\"Enter password again\")\n",
    "    if password == \"1234\":\n",
    "        print(\"Welcome\")\n",
    "    else:\n",
    "        print(\"You are restricted\")\n",
    "else:\n",
    "    print(\"Wrong Credentials\")"
   ]
  },
  {
   "cell_type": "code",
   "execution_count": 15,
   "id": "00ccad46-ca91-4f0a-9e80-41c049521532",
   "metadata": {},
   "outputs": [
    {
     "name": "stdin",
     "output_type": "stream",
     "text": [
      "Enter First Number 3\n",
      "Enter Second Number 3\n",
      "Enter Third Number 3\n"
     ]
    },
    {
     "name": "stdout",
     "output_type": "stream",
     "text": [
      "3 is the smallest\n"
     ]
    }
   ],
   "source": [
    "#min of 3 num\n",
    "a = int(input(\"Enter First Number\"))\n",
    "b = int(input(\"Enter Second Number\"))\n",
    "c = int(input(\"Enter Third Number\"))\n",
    "\n",
    "if a < b and b < c:\n",
    "    print(f'{a} is the smallest')\n",
    "elif b < c:\n",
    "    print(f'{b} is the smallest')\n",
    "else:\n",
    "    print(f'{c} is the smallest')"
   ]
  },
  {
   "cell_type": "code",
   "execution_count": 2,
   "id": "547f5891-f5a4-4532-9ec5-f8f0ac95079f",
   "metadata": {},
   "outputs": [
    {
     "name": "stdin",
     "output_type": "stream",
     "text": [
      "Enter First Number:  20\n",
      "Enter Second Number:  2\n",
      "Enter the operation /\n"
     ]
    },
    {
     "name": "stdout",
     "output_type": "stream",
     "text": [
      "10.0\n"
     ]
    }
   ],
   "source": [
    "#menu driven calculator\n",
    "\n",
    "fnum = int(input(\"Enter First Number: \"))\n",
    "snum = int(input(\"Enter Second Number: \"))\n",
    "\n",
    "op = input(\"Enter the operation\")\n",
    "if op == '+':\n",
    "    print(fnum + snum)\n",
    "elif op == '-':\n",
    "    print(fnum - snum)\n",
    "elif op == '*':\n",
    "    print(fnum * snum)\n",
    "elif op == '/':\n",
    "    print(fnum / snum)\n"
   ]
  },
  {
   "cell_type": "code",
   "execution_count": 6,
   "id": "1daad226-4741-4ebb-977e-949fca040291",
   "metadata": {},
   "outputs": [
    {
     "data": {
      "text/plain": [
       "120"
      ]
     },
     "execution_count": 6,
     "metadata": {},
     "output_type": "execute_result"
    }
   ],
   "source": [
    "import math\n",
    "math.factorial(5)\n",
    "math.sqrt(196)"
   ]
  },
  {
   "cell_type": "code",
   "execution_count": 12,
   "id": "137816d6-aab4-4270-97dc-d77a8f374dcc",
   "metadata": {
    "scrolled": true
   },
   "outputs": [
    {
     "name": "stdout",
     "output_type": "stream",
     "text": [
      "['False', 'None', 'True', 'and', 'as', 'assert', 'async', 'await', 'break', 'class', 'continue', 'def', 'del', 'elif', 'else', 'except', 'finally', 'for', 'from', 'global', 'if', 'import', 'in', 'is', 'lambda', 'nonlocal', 'not', 'or', 'pass', 'raise', 'return', 'try', 'while', 'with', 'yield']\n"
     ]
    }
   ],
   "source": [
    "import keyword\n",
    "print(keyword.kwlist)"
   ]
  },
  {
   "cell_type": "code",
   "execution_count": 9,
   "id": "f80ba8ab-6d85-4445-9455-5e82fd22752d",
   "metadata": {},
   "outputs": [
    {
     "name": "stdout",
     "output_type": "stream",
     "text": [
      "6\n"
     ]
    }
   ],
   "source": [
    "#random\n",
    "import random \n",
    "print(random.randint(1,10))"
   ]
  },
  {
   "cell_type": "code",
   "execution_count": 10,
   "id": "c1d215dc-e58d-4bde-a848-47cdef2e27f2",
   "metadata": {},
   "outputs": [
    {
     "name": "stdout",
     "output_type": "stream",
     "text": [
      "2025-06-14 10:51:47.275254\n"
     ]
    }
   ],
   "source": [
    "#datetime\n",
    "import datetime\n",
    "print(datetime.datetime.now())"
   ]
  },
  {
   "cell_type": "code",
   "execution_count": 15,
   "id": "a1a397ec-8080-4692-9d97-3a36391602c6",
   "metadata": {},
   "outputs": [
    {
     "name": "stdin",
     "output_type": "stream",
     "text": [
      "Enter the Number:  10\n"
     ]
    },
    {
     "name": "stdout",
     "output_type": "stream",
     "text": [
      "10\n",
      "20\n",
      "30\n",
      "40\n",
      "50\n",
      "60\n",
      "70\n",
      "80\n",
      "90\n",
      "100\n"
     ]
    }
   ],
   "source": [
    "number = int(input(\"Enter the Number: \"))\n",
    "\n",
    "i = 1\n",
    "while i<11:\n",
    "    print(number * i)\n",
    "    i += 1\n",
    "    "
   ]
  },
  {
   "cell_type": "code",
   "execution_count": 17,
   "id": "880b4106-c06b-48d6-b003-ca318673c398",
   "metadata": {},
   "outputs": [
    {
     "name": "stdin",
     "output_type": "stream",
     "text": [
      "Enter your Number 1\n"
     ]
    },
    {
     "name": "stdout",
     "output_type": "stream",
     "text": [
      "Wrong! Guess Higher\n"
     ]
    },
    {
     "name": "stdin",
     "output_type": "stream",
     "text": [
      "Enter your Number 2\n"
     ]
    },
    {
     "name": "stdout",
     "output_type": "stream",
     "text": [
      "Wrong! Guess Higher\n"
     ]
    },
    {
     "name": "stdin",
     "output_type": "stream",
     "text": [
      "Enter your Number 3\n"
     ]
    },
    {
     "name": "stdout",
     "output_type": "stream",
     "text": [
      "Wrong! Guess Higher\n"
     ]
    },
    {
     "name": "stdin",
     "output_type": "stream",
     "text": [
      "Enter your Number 4\n"
     ]
    },
    {
     "name": "stdout",
     "output_type": "stream",
     "text": [
      "Wrong! Guess Higher\n"
     ]
    },
    {
     "name": "stdin",
     "output_type": "stream",
     "text": [
      "Enter your Number 5\n"
     ]
    },
    {
     "name": "stdout",
     "output_type": "stream",
     "text": [
      "Wrong! Guess Higher\n"
     ]
    },
    {
     "name": "stdin",
     "output_type": "stream",
     "text": [
      "Enter your Number 6\n"
     ]
    },
    {
     "name": "stdout",
     "output_type": "stream",
     "text": [
      "Correct Guess\n",
      "Total guesses: 6\n"
     ]
    }
   ],
   "source": [
    "import random\n",
    "randomNumber = random.randint(1,10)\n",
    "counter = 1\n",
    "\n",
    "userInput = int(input(\"Enter your Number\"))\n",
    "\n",
    "while userInput != randomNumber:\n",
    "    if randomNumber < userInput:\n",
    "        print(\"Wrong! Guess Lower\")\n",
    "    else:\n",
    "        print(\"Wrong! Guess Higher\")\n",
    "\n",
    "    userInput = int(input(\"Enter your Number\"))\n",
    "    counter += 1\n",
    "\n",
    "else:\n",
    "    print(\"Correct Guess\")\n",
    "    print(f\"Total guesses: {counter}\")\n",
    "    "
   ]
  },
  {
   "cell_type": "code",
   "execution_count": 21,
   "id": "15b6ff33-00a5-4de7-90d6-1d2d83df4532",
   "metadata": {},
   "outputs": [
    {
     "name": "stdout",
     "output_type": "stream",
     "text": [
      "7\n",
      "14\n",
      "21\n",
      "28\n",
      "35\n",
      "42\n",
      "49\n",
      "56\n",
      "63\n",
      "70\n"
     ]
    }
   ],
   "source": [
    "#for loop\n",
    "n = 7\n",
    "for i in range(1,11):\n",
    "    print(n * i)"
   ]
  },
  {
   "cell_type": "code",
   "execution_count": null,
   "id": "1baf8f7e-2741-48d2-af89-8b2b48dd4f50",
   "metadata": {},
   "outputs": [],
   "source": []
  }
 ],
 "metadata": {
  "kernelspec": {
   "display_name": "Python [conda env:base] *",
   "language": "python",
   "name": "conda-base-py"
  },
  "language_info": {
   "codemirror_mode": {
    "name": "ipython",
    "version": 3
   },
   "file_extension": ".py",
   "mimetype": "text/x-python",
   "name": "python",
   "nbconvert_exporter": "python",
   "pygments_lexer": "ipython3",
   "version": "3.12.7"
  }
 },
 "nbformat": 4,
 "nbformat_minor": 5
}
