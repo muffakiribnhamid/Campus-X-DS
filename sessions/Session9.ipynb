{
 "cells": [
  {
   "cell_type": "code",
   "execution_count": 3,
   "id": "21a35e89-0363-4c5b-a977-025324502d63",
   "metadata": {},
   "outputs": [
    {
     "data": {
      "text/plain": [
       "<bound method Customer.print_address of <__main__.Customer object at 0x11dfe18b0>>"
      ]
     },
     "execution_count": 3,
     "metadata": {},
     "output_type": "execute_result"
    }
   ],
   "source": [
    "#Realtionship  between two classes\n",
    "\n",
    "#1. Aggregation\n",
    "# a specific type of association that represents a \"has-a\" relationship between classes, where one class contains or is composed of objects of another class\n",
    "\n",
    "\n",
    "class Customer:\n",
    "    def __init__(self,name,gender,address):\n",
    "        self.name = name\n",
    "        self.gender = gender\n",
    "        self.address = address\n",
    "\n",
    "    def print_address(self):\n",
    "        print(self.address.get_city(),self.address.pin,self.address.state)\n",
    "\n",
    "    def edit_profile(self,new_name,new_city,new_pin,new_state):\n",
    "        self.name = new_name\n",
    "        self.address.update_address(new_city,new_pin,new_state)\n",
    "\n",
    "\n",
    "\n",
    "class Address:\n",
    "    def __init__(self,city,pin,state):\n",
    "        self.__city = city\n",
    "        self.pin = pin\n",
    "        self.state = state\n",
    "\n",
    "    def get_city(self):\n",
    "        return self.__city\n",
    "\n",
    "    def update_address(self,new_city,new_pin,new_state):\n",
    "        self.__city = new_city\n",
    "        self.pin = new_pin\n",
    "        self.state = new_state\n",
    "\n",
    "add1 = Address(\"Kulgam\",192232,\"j&k\")\n",
    "cus1 = Customer(\"Muffakir\",\"Male\",add1)\n",
    "\n",
    "\n",
    "#this is called aggregation\n",
    "\n",
    "cus1.print_address()\n",
    "cus1.edit_profile(\"Salman\",\"Srinagar\",190001,\"J&K\")\n",
    "cus1.print_address()\n",
    "\n",
    "#We can't access private variables in aggregation in order to do so we need to create a getter function\n",
    "\n"
   ]
  },
  {
   "cell_type": "code",
   "execution_count": 6,
   "id": "562fc040-625c-4b03-90f6-114864824172",
   "metadata": {},
   "outputs": [
    {
     "name": "stdout",
     "output_type": "stream",
     "text": [
      "Muffakir\n",
      "123\n",
      "Login\n",
      "Enrolled in the course.\n"
     ]
    }
   ],
   "source": [
    " #Inheritance\n",
    "\n",
    "class User:\n",
    "    def __init__(self):\n",
    "        self.name = \"Muffakir\"\n",
    "        self.rollno = 123\n",
    "\n",
    "    def login(self):\n",
    "        print(\"Login\")\n",
    "\n",
    "\n",
    "#child\n",
    "class Student(User):\n",
    "    def enroll(self):\n",
    "        print(\"Enrolled in the course.\")\n",
    "\n",
    "u = User()\n",
    "s = Student()\n",
    "\n",
    "print(s.name)\n",
    "print(s.rollno)\n",
    "u.login()\n",
    "s.enroll()\n"
   ]
  },
  {
   "cell_type": "code",
   "execution_count": null,
   "id": "155f18da-78cb-4c1d-96cc-27f1c1c7229b",
   "metadata": {},
   "outputs": [],
   "source": [
    "\"\"\"\n",
    "What gets inherited:\n",
    "- Constructor\n",
    "- Non Private Attributes\n",
    "- Non Private Methods \n",
    "\"\"\""
   ]
  },
  {
   "cell_type": "code",
   "execution_count": 7,
   "id": "0416a17a-3a55-482b-8abd-501c0506fda0",
   "metadata": {},
   "outputs": [
    {
     "name": "stdout",
     "output_type": "stream",
     "text": [
      "Inside phone constructor\n",
      "Buying a phone\n"
     ]
    }
   ],
   "source": [
    "# constructor example\n",
    "#Inheriting constructor: \n",
    "\n",
    "\n",
    "class Phone:\n",
    "    def __init__(self, price, brand, camera):\n",
    "        print (\"Inside phone constructor\")\n",
    "        self.price = price\n",
    "        self.brand = brand\n",
    "        self.camera = camera\n",
    "\n",
    "    def buy(self):\n",
    "        print (\"Buying a phone\")\n",
    "\n",
    "class SmartPhone(Phone):\n",
    "    pass\n",
    "\n",
    "s=SmartPhone(20000, \"Apple\", 13)\n",
    "s.buy()"
   ]
  },
  {
   "cell_type": "code",
   "execution_count": null,
   "id": "8896ea9a-ec13-4f72-a695-004c3f2532ae",
   "metadata": {},
   "outputs": [],
   "source": [
    "# constructor example 2\n",
    "\n",
    "class Phone:\n",
    "    def __init__(self, price, brand, camera):\n",
    "        print (\"Inside phone constructor\")\n",
    "        self.__price = price\n",
    "        self.brand = brand\n",
    "        self.camera = camera\n",
    "\n",
    "class SmartPhone(Phone):x\n",
    "    def __init__(self, os, ram):\n",
    "        self.os = os\n",
    "        self.ram = ram\n",
    "        print (\"Inside SmartPhone constructor\")\n",
    "\n",
    "s=SmartPhone(\"Android\", 2)\n",
    "s.brand\n",
    "\n",
    "#if child have it is own constructor it won't ever call parent's constructor and it's variables cant be used\n",
    "\n",
    "#child can't access private members of the class\n",
    "\n",
    "\n"
   ]
  },
  {
   "cell_type": "code",
   "execution_count": 11,
   "id": "c979754e-95be-4935-ab79-d505b03d1ce8",
   "metadata": {},
   "outputs": [
    {
     "name": "stdout",
     "output_type": "stream",
     "text": [
      "Inside phone constructor\n",
      "200\n"
     ]
    }
   ],
   "source": [
    "class Phone:\n",
    "    def __init__(self, price, brand, camera):\n",
    "        print (\"Inside phone constructor\")\n",
    "        self.__price = price\n",
    "        self.brand = brand\n",
    "        self.camera = camera\n",
    "        \n",
    "    def show(self):\n",
    "        print(self.__price)\n",
    "\n",
    "class SmartPhone(Phone):\n",
    "    def check(self):\n",
    "        print(self.__price)\n",
    "\n",
    "s=SmartPhone(200,\"Apple\",\"100MP\")\n",
    "s.show()\n"
   ]
  },
  {
   "cell_type": "code",
   "execution_count": null,
   "id": "da2fc3d8-f08a-4ac6-a3f9-fb42375ad4be",
   "metadata": {},
   "outputs": [],
   "source": []
  }
 ],
 "metadata": {
  "kernelspec": {
   "display_name": "Python [conda env:base] *",
   "language": "python",
   "name": "conda-base-py"
  },
  "language_info": {
   "codemirror_mode": {
    "name": "ipython",
    "version": 3
   },
   "file_extension": ".py",
   "mimetype": "text/x-python",
   "name": "python",
   "nbconvert_exporter": "python",
   "pygments_lexer": "ipython3",
   "version": "3.12.7"
  }
 },
 "nbformat": 4,
 "nbformat_minor": 5
}
