{
 "cells": [
  {
   "cell_type": "code",
   "execution_count": 2,
   "id": "77d944ae-902f-493f-a538-c59f6544d3ed",
   "metadata": {},
   "outputs": [
    {
     "name": "stdout",
     "output_type": "stream",
     "text": [
      "('h', 'e', 'l', 'l', 'o')\n"
     ]
    }
   ],
   "source": [
    "#Tuples: \n",
    "# A tuple in Python is similar to a list. The difference between the two is that we cannot change\n",
    "# the elements of a tuple once it is assigned whereas we can change the elements of a list\n",
    "\n",
    "# Characterstics\n",
    "\n",
    "# - Ordered\n",
    "# - Unchangeble\n",
    "# - Allows duplicate\n",
    "\n",
    "\n",
    "\n",
    "t1 = (1,)\n",
    "type(t1)\n",
    "\n",
    "#homo\n",
    "t2 = (1,2,3,4)\n",
    "#hetro \n",
    "t3 = (1,\"Hello\",True)\n",
    "#Tuple\n",
    "t4 = (1,2,3,(1,2))\n",
    "#using type conversion\n",
    "t6 = tuple('hello')\n",
    "print(t6)"
   ]
  },
  {
   "cell_type": "code",
   "execution_count": 3,
   "id": "136da2f7-4e2e-456c-bf79-e7c1d9e24c7e",
   "metadata": {},
   "outputs": [
    {
     "name": "stdout",
     "output_type": "stream",
     "text": [
      "1\n",
      "4\n"
     ]
    }
   ],
   "source": [
    "# Acessing Items\n",
    "\n",
    "#Using Indexing\n",
    "print(t2[0])\n",
    "print(t2[-1])\n",
    "\n"
   ]
  },
  {
   "cell_type": "code",
   "execution_count": 4,
   "id": "2ddfd25c-297e-45df-9c52-d09581791048",
   "metadata": {},
   "outputs": [
    {
     "name": "stdout",
     "output_type": "stream",
     "text": [
      "(2, 3)\n"
     ]
    }
   ],
   "source": [
    "#Slicing\n",
    "print(t2[1:3])"
   ]
  },
  {
   "cell_type": "code",
   "execution_count": null,
   "id": "addc61e4-c087-4cef-9fa7-bad6407e79f3",
   "metadata": {},
   "outputs": [],
   "source": [
    "#Editing Items\n",
    "#Tuples are immutable so they can't be edited"
   ]
  },
  {
   "cell_type": "code",
   "execution_count": null,
   "id": "ec1b6386-6292-4b72-9626-116ed81ea021",
   "metadata": {},
   "outputs": [],
   "source": [
    "#Adding Items\n",
    "#It is also not possible, because you can't add items"
   ]
  },
  {
   "cell_type": "code",
   "execution_count": 6,
   "id": "29c8c6db-5edc-4ae8-a385-814fb9b92b1f",
   "metadata": {},
   "outputs": [],
   "source": [
    "#Deleting Items\n",
    "#you can delete a entire tuple but not a item in it\n"
   ]
  },
  {
   "cell_type": "code",
   "execution_count": 13,
   "id": "2a5c9c78-d33d-4b8b-9081-e65d137dcbbc",
   "metadata": {},
   "outputs": [
    {
     "name": "stdout",
     "output_type": "stream",
     "text": [
      "(1, 2, 3, 4, 5, 6, 7, 8)\n",
      "(1, 2, 3, 4, 1, 2, 3, 4)\n",
      "1\n",
      "2\n",
      "3\n",
      "4\n"
     ]
    }
   ],
   "source": [
    "#operation on tuple\n",
    "# + and *\n",
    "t1 = (1,2,3,4)\n",
    "t2 = (5,6,7,8)\n",
    "print(t1+t2)\n",
    "print(t1*2)\n",
    "\n",
    "\n",
    "#membership \n",
    "1 in t1 #true\n",
    "#iteration\n",
    "for i in t1:\n",
    "    print(i)\n"
   ]
  },
  {
   "cell_type": "code",
   "execution_count": 17,
   "id": "64b53f8d-85d5-44d2-8fea-56c2e90301d7",
   "metadata": {},
   "outputs": [
    {
     "name": "stdout",
     "output_type": "stream",
     "text": [
      "21\n",
      "6\n",
      "1\n",
      "6\n"
     ]
    },
    {
     "data": {
      "text/plain": [
       "[6, 5, 4, 3, 2, 1]"
      ]
     },
     "execution_count": 17,
     "metadata": {},
     "output_type": "execute_result"
    }
   ],
   "source": [
    "#tuple functions \n",
    "#len / sum / min / max / sorted\n",
    "\n",
    "t = (1,2,3,4,5,6)\n",
    "print(sum(t))\n",
    "print(len(t))\n",
    "print(min(t))\n",
    "print(max(t))\n",
    "sorted(t,reverse=True)"
   ]
  },
  {
   "cell_type": "code",
   "execution_count": 18,
   "id": "8b4e2294-ceeb-4674-8147-6857cd429bdf",
   "metadata": {},
   "outputs": [
    {
     "data": {
      "text/plain": [
       "1"
      ]
     },
     "execution_count": 18,
     "metadata": {},
     "output_type": "execute_result"
    }
   ],
   "source": [
    "#count\n",
    "t = (1,2,3,4,5,6)\n",
    "t.count(1)"
   ]
  },
  {
   "cell_type": "code",
   "execution_count": 19,
   "id": "175f8ffc-0a39-4029-a847-5ef28812c3a3",
   "metadata": {},
   "outputs": [
    {
     "data": {
      "text/plain": [
       "4"
      ]
     },
     "execution_count": 19,
     "metadata": {},
     "output_type": "execute_result"
    }
   ],
   "source": [
    "#index\n",
    "t.index(5)"
   ]
  },
  {
   "cell_type": "code",
   "execution_count": null,
   "id": "41e683fd-7507-4e59-9a8f-ec6b717b8643",
   "metadata": {},
   "outputs": [],
   "source": [
    "#Difference bw List and Tuple\n",
    "\n",
    "# - Syntax \n",
    "# - Mutability : Tuples are immutable\n",
    "# - Speed : Tuples are faster as compared to lists\n",
    "# - Memory : Tuples take less space as compared to lists\n",
    "# - Built in functionality\n",
    "# - Error prone\n",
    "# - Usability\n",
    "\n",
    "\n",
    "\n",
    "\n"
   ]
  },
  {
   "cell_type": "code",
   "execution_count": 20,
   "id": "6c4006a3-1c7e-4a57-97f1-b9238ad3fd4c",
   "metadata": {},
   "outputs": [
    {
     "name": "stdout",
     "output_type": "stream",
     "text": [
      "1 2 3\n"
     ]
    }
   ],
   "source": [
    "#Tuple unpacking\n",
    "\n",
    "a,b,c = (1,2,3)\n",
    "print(a,b,c)"
   ]
  },
  {
   "cell_type": "code",
   "execution_count": null,
   "id": "8132e988-cfef-4716-bb5e-862439ecd104",
   "metadata": {},
   "outputs": [],
   "source": [
    "a,b = (1,2,3)\n",
    "print(a,b)\n",
    "\n",
    "#error: too many values to unpack (expected 2)\n",
    " "
   ]
  },
  {
   "cell_type": "code",
   "execution_count": 22,
   "id": "8b8ad146-6f28-476c-a3f1-2bc0f6294b72",
   "metadata": {},
   "outputs": [
    {
     "name": "stdout",
     "output_type": "stream",
     "text": [
      "2\n",
      "1\n"
     ]
    }
   ],
   "source": [
    "#swapping values\n",
    "a = 1\n",
    "b = 2\n",
    "a,b = b,a\n",
    "print(a)\n",
    "print(b)"
   ]
  },
  {
   "cell_type": "code",
   "execution_count": 23,
   "id": "b1bdb9fc-8df4-4170-ae46-0afe5ed28dd5",
   "metadata": {},
   "outputs": [
    {
     "name": "stdout",
     "output_type": "stream",
     "text": [
      "1 2\n",
      "[3, 5, 6]\n"
     ]
    }
   ],
   "source": [
    "a,b,*others = (1,2,3,5,6)\n",
    "print(a,b)\n",
    "print(others)"
   ]
  },
  {
   "cell_type": "code",
   "execution_count": 24,
   "id": "55101868-5bf7-40c1-8f8b-e016875b035e",
   "metadata": {},
   "outputs": [
    {
     "data": {
      "text/plain": [
       "((1, 5), (2, 6), (3, 7), (4, 8))"
      ]
     },
     "execution_count": 24,
     "metadata": {},
     "output_type": "execute_result"
    }
   ],
   "source": [
    "#Zippig Tuples\n",
    "a = (1,2,3,4)\n",
    "b = (5,6,7,8)\n",
    "tuple(zip(a,b))"
   ]
  },
  {
   "cell_type": "code",
   "execution_count": null,
   "id": "d2be6be1-8dd7-497a-bb68-ce6e4cbb554c",
   "metadata": {},
   "outputs": [],
   "source": [
    "#Sets\n",
    "# A set is an unordered collection of items. Every set element is unique (no duplicates)\n",
    "# and must be immutable (cannot be changed).\n",
    "\n",
    "# However, a set itself is mutable. We can add or remove items from it.\n",
    "\n",
    "# Characterstics:\n",
    "# - Unordered\n",
    "# - Mutable\n",
    "# - No Duplicates\n",
    "# - Can't contain mutable data types\n"
   ]
  },
  {
   "cell_type": "code",
   "execution_count": 33,
   "id": "a7f0fda5-304c-4584-aafb-d8b6bedda8b7",
   "metadata": {},
   "outputs": [
    {
     "name": "stdout",
     "output_type": "stream",
     "text": [
      "set()\n",
      "<class 'set'>\n",
      "{1, 2, 3, 4}\n",
      "{1, (1, 2, 3), 'hello', 4.5}\n",
      "{1, 2, 3}\n",
      "{1, 2, 3}\n"
     ]
    }
   ],
   "source": [
    "#empty\n",
    "s = set()\n",
    "print(s)\n",
    "print(type(s))\n",
    "\n",
    "#1D and 2D\n",
    "s1 = {1,2,3,4}\n",
    "# s2 = {1,2,3,{4,5,6}} # error coz sets can't contain mutable items\n",
    "print(s1)\n",
    "# print(s2)\n",
    "\n",
    "#homo and hetro\n",
    "s3 = {1,'hello',4.5,(1,2,3),True}\n",
    "print(s3)\n",
    "# using type conversion\n",
    "\n",
    "s4 = set([1,2,3])\n",
    "print(s4)\n",
    "# duplicates not allowed\n",
    "s5 = {1,1,2,2,3,3}\n",
    "print(s5)\n",
    "# set can't have mutable items\n",
    "# s6 = {1,2,[3,4]}\n",
    "# print(s6)\n"
   ]
  },
  {
   "cell_type": "code",
   "execution_count": 29,
   "id": "6c185dad-2fa9-475e-8c3d-50a1fb84fa1f",
   "metadata": {},
   "outputs": [
    {
     "name": "stdout",
     "output_type": "stream",
     "text": [
      "way\n"
     ]
    }
   ],
   "source": [
    "s = \"hello\"\n",
    "print(s)"
   ]
  },
  {
   "cell_type": "code",
   "execution_count": null,
   "id": "1b12c5af-7d68-40be-9bf8-9b7488299b9d",
   "metadata": {},
   "outputs": [],
   "source": [
    "#Accessing items is not possible in sets\n",
    "#Editing items is not possible either"
   ]
  },
  {
   "cell_type": "code",
   "execution_count": 36,
   "id": "183f7171-6452-4071-b7e9-a53e81bbd19d",
   "metadata": {},
   "outputs": [
    {
     "name": "stdout",
     "output_type": "stream",
     "text": [
      "{1, 2, 3, 4, 5, 6, 7, 8}\n"
     ]
    }
   ],
   "source": [
    "#Adding items\n",
    "\n",
    "s = {1,2,3,4}\n",
    "s.add(5) #adds a single item\n",
    "s.update([5,6,7,8]) #adds multiple item\n",
    "print(s)"
   ]
  },
  {
   "cell_type": "code",
   "execution_count": null,
   "id": "59a10730-6e45-4c77-ae87-a176b0f34ab5",
   "metadata": {},
   "outputs": [],
   "source": [
    "# del\n",
    "s = {1,2,3,4,5}\n",
    "# print(s)\n",
    "# del s[0]  deletes whole set\n",
    "# print(s)\n",
    "# discard # removes an item, but not throws error if the item is not present\n",
    "# s.discard(50)\n",
    "# print(s)\n",
    "# remove\n",
    "# s.remove(50) # same as discard but throws error if item not found\n",
    "# print(s)\n",
    "# pop\n",
    "# s.pop() # removes a random item\n",
    "# clear\n",
    "s.clear() # makes whole set empty\n",
    "print(s)"
   ]
  },
  {
   "cell_type": "code",
   "execution_count": 51,
   "id": "8176dac6-bd2a-41cf-b61b-13373bb285ee",
   "metadata": {},
   "outputs": [
    {
     "name": "stdout",
     "output_type": "stream",
     "text": [
      "{4}\n"
     ]
    },
    {
     "data": {
      "text/plain": [
       "{1, 2, 3, 5, 6, 7, 8, 9}"
      ]
     },
     "execution_count": 51,
     "metadata": {},
     "output_type": "execute_result"
    }
   ],
   "source": [
    "#Set Operations\n",
    "s1 = {1,2,3,4,5}\n",
    "s2 = {4,6,7,8,9}\n",
    "\n",
    "#Union : | : Unites both the sets\n",
    "# s1 | s2\n",
    "\n",
    "#Intersection : & : Finds common in both the sets\n",
    "print(s1 & s2)\n",
    "\n",
    "#Differnece\n",
    "# s1 - s2 those elements of s1 which are not in s2\n",
    "# s2 - s1 those elements of s2 which are not in s1\n",
    "\n",
    "# Symmetric Differnece(^)\n",
    "# s1 ^ s2 Except common elements every others gets printed\n",
    "\n"
   ]
  },
  {
   "cell_type": "code",
   "execution_count": 52,
   "id": "d34108aa-8f46-4d90-a11b-43bdcaa3d6ae",
   "metadata": {},
   "outputs": [
    {
     "data": {
      "text/plain": [
       "[7, 5, 4, 3, 2, 1]"
      ]
     },
     "execution_count": 52,
     "metadata": {},
     "output_type": "execute_result"
    }
   ],
   "source": [
    "# len/sum/min/max/sorted\n",
    "s = {3,1,4,5,2,7}\n",
    "len(s)\n",
    "sum(s)\n",
    "min(s)\n",
    "max(s)\n",
    "sorted(s,reverse=True)"
   ]
  },
  {
   "cell_type": "code",
   "execution_count": 55,
   "id": "d1174b79-bc8b-4560-9905-ea6900fd3a40",
   "metadata": {},
   "outputs": [
    {
     "name": "stdout",
     "output_type": "stream",
     "text": [
      "{1, 2, 3, 4, 5, 6, 7, 8}\n",
      "{4, 5, 6, 7, 8}\n"
     ]
    }
   ],
   "source": [
    "# union/update\n",
    "s1 = {1,2,3,4,5}\n",
    "s2 = {4,5,6,7,8}\n",
    "\n",
    "# s1 | s2\n",
    "s1.union(s2)\n",
    "\n",
    "s1.update(s2)\n",
    "print(s1)\n",
    "print(s2)"
   ]
  },
  {
   "cell_type": "code",
   "execution_count": 56,
   "id": "8277a5f9-47b1-4ec9-8932-7e9e8498de50",
   "metadata": {},
   "outputs": [
    {
     "name": "stdout",
     "output_type": "stream",
     "text": [
      "{4, 5}\n",
      "{4, 5, 6, 7, 8}\n"
     ]
    }
   ],
   "source": [
    "# intersection/intersection_update\n",
    "s1 = {1,2,3,4,5}\n",
    "s2 = {4,5,6,7,8}\n",
    "\n",
    "s1.intersection(s2)\n",
    "\n",
    "s1.intersection_update(s2)\n",
    "print(s1)\n",
    "print(s2)"
   ]
  },
  {
   "cell_type": "code",
   "execution_count": 57,
   "id": "60fcb425-cfd2-45eb-882f-42848e57cf43",
   "metadata": {},
   "outputs": [
    {
     "name": "stdout",
     "output_type": "stream",
     "text": [
      "{1, 2, 3}\n",
      "{4, 5, 6, 7, 8}\n"
     ]
    }
   ],
   "source": [
    "# difference/difference_update\n",
    "s1 = {1,2,3,4,5}\n",
    "s2 = {4,5,6,7,8}\n",
    "\n",
    "s1.difference(s2)\n",
    "\n",
    "s1.difference_update(s2)\n",
    "print(s1)\n",
    "print(s2)"
   ]
  },
  {
   "cell_type": "code",
   "execution_count": 59,
   "id": "a0cb99b6-09b3-402a-b5e5-995e0f903e3f",
   "metadata": {},
   "outputs": [
    {
     "data": {
      "text/plain": [
       "False"
      ]
     },
     "execution_count": 59,
     "metadata": {},
     "output_type": "execute_result"
    }
   ],
   "source": [
    "# isdisjoint/issubset/issuperset\n",
    "s1 = {1,2,3,4}\n",
    "s2 = {4,7,8,5,6}\n",
    "\n",
    "s1.isdisjoint(s2)"
   ]
  },
  {
   "cell_type": "code",
   "execution_count": null,
   "id": "87d4a826-a3ec-4a4e-975e-ebfac5c6b511",
   "metadata": {},
   "outputs": [],
   "source": [
    "#Frozen Set\n",
    "# Frozen set is just an immutable version of a Python set object\n",
    "\n",
    "# what works and what does not\n",
    "# works -> all read functions\n",
    "# does't work -> write operations"
   ]
  },
  {
   "cell_type": "code",
   "execution_count": 60,
   "id": "b866f8be-6a64-4edf-b588-92000623875f",
   "metadata": {},
   "outputs": [
    {
     "data": {
      "text/plain": [
       "frozenset({1, 2, frozenset({3, 4})})"
      ]
     },
     "execution_count": 60,
     "metadata": {},
     "output_type": "execute_result"
    }
   ],
   "source": [
    "# When to use\n",
    "# 2D sets\n",
    "fs = frozenset([1,2,frozenset([3,4])])\n",
    "fs"
   ]
  },
  {
   "cell_type": "code",
   "execution_count": 61,
   "id": "fca301de-9a83-45b3-9a53-149ec9936583",
   "metadata": {},
   "outputs": [
    {
     "data": {
      "text/plain": [
       "{1, 4, 9, 16, 25, 36, 49, 64, 81}"
      ]
     },
     "execution_count": 61,
     "metadata": {},
     "output_type": "execute_result"
    }
   ],
   "source": [
    "#Set Comprehension\n",
    "{i**2 for i in range(1,10)}"
   ]
  },
  {
   "cell_type": "code",
   "execution_count": null,
   "id": "3289bd4b-68ea-4335-8ef8-b7209f3cf2bb",
   "metadata": {},
   "outputs": [],
   "source": [
    "#Dictionary in Python is a collection of keys values, used to store data values like a map, \n",
    "# which, unlike other data types which hold only a single value as an element.\n",
    "# - Mutable\n",
    "# - Indexing has no meaning\n",
    "# - keys can't be duplicated\n",
    "# - keys can't be mutable items"
   ]
  },
  {
   "cell_type": "code",
   "execution_count": 62,
   "id": "6d80e6cd-11fc-4c6e-be1b-95f1ffaa1f11",
   "metadata": {},
   "outputs": [
    {
     "name": "stdout",
     "output_type": "stream",
     "text": [
      "{'name': 'nitish', (1, 2, 3): 2}\n"
     ]
    }
   ],
   "source": [
    "# empty dictionary\n",
    "d = {}\n",
    "d\n",
    "# 1D dictionary\n",
    "d1 = { 'name' : 'nitish' ,'gender' : 'male' }\n",
    "d1\n",
    "# with mixed keys\n",
    "d2 = {(1,2,3):1,'hello':'world'}\n",
    "d2\n",
    "# 2D dictionary -> JSON\n",
    "s = {\n",
    "    'name':'nitish',\n",
    "     'college':'bit',\n",
    "     'sem':4,\n",
    "     'subjects':{\n",
    "         'dsa':50,\n",
    "         'maths':67,\n",
    "         'english':34\n",
    "     }\n",
    "}\n",
    "s\n",
    "# using sequence and dict function\n",
    "d4 = dict([('name','nitish'),('age',32),(3,3)])\n",
    "d4\n",
    "# duplicate keys\n",
    "d5 = {'name':'nitish','name':'rahul'}\n",
    "d5\n",
    "# mutable items as keys\n",
    "d6 = {'name':'nitish',(1,2,3):2}\n",
    "print(d6)"
   ]
  },
  {
   "cell_type": "code",
   "execution_count": null,
   "id": "6e0fd307-26ca-4d53-afe1-d3a172190230",
   "metadata": {},
   "outputs": [],
   "source": [
    "d = {'name': 'nitish', 'age': 32, 3: 3, 'gender': 'male', 'weight': 72}\n",
    "# pop\n",
    "#d.pop(3)\n",
    "#print(d)\n",
    "# popitem\n",
    "#d.popitem()\n",
    "# d.popitem()\n",
    "# print(d)\n",
    "# del\n",
    "#del d['name']\n",
    "#print(d)\n",
    "# clear\n",
    "d.clear()\n",
    "print(d)\n",
    "\n",
    "del s['subjects']['maths']\n"
   ]
  },
  {
   "cell_type": "code",
   "execution_count": null,
   "id": "ef2b906b-551c-42bd-a4e2-28c79014ac62",
   "metadata": {},
   "outputs": [],
   "source": [
    "# len/sorted\n",
    "len(d)\n",
    "print(d)\n",
    "sorted(d,reverse=True)\n",
    "max(d)"
   ]
  }
 ],
 "metadata": {
  "kernelspec": {
   "display_name": "Python [conda env:base] *",
   "language": "python",
   "name": "conda-base-py"
  },
  "language_info": {
   "codemirror_mode": {
    "name": "ipython",
    "version": 3
   },
   "file_extension": ".py",
   "mimetype": "text/x-python",
   "name": "python",
   "nbconvert_exporter": "python",
   "pygments_lexer": "ipython3",
   "version": "3.12.7"
  }
 },
 "nbformat": 4,
 "nbformat_minor": 5
}
