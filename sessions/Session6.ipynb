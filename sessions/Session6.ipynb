{
 "cells": [
  {
   "cell_type": "code",
   "execution_count": 2,
   "id": "0181153d-442c-4ddf-a374-e8b68fff26d1",
   "metadata": {},
   "outputs": [
    {
     "data": {
      "text/plain": [
       "'It is a odd Number.'"
      ]
     },
     "execution_count": 2,
     "metadata": {},
     "output_type": "execute_result"
    }
   ],
   "source": [
    "#Functions in Python\n",
    "\n",
    "def isEven(n):\n",
    "    \"\"\"\n",
    "    This function returns if a given number is odd or even\n",
    "    input - any valid integer\n",
    "    output - odd/even\n",
    "    \"\"\"\n",
    "    if n % 2 == 0:\n",
    "        return (\"It is a Even Number.\")\n",
    "    else:\n",
    "        return (\"It is a odd Number.\")\n",
    "\n",
    "\n",
    "isEven(2)\n",
    "isEven(3)\n"
   ]
  },
  {
   "cell_type": "code",
   "execution_count": 10,
   "id": "bb78e40d-8318-4c79-b26c-d6d29f5584b1",
   "metadata": {},
   "outputs": [
    {
     "data": {
      "text/plain": [
       "24"
      ]
     },
     "execution_count": 10,
     "metadata": {},
     "output_type": "execute_result"
    }
   ],
   "source": [
    "#*args and **kwargs are speical Python keywords that are used to pass the variable length of arguments to a function\n",
    "\n",
    "def multiply(*args):\n",
    "    product = 1\n",
    "    for i in args:\n",
    "        product *= i\n",
    "    return product\n",
    "\n",
    "multiply(1,2,3,4)\n"
   ]
  },
  {
   "cell_type": "code",
   "execution_count": 19,
   "id": "be8cf3f4-8983-4497-8347-788b50ad0837",
   "metadata": {},
   "outputs": [
    {
     "name": "stdout",
     "output_type": "stream",
     "text": [
      "(1, 2, 3)\n",
      "{'india': 'delhi', 'pak': 'karachi'}\n",
      "india delhi\n",
      "pak karachi\n"
     ]
    }
   ],
   "source": [
    "#**kwargs -> allows us to pass any number of keyword arguments\n",
    "#keyword arguments mean that they contain a key-value pair, like a Python dictionary.\n",
    "\n",
    "def capital(*args,**kwargs):\n",
    "    print(args)\n",
    "    print(kwargs)\n",
    "    for (key,value) in kwargs.items():\n",
    "        print(key,value)\n",
    "\n",
    "\n",
    "capital(1,2,3,india=\"delhi\",pak=\"karachi\")\n",
    "\n",
    "\n",
    "#args will come first, kwargs will come second\n"
   ]
  },
  {
   "cell_type": "code",
   "execution_count": null,
   "id": "cd1b0b35-00b7-4636-97d8-06f0d9830506",
   "metadata": {},
   "outputs": [],
   "source": [
    "#Functions in python are first class citizens\n"
   ]
  },
  {
   "cell_type": "code",
   "execution_count": 10,
   "id": "4a280164-dcf8-450e-9910-a14bd1abc9ff",
   "metadata": {},
   "outputs": [
    {
     "name": "stdout",
     "output_type": "stream",
     "text": [
      "<class 'function'>\n",
      "5337033408\n"
     ]
    }
   ],
   "source": [
    "#type and id\n",
    "def square(n):\n",
    "    return n ** 2\n",
    "\n",
    "print(type(square))\n",
    "print(id(square))"
   ]
  },
  {
   "cell_type": "code",
   "execution_count": 11,
   "id": "d4833d17-51c9-486d-9aa3-624513557f06",
   "metadata": {},
   "outputs": [
    {
     "name": "stdout",
     "output_type": "stream",
     "text": [
      "5337033408\n"
     ]
    },
    {
     "data": {
      "text/plain": [
       "9"
      ]
     },
     "execution_count": 11,
     "metadata": {},
     "output_type": "execute_result"
    }
   ],
   "source": [
    "#reassign\n",
    "x = square\n",
    "print(id(x))\n",
    "x(3)"
   ]
  },
  {
   "cell_type": "code",
   "execution_count": 12,
   "id": "8928593c-131d-44cf-acdd-75d037d11167",
   "metadata": {},
   "outputs": [
    {
     "data": {
      "text/plain": [
       "9"
      ]
     },
     "execution_count": 12,
     "metadata": {},
     "output_type": "execute_result"
    }
   ],
   "source": [
    "#deleting a function\n",
    "#del square\n",
    "square(3) #Square is not defined"
   ]
  },
  {
   "cell_type": "code",
   "execution_count": 13,
   "id": "44a89d0e-bc89-492b-aa26-29ccd25275d9",
   "metadata": {},
   "outputs": [
    {
     "data": {
      "text/plain": [
       "16"
      ]
     },
     "execution_count": 13,
     "metadata": {},
     "output_type": "execute_result"
    }
   ],
   "source": [
    "#storing\n",
    "L = [1,2,3,4,square]\n",
    "L[-1](4) #GIVES 16"
   ]
  },
  {
   "cell_type": "code",
   "execution_count": 16,
   "id": "2a40e98e-4f4c-4962-a411-74acfb359b38",
   "metadata": {},
   "outputs": [
    {
     "data": {
      "text/plain": [
       "{<function __main__.square(n)>}"
      ]
     },
     "execution_count": 16,
     "metadata": {},
     "output_type": "execute_result"
    }
   ],
   "source": [
    "#Functions in python are immutable"
   ]
  },
  {
   "cell_type": "code",
   "execution_count": 17,
   "id": "2fa5e253-b7b7-4751-b883-4736b37f2fa2",
   "metadata": {},
   "outputs": [
    {
     "name": "stdout",
     "output_type": "stream",
     "text": [
      "7\n"
     ]
    }
   ],
   "source": [
    "#returning a function\n",
    "def f():\n",
    "    def x(a,b):\n",
    "        return a+b\n",
    "    return x\n",
    "\n",
    "val = f()(3,4)\n",
    "print(val)"
   ]
  },
  {
   "cell_type": "code",
   "execution_count": 20,
   "id": "f6468b75-8503-40eb-a048-bab509e194eb",
   "metadata": {},
   "outputs": [
    {
     "name": "stdout",
     "output_type": "stream",
     "text": [
      "Inside func_B\n",
      "<function func_a at 0x13e1c98a0>\n"
     ]
    }
   ],
   "source": [
    "#Passing functions as args\n",
    "def func_a():\n",
    "    print(\"Inside func_A\")\n",
    "\n",
    "def func_b(z):\n",
    "    print(\"Inside func_B\")\n",
    "    return z\n",
    "\n",
    "print(func_b(func_a))"
   ]
  },
  {
   "cell_type": "code",
   "execution_count": 22,
   "id": "4c0345e7-5699-4bee-b6f1-0e19c2a5b404",
   "metadata": {},
   "outputs": [
    {
     "name": "stdout",
     "output_type": "stream",
     "text": [
      "9801\n"
     ]
    }
   ],
   "source": [
    "#Lambda Functions : Is a small annonymus function\n",
    "\n",
    "#A lambda function can take any args but can only have one expression.\n",
    "\n",
    "lambda x:x**2\n",
    "lam = x(99)\n",
    "print(lam)\n"
   ]
  },
  {
   "cell_type": "code",
   "execution_count": null,
   "id": "0a6a2e7f-c7d8-4228-99e8-9ffb39b34ea9",
   "metadata": {},
   "outputs": [],
   "source": [
    "# Difference bw lambda vs normal function\n",
    "\n",
    "\"\"\"\n",
    "No name\n",
    "lambda has no return value\n",
    "lambda is written in 1 line\n",
    "not reusable\n",
    "\"\"\"\n",
    "\n"
   ]
  },
  {
   "cell_type": "code",
   "execution_count": 23,
   "id": "c1cadced-6773-4b7b-9dab-1c51a3ccc1cf",
   "metadata": {},
   "outputs": [
    {
     "name": "stdout",
     "output_type": "stream",
     "text": [
      "False\n"
     ]
    }
   ],
   "source": [
    "#check if a string has 'a'\n",
    "a = lambda x : 'a' in x\n",
    "print(a('hello'))"
   ]
  },
  {
   "cell_type": "code",
   "execution_count": 27,
   "id": "27b378a1-26a2-41ee-a05a-483abcf1397f",
   "metadata": {},
   "outputs": [
    {
     "name": "stdout",
     "output_type": "stream",
     "text": [
      "even\n"
     ]
    }
   ],
   "source": [
    "#odd or even\n",
    "b = lambda x : 'even' if x % 2 == 0 else 'odd'\n",
    "print(b(2))"
   ]
  },
  {
   "cell_type": "code",
   "execution_count": 43,
   "id": "1cdb8d56-d466-4732-a6f6-16013c92a4bc",
   "metadata": {},
   "outputs": [
    {
     "name": "stdout",
     "output_type": "stream",
     "text": [
      "False\n"
     ]
    }
   ],
   "source": [
    "c = lambda x : 11 in x\n",
    "print(c([1,2,3]))"
   ]
  },
  {
   "cell_type": "code",
   "execution_count": 51,
   "id": "47502ea8-13e7-4766-b367-e77fe391bf21",
   "metadata": {},
   "outputs": [
    {
     "data": {
      "text/plain": [
       "[1, 8, 27, 64, 125]"
      ]
     },
     "execution_count": 51,
     "metadata": {},
     "output_type": "execute_result"
    }
   ],
   "source": [
    "#Higher Order funtion\n",
    "# A function which returns or takes input as function are known as HOF\n",
    "def square(n):\n",
    "    return n**2\n",
    "def transform(f,L):\n",
    "    output = []\n",
    "    for i in L:\n",
    "        output.append(f(i))\n",
    "    return output\n",
    "\n",
    "L = [1,2,3,4,5]\n",
    "#we can use lambda function as well\n",
    "transform(lambda x:x**3, L)\n"
   ]
  },
  {
   "cell_type": "code",
   "execution_count": 52,
   "id": "4a14e564-c0ea-4da2-8cbe-1e56db4df810",
   "metadata": {},
   "outputs": [
    {
     "data": {
      "text/plain": [
       "[1, 4, 9, 16]"
      ]
     },
     "execution_count": 52,
     "metadata": {},
     "output_type": "execute_result"
    }
   ],
   "source": [
    "#Map : applies a given function to each item of an iterable\n",
    "list(map(lambda x : x ** 2, [1,2,3,4]))"
   ]
  },
  {
   "cell_type": "code",
   "execution_count": 53,
   "id": "3d52cddc-3d65-437b-864e-034b10a27f8b",
   "metadata": {},
   "outputs": [
    {
     "data": {
      "text/plain": [
       "['odd', 'even', 'odd', 'even', 'odd', 'even', 'odd', 'even']"
      ]
     },
     "execution_count": 53,
     "metadata": {},
     "output_type": "execute_result"
    }
   ],
   "source": [
    "list(map(lambda x : 'even' if x % 2 == 0 else 'odd',[1,2,3,4,5,6,7,8]))"
   ]
  },
  {
   "cell_type": "code",
   "execution_count": 54,
   "id": "1cf7c2ee-dfe3-4bed-926f-a907282c550f",
   "metadata": {},
   "outputs": [
    {
     "data": {
      "text/plain": [
       "['Rahul', 'Nitish', 'Ankita']"
      ]
     },
     "execution_count": 54,
     "metadata": {},
     "output_type": "execute_result"
    }
   ],
   "source": [
    "users = [\n",
    "    {\n",
    "        'name':'Rahul',\n",
    "        'age':45,\n",
    "        'gender':'male'\n",
    "    },\n",
    "    {\n",
    "        'name':'Nitish',\n",
    "        'age':33,\n",
    "        'gender':'male'\n",
    "    },\n",
    "    {\n",
    "        'name':'Ankita',\n",
    "        'age':50,\n",
    "        'gender':'female'\n",
    "    }\n",
    "]\n",
    "\n",
    "list(map(lambda x : x['name'],users))"
   ]
  },
  {
   "cell_type": "code",
   "execution_count": 56,
   "id": "1bd7d872-b0b6-4a8c-920d-31f88085b789",
   "metadata": {},
   "outputs": [
    {
     "data": {
      "text/plain": [
       "[5, 6, 7, 8, 9, 5331, 234]"
      ]
     },
     "execution_count": 56,
     "metadata": {},
     "output_type": "execute_result"
    }
   ],
   "source": [
    "#Filter\n",
    "#It filters a list based on conditioning\n",
    "\n",
    "L = [4,5,6,7,8,9,1,2,3,4,5331,234]\n",
    "\n",
    "list(filter(lambda x : x >= 5, L))"
   ]
  },
  {
   "cell_type": "code",
   "execution_count": 60,
   "id": "cee75593-cb24-4803-91be-20a5b36f3c03",
   "metadata": {},
   "outputs": [
    {
     "data": {
      "text/plain": [
       "['apple']"
      ]
     },
     "execution_count": 60,
     "metadata": {},
     "output_type": "execute_result"
    }
   ],
   "source": [
    "fruits = ['apple','guava','cherry']\n",
    "list(filter(lambda x:x.startswith('a'),fruits))"
   ]
  },
  {
   "cell_type": "code",
   "execution_count": 61,
   "id": "a5acde2a-188e-4f7a-a30c-e2165b511a81",
   "metadata": {},
   "outputs": [
    {
     "data": {
      "text/plain": [
       "21"
      ]
     },
     "execution_count": 61,
     "metadata": {},
     "output_type": "execute_result"
    }
   ],
   "source": [
    "#Reduce\n",
    "\n",
    "import functools\n",
    "\n",
    "functools.reduce(lambda x,y : x+y, [1,2,3,4,5,6])"
   ]
  },
  {
   "cell_type": "code",
   "execution_count": 62,
   "id": "2d26f0e6-ba1c-4d4a-95c2-2cc3aac5645d",
   "metadata": {},
   "outputs": [
    {
     "data": {
      "text/plain": [
       "1"
      ]
     },
     "execution_count": 62,
     "metadata": {},
     "output_type": "execute_result"
    }
   ],
   "source": [
    "#Find min\n",
    "functools.reduce(lambda x,y : x if x < y else y, [1,2,3,4,5,6,7])"
   ]
  },
  {
   "cell_type": "code",
   "execution_count": 63,
   "id": "203c665c-e2e7-475f-bde8-907444fa0dfa",
   "metadata": {},
   "outputs": [
    {
     "data": {
      "text/plain": [
       "7"
      ]
     },
     "execution_count": 63,
     "metadata": {},
     "output_type": "execute_result"
    }
   ],
   "source": [
    "#Find max\n",
    "functools.reduce(lambda x,y : x if x > y else y, [1,2,3,4,5,6,7])"
   ]
  },
  {
   "cell_type": "code",
   "execution_count": null,
   "id": "7b743842-363d-4e1f-9699-74fd87c4de34",
   "metadata": {},
   "outputs": [],
   "source": []
  }
 ],
 "metadata": {
  "kernelspec": {
   "display_name": "Python [conda env:base] *",
   "language": "python",
   "name": "conda-base-py"
  },
  "language_info": {
   "codemirror_mode": {
    "name": "ipython",
    "version": 3
   },
   "file_extension": ".py",
   "mimetype": "text/x-python",
   "name": "python",
   "nbconvert_exporter": "python",
   "pygments_lexer": "ipython3",
   "version": "3.12.7"
  }
 },
 "nbformat": 4,
 "nbformat_minor": 5
}
