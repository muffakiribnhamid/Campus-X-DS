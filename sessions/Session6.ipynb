{
 "cells": [
  {
   "cell_type": "code",
   "execution_count": 2,
   "id": "0181153d-442c-4ddf-a374-e8b68fff26d1",
   "metadata": {},
   "outputs": [
    {
     "data": {
      "text/plain": [
       "'It is a odd Number.'"
      ]
     },
     "execution_count": 2,
     "metadata": {},
     "output_type": "execute_result"
    }
   ],
   "source": [
    "#Functions in Python\n",
    "\n",
    "def isEven(n):\n",
    "    \"\"\"\n",
    "    This function returns if a given number is odd or even\n",
    "    input - any valid integer\n",
    "    output - odd/even\n",
    "    \"\"\"\n",
    "    if n % 2 == 0:\n",
    "        return (\"It is a Even Number.\")\n",
    "    else:\n",
    "        return (\"It is a odd Number.\")\n",
    "\n",
    "\n",
    "isEven(2)\n",
    "isEven(3)\n"
   ]
  },
  {
   "cell_type": "code",
   "execution_count": 10,
   "id": "bb78e40d-8318-4c79-b26c-d6d29f5584b1",
   "metadata": {},
   "outputs": [
    {
     "data": {
      "text/plain": [
       "24"
      ]
     },
     "execution_count": 10,
     "metadata": {},
     "output_type": "execute_result"
    }
   ],
   "source": [
    "#*args and **kwargs are speical Python keywords that are used to pass the variable length of arguments to a function\n",
    "\n",
    "def multiply(*args):\n",
    "    product = 1\n",
    "    for i in args:\n",
    "        product *= i\n",
    "    return product\n",
    "\n",
    "multiply(1,2,3,4)\n"
   ]
  },
  {
   "cell_type": "code",
   "execution_count": 19,
   "id": "be8cf3f4-8983-4497-8347-788b50ad0837",
   "metadata": {},
   "outputs": [
    {
     "name": "stdout",
     "output_type": "stream",
     "text": [
      "(1, 2, 3)\n",
      "{'india': 'delhi', 'pak': 'karachi'}\n",
      "india delhi\n",
      "pak karachi\n"
     ]
    }
   ],
   "source": [
    "#**kwargs -> allows us to pass any number of keyword arguments\n",
    "#keyword arguments mean that they contain a key-value pair, like a Python dictionary.\n",
    "\n",
    "def capital(*args,**kwargs):\n",
    "    print(args)\n",
    "    print(kwargs)\n",
    "    for (key,value) in kwargs.items():\n",
    "        print(key,value)\n",
    "\n",
    "\n",
    "capital(1,2,3,india=\"delhi\",pak=\"karachi\")\n",
    "\n",
    "\n",
    "#args will come first, kwargs will come second\n"
   ]
  },
  {
   "cell_type": "code",
   "execution_count": null,
   "id": "cd1b0b35-00b7-4636-97d8-06f0d9830506",
   "metadata": {},
   "outputs": [],
   "source": []
  },
  {
   "cell_type": "code",
   "execution_count": null,
   "id": "4a280164-dcf8-450e-9910-a14bd1abc9ff",
   "metadata": {},
   "outputs": [],
   "source": []
  }
 ],
 "metadata": {
  "kernelspec": {
   "display_name": "Python [conda env:base] *",
   "language": "python",
   "name": "conda-base-py"
  },
  "language_info": {
   "codemirror_mode": {
    "name": "ipython",
    "version": 3
   },
   "file_extension": ".py",
   "mimetype": "text/x-python",
   "name": "python",
   "nbconvert_exporter": "python",
   "pygments_lexer": "ipython3",
   "version": "3.12.7"
  }
 },
 "nbformat": 4,
 "nbformat_minor": 5
}
