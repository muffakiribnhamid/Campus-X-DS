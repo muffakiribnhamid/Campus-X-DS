{
 "cells": [
  {
   "cell_type": "code",
   "execution_count": 3,
   "id": "5acec2a3-de27-430c-bfe4-4f64ea663ecc",
   "metadata": {},
   "outputs": [
    {
     "data": {
      "text/plain": [
       "[1, 2, 3]"
      ]
     },
     "execution_count": 3,
     "metadata": {},
     "output_type": "execute_result"
    }
   ],
   "source": [
    "#OOP | Class and Objects\n",
    "\n",
    "#Everything in Python is an Object!\n",
    "\n",
    "# What is OPP\n",
    "# It gives sort of power to programmer where he can create his own data types\n",
    "\n",
    "\n"
   ]
  },
  {
   "cell_type": "code",
   "execution_count": 4,
   "id": "987f455a-232c-44c8-9deb-9423b37e784b",
   "metadata": {},
   "outputs": [
    {
     "data": {
      "text/plain": [
       "list"
      ]
     },
     "execution_count": 4,
     "metadata": {},
     "output_type": "execute_result"
    }
   ],
   "source": [
    "#Class\n",
    "\n",
    "#Class is a blueprint which defines how the object will behave\n",
    "\n",
    "\n",
    "# Class -> Data or Property | Functions or behaviour\n",
    "\n",
    "#Two types of classes\n",
    "#Built in classes : tuple,list etc.\n",
    "#User defined classes\n",
    "\n",
    "\n",
    "# Objects is an instance of class\n",
    "\n",
    "\n",
    "\n"
   ]
  },
  {
   "cell_type": "code",
   "execution_count": null,
   "id": "e1135fe7-a961-4fd4-8ef3-7f3a85648c6d",
   "metadata": {},
   "outputs": [],
   "source": [
    "#syntax to create an object\n",
    "\n",
    "# objectname = classname()\n",
    "\n",
    "# L = list()\n",
    "\n",
    "\n",
    "#Use Pascal case while writing name of classes\n",
    "#HelloWorld"
   ]
  },
  {
   "cell_type": "code",
   "execution_count": 1,
   "id": "5479de45-b5cd-4832-901c-746be2deef5c",
   "metadata": {},
   "outputs": [
    {
     "name": "stdin",
     "output_type": "stream",
     "text": [
      "\n",
      "        Hi! How can I help you?\n",
      "        1. Press 1 to create PIN\n",
      "        2. Press 2 to change PIN\n",
      "        3. Press 3 to check balance\n",
      "        4. Press 4 to withdraw\n",
      "        5. Anything else to exit\n",
      "         4\n",
      "Enter your pin:  100\n"
     ]
    },
    {
     "name": "stdout",
     "output_type": "stream",
     "text": [
      "Wrong Pin!\n"
     ]
    },
    {
     "name": "stdin",
     "output_type": "stream",
     "text": [
      "\n",
      "        Hi! How can I help you?\n",
      "        1. Press 1 to create PIN\n",
      "        2. Press 2 to change PIN\n",
      "        3. Press 3 to check balance\n",
      "        4. Press 4 to withdraw\n",
      "        5. Anything else to exit\n",
      "         4\n",
      "Enter your pin:  \n",
      "Enter how much to withdraw:  100\n"
     ]
    }
   ],
   "source": [
    "class ATM:\n",
    "    \"\"\"\n",
    "    A class representing an ATM machine with basic banking operations.\n",
    "    \n",
    "    Attributes:\n",
    "        pin (str): User's PIN for authentication\n",
    "        balance (float): Current account balance\n",
    "    \"\"\"\n",
    "\n",
    "    def __init__(self):\n",
    "        \"\"\"\n",
    "        Initialize the ATM with default values and display the menu.\n",
    "        \"\"\"\n",
    "        self.pin = ''\n",
    "        self.balance = 0\n",
    "        self.menu()\n",
    "\n",
    "    def menu(self):\n",
    "        \"\"\"\n",
    "        Display the main menu and handle user input for various operations.\n",
    "        \"\"\"\n",
    "        user_input = input(\"\"\"\n",
    "        Hi! How can I help you?\n",
    "        1. Press 1 to create PIN\n",
    "        2. Press 2 to change PIN\n",
    "        3. Press 3 to check balance\n",
    "        4. Press 4 to withdraw\n",
    "        5. Anything else to exit\n",
    "        \"\"\")\n",
    "\n",
    "        if user_input == '1':\n",
    "            self.create_pin()\n",
    "        elif user_input == '2':\n",
    "            self.change_pin()\n",
    "            \n",
    "        elif user_input == '3':\n",
    "            self.check_balance()\n",
    "            \n",
    "        elif user_input == '4':\n",
    "            self.withdraw()\n",
    "            \n",
    "        else:\n",
    "            exit()\n",
    "\n",
    "    def create_pin(self):\n",
    "        user_pin = input(\"enter your pin: \")\n",
    "        self.pin = user_pin\n",
    "\n",
    "        user_balance = int(input(\"Enter balance : \"))\n",
    "        self.balance = user_balance\n",
    "\n",
    "        print(\"Pin created successfully!\")\n",
    "        self.menu()\n",
    "        \n",
    "        \n",
    "    def change_pin(self):\n",
    "        existing_pin = input(\"Please enter existing pin : \")\n",
    "        if existing_pin == self.pin:\n",
    "            new_pin = input(\"Enter new pin which you want to set: \")\n",
    "            self.pin = new_pin\n",
    "            print(\"Pin changed!\")\n",
    "            self.menu()\n",
    "        else:\n",
    "            print(\"Please enter correct exiting pin :)\")\n",
    "            self.menu()\n",
    "    def check_balance(self):\n",
    "        user_pin = input(\"Enter your pin: \")\n",
    "        if user_pin == self.pin:\n",
    "            print(\"Your balance is\", self.balance)\n",
    "        else:\n",
    "            print(\"You entered a wrong pin\")\n",
    "\n",
    "        self.menu()\n",
    "\n",
    "    def withdraw(self):\n",
    "        user_pin = input(\"Enter your pin: \")\n",
    "        if user_pin == self.pin:\n",
    "            withdraw_balance = int(input(\"Enter how much to withdraw: \"))\n",
    "            if withdraw_balance <= self.balance:\n",
    "                self.balance = self.balance - withdraw_balance\n",
    "                print(\"Successfully Withdrawn\",withdraw_balance)\n",
    "                print(\"Current Balance\",self.balance)\n",
    "            else:\n",
    "                print(\"Not enough\")\n",
    "        else:\n",
    "            print(\"Wrong Pin!\")\n",
    "\n",
    "            self.menu()\n",
    "\n",
    "            \n",
    "            \n",
    " \n",
    "\n",
    "\n",
    "# Create an instance of the ATM\n",
    "atm = ATM()"
   ]
  },
  {
   "cell_type": "code",
   "execution_count": 13,
   "id": "d13b4164-17ab-4b50-b41c-8bf384f68e42",
   "metadata": {},
   "outputs": [],
   "source": [
    "#Methods Vs Function\n",
    "\n",
    "#Methods :- A function made inside a class is known as methods\n",
    "#Function :- An independent function which is outside of a class is known as funcitons"
   ]
  },
  {
   "cell_type": "code",
   "execution_count": null,
   "id": "6a782c5a-e3a9-453d-b083-ee6d19fef6b9",
   "metadata": {},
   "outputs": [],
   "source": [
    "#Magic Method\n",
    "\n",
    "#Special Methods -> Super Power \n",
    "\n",
    "#syntax : __name__"
   ]
  },
  {
   "cell_type": "code",
   "execution_count": 1,
   "id": "8416d8f0-edc1-4d25-aa85-06273cc1854b",
   "metadata": {},
   "outputs": [
    {
     "name": "stdout",
     "output_type": "stream",
     "text": [
      "Hello\n"
     ]
    }
   ],
   "source": [
    "class Temp:\n",
    "\n",
    "    def __init__(self):\n",
    "        print(\"Hello\")\n",
    "obj = Temp()\n",
    "\n",
    "\n"
   ]
  },
  {
   "cell_type": "code",
   "execution_count": null,
   "id": "24a2c76c-8e4e-45d2-8d45-28360fe5037a",
   "metadata": {},
   "outputs": [],
   "source": [
    "#Benifits of using constructor (Important Concept)\n",
    "\n",
    "#It is used to write configuration related code as user shouldn't have access to it\n",
    "#configurations that are required when an object is instantiated. This could include opening files, establishing database connections, or performing calculations to derive initial attribute values.\n"
   ]
  },
  {
   "cell_type": "code",
   "execution_count": null,
   "id": "486b5a69-c1a6-4ba7-8030-0c7aaecda8c7",
   "metadata": {},
   "outputs": [],
   "source": [
    "# Self\n",
    "\n",
    "#self is basically the object which you make from class\n",
    "#self is the current object | nothing else\n"
   ]
  },
  {
   "cell_type": "code",
   "execution_count": 3,
   "id": "d9c31f08-b2bb-4829-af53-e3d8a22e7ed3",
   "metadata": {},
   "outputs": [
    {
     "name": "stdout",
     "output_type": "stream",
     "text": [
      "3/8\n"
     ]
    }
   ],
   "source": [
    "#Fraction Class\n",
    "\n",
    "class Fraction:\n",
    "    \"\"\"\n",
    "     We need numerator and a denominator\n",
    "\n",
    "     X : Int\n",
    "     Y : Int\n",
    "\n",
    "     :Re\n",
    "    \"\"\"\n",
    "\n",
    "    #parameterized constructor\n",
    "    def __init__(self,x,y):\n",
    "        self.num = x\n",
    "        self.den = y\n",
    "\n",
    "    def __str__(self):\n",
    "        return '{}/{}'.format(self.num,self.den)\n",
    "\n",
    "    def __add__(self, other):\n",
    "        new_num = self.num * other.den + other.num * self.den\n",
    "        new_den = self.den * other.den\n",
    "\n",
    "        return '{}/{}'.format(new_num,new_den)\n",
    "\n",
    "    def __sub__(self, other):\n",
    "        new_num = self.num * other.den - other.num * self.den\n",
    "        new_den = self.den * other.den\n",
    "\n",
    "        return '{}/{}'.format(new_num, new_den)\n",
    "\n",
    "    def __mul__(self, other):\n",
    "        new_num = self.num * other.num\n",
    "        new_den = self.den * other.den\n",
    "\n",
    "        return '{}/{}'.format(new_num, new_den)\n",
    "\n",
    "    def __truediv__(self, other):\n",
    "        new_num = self.num * other.num\n",
    "        new_den = self.den * other.num\n",
    "\n",
    "        return '{}/{}'.format(new_num, new_den)\n",
    "\n",
    "\n",
    "\n",
    "\n",
    "\n",
    "\n",
    "\n",
    "fr1 = Fraction(3,4)\n",
    "fr2 = Fraction(1,2)\n",
    "print(fr1 * fr2)"
   ]
  },
  {
   "cell_type": "code",
   "execution_count": null,
   "id": "a44577c3-9fd5-4c28-ade6-80d56eff299f",
   "metadata": {},
   "outputs": [],
   "source": []
  },
  {
   "cell_type": "code",
   "execution_count": null,
   "id": "dbdceac3-b725-4c3c-8cbe-642beb88ae52",
   "metadata": {},
   "outputs": [],
   "source": []
  }
 ],
 "metadata": {
  "kernelspec": {
   "display_name": "Python [conda env:base] *",
   "language": "python",
   "name": "conda-base-py"
  },
  "language_info": {
   "codemirror_mode": {
    "name": "ipython",
    "version": 3
   },
   "file_extension": ".py",
   "mimetype": "text/x-python",
   "name": "python",
   "nbconvert_exporter": "python",
   "pygments_lexer": "ipython3",
   "version": "3.12.7"
  }
 },
 "nbformat": 4,
 "nbformat_minor": 5
}
