{
 "cells": [
  {
   "cell_type": "code",
   "execution_count": 5,
   "id": "87471256-953a-4d7e-9879-e6fca17d3719",
   "metadata": {},
   "outputs": [
    {
     "name": "stdout",
     "output_type": "stream",
     "text": [
      "5 4 3 2 1 \n",
      "4 3 2 1 \n",
      "3 2 1 \n",
      "2 1 \n",
      "1 \n"
     ]
    }
   ],
   "source": [
    "# 5 4 3 2 1 \n",
    "# 4 3 2 1 \n",
    "# 3 2 1 \n",
    "# 2 1 \n",
    "# 1\n",
    "\n",
    "\n",
    "n = 5\n",
    "for i in range(0,n):\n",
    "    for k in range(n-i, 0 , -1):\n",
    "        print(k,end=' ')\n",
    "    print()\n",
    "        \n",
    "    "
   ]
  },
  {
   "cell_type": "code",
   "execution_count": 16,
   "id": "204e41cd-51ec-40f4-ae9a-cc2e2fa4e026",
   "metadata": {},
   "outputs": [
    {
     "name": "stdout",
     "output_type": "stream",
     "text": [
      "* \n",
      "* * \n",
      "* * * \n",
      "* * * * \n",
      "* * * * * \n",
      "* * * * \n",
      "* * * \n",
      "* * \n",
      "* \n"
     ]
    }
   ],
   "source": [
    "# * \n",
    "# * * \n",
    "# * * * \n",
    "# * * * * \n",
    "# * * * * * \n",
    "# * * * * \n",
    "# * * * \n",
    "# * * \n",
    "# *\n",
    "\n",
    "\n",
    "n = 5\n",
    "for i in range(1,n+1):\n",
    "    for j in range(0,i):\n",
    "        print(\"*\",end=' ')\n",
    "    print()\n",
    "for i in range(1,n):\n",
    "    for j in range(n-i,0,-1):\n",
    "        print(\"*\",end=' ')\n",
    "    print()\n",
    "        \n",
    "    \n",
    "        "
   ]
  },
  {
   "cell_type": "code",
   "execution_count": 23,
   "id": "27b20518-3905-4428-94cb-42b16d48e157",
   "metadata": {},
   "outputs": [
    {
     "name": "stdout",
     "output_type": "stream",
     "text": [
      "    * \n",
      "  *  * \n",
      "*  *  * \n"
     ]
    }
   ],
   "source": [
    "#     *\n",
    "#   * * *\n",
    "# * * * * *\n",
    "\n",
    "\n",
    "# 2 1 2\n",
    "# 1 3 1 \n",
    "# 0 5 0\n",
    "rows = 3  # total number of rows\n",
    "\n",
    "for i in range(rows):\n",
    "    # print leading spaces\n",
    "    for space in range(rows - i - 1):\n",
    "        print(\" \", end=\" \")\n",
    "\n",
    "    # print stars\n",
    "    for star in range(2 * i + 1):\n",
    "        if star % 2 == 0:\n",
    "            print(\"*\", end=\" \")\n",
    "        else:\n",
    "            print(\" \", end=\"\")\n",
    "\n",
    "    print()  # move to the next line\n",
    "    "
   ]
  },
  {
   "cell_type": "code",
   "execution_count": 2,
   "id": "2a4c9b2c-bc1a-408b-b821-e85f1df5caf4",
   "metadata": {},
   "outputs": [
    {
     "name": "stdout",
     "output_type": "stream",
     "text": [
      "1 \n",
      "2 1 \n",
      "3 2 1 \n",
      "4 3 2 1 \n",
      "5 4 3 2 1 \n"
     ]
    }
   ],
   "source": [
    "n = 5\n",
    "for i in range(1,n+1):\n",
    "    for j in range(i,0,-1):\n",
    "        print(j,end=' ')\n",
    "    print()"
   ]
  },
  {
   "cell_type": "code",
   "execution_count": 5,
   "id": "e60e955b-a5ea-4be4-a8bf-954234dcecf3",
   "metadata": {},
   "outputs": [
    {
     "name": "stdout",
     "output_type": "stream",
     "text": [
      "22884.333333333332\n"
     ]
    }
   ],
   "source": [
    "x = 10\n",
    "n = 5\n",
    "sum = 1\n",
    "\n",
    "for i in range(2,n+1):\n",
    "    sum = sum +  x ** i / i\n",
    "print(sum)\n",
    "    \n",
    "    "
   ]
  },
  {
   "cell_type": "code",
   "execution_count": 9,
   "id": "9401ad43-89e3-4511-9687-808f9eda01be",
   "metadata": {},
   "outputs": [
    {
     "name": "stdout",
     "output_type": "stream",
     "text": [
      "1.8301230000000004\n"
     ]
    }
   ],
   "source": [
    "x = 10\n",
    "n = 5\n",
    "\n",
    "sum = 0\n",
    "\n",
    "for i in range(1,n+1):\n",
    "    sum = sum + (1/i) * ((x-1) / x) ** i\n",
    "print(sum)"
   ]
  },
  {
   "cell_type": "code",
   "execution_count": null,
   "id": "473eb84d-6835-4835-85cd-c0d474b43cc9",
   "metadata": {},
   "outputs": [],
   "source": [
    "#sum upto n\n",
    "n = 5\n",
    "start = 2\n",
    "sum = 0\n",
    "\n",
    "for i in range(0,n):\n",
    "    sum = sum + start\n",
    "    start = start * 10 + 2\n",
    "print(sum)    "
   ]
  },
  {
   "cell_type": "code",
   "execution_count": 8,
   "id": "971eff38-4cc8-4d24-88af-33a4d01cf651",
   "metadata": {},
   "outputs": [
    {
     "name": "stdin",
     "output_type": "stream",
     "text": [
      "Enter the number:  12\n"
     ]
    },
    {
     "name": "stdout",
     "output_type": "stream",
     "text": [
      "1100"
     ]
    }
   ],
   "source": [
    "n = int(input(\"Enter the number: \"))\n",
    "binary = []\n",
    "\n",
    "while n > 0:\n",
    "    binary.append(n%2)\n",
    "    n = n//2\n",
    "\n",
    "for i in binary[::-1]:\n",
    "    print(i,end='')"
   ]
  },
  {
   "cell_type": "code",
   "execution_count": 15,
   "id": "a9779bb6-dea8-46ca-8a9b-c879dce97a76",
   "metadata": {},
   "outputs": [
    {
     "name": "stdin",
     "output_type": "stream",
     "text": [
      "Enter first number :  23\n",
      "Enter second number :  24\n"
     ]
    },
    {
     "name": "stdout",
     "output_type": "stream",
     "text": [
      "552\n"
     ]
    }
   ],
   "source": [
    "x = int(input(\"Enter first number : \"))\n",
    "y = int(input(\"Enter second number : \"))\n",
    "\n",
    "if x > y:\n",
    "    greater = x\n",
    "else:\n",
    "    greater = y\n",
    "\n",
    "\n",
    "while True:\n",
    "    if(greater % x == 0) and (greater % y == 0):\n",
    "        lcm  = greater\n",
    "        break\n",
    "    greater = greater + 1\n",
    "print(lcm)\n",
    "        \n",
    "    "
   ]
  },
  {
   "cell_type": "code",
   "execution_count": null,
   "id": "fdd64471-4449-4435-97ea-5a83194133e5",
   "metadata": {},
   "outputs": [],
   "source": [
    "#HCF\n",
    "x = int(input(\"Enter first Number: \"))\n",
    "y = int(input(\"Enter second Number: \"))\n",
    "\n",
    "if x < y:\n",
    "    smaller = x\n",
    "else:\n",
    "    smaller = y\n",
    "\n",
    "for i in range(1,smaller+1):\n",
    "    if (x % i == 0) and (y % i == 0):\n",
    "        hcf = i\n",
    "print(hcf)\n"
   ]
  }
 ],
 "metadata": {
  "kernelspec": {
   "display_name": "Python [conda env:base] *",
   "language": "python",
   "name": "conda-base-py"
  },
  "language_info": {
   "codemirror_mode": {
    "name": "ipython",
    "version": 3
   },
   "file_extension": ".py",
   "mimetype": "text/x-python",
   "name": "python",
   "nbconvert_exporter": "python",
   "pygments_lexer": "ipython3",
   "version": "3.12.7"
  }
 },
 "nbformat": 4,
 "nbformat_minor": 5
}
