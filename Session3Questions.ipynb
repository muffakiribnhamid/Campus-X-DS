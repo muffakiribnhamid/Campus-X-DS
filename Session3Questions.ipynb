{
 "cells": [
  {
   "cell_type": "code",
   "execution_count": 5,
   "id": "87471256-953a-4d7e-9879-e6fca17d3719",
   "metadata": {},
   "outputs": [
    {
     "name": "stdout",
     "output_type": "stream",
     "text": [
      "5 4 3 2 1 \n",
      "4 3 2 1 \n",
      "3 2 1 \n",
      "2 1 \n",
      "1 \n"
     ]
    }
   ],
   "source": [
    "# 5 4 3 2 1 \n",
    "# 4 3 2 1 \n",
    "# 3 2 1 \n",
    "# 2 1 \n",
    "# 1\n",
    "\n",
    "\n",
    "n = 5\n",
    "for i in range(0,n):\n",
    "    for k in range(n-i, 0 , -1):\n",
    "        print(k,end=' ')\n",
    "    print()\n",
    "        \n",
    "    "
   ]
  },
  {
   "cell_type": "code",
   "execution_count": 16,
   "id": "204e41cd-51ec-40f4-ae9a-cc2e2fa4e026",
   "metadata": {},
   "outputs": [
    {
     "name": "stdout",
     "output_type": "stream",
     "text": [
      "* \n",
      "* * \n",
      "* * * \n",
      "* * * * \n",
      "* * * * * \n",
      "* * * * \n",
      "* * * \n",
      "* * \n",
      "* \n"
     ]
    }
   ],
   "source": [
    "# * \n",
    "# * * \n",
    "# * * * \n",
    "# * * * * \n",
    "# * * * * * \n",
    "# * * * * \n",
    "# * * * \n",
    "# * * \n",
    "# *\n",
    "\n",
    "\n",
    "n = 5\n",
    "for i in range(1,n+1):\n",
    "    for j in range(0,i):\n",
    "        print(\"*\",end=' ')\n",
    "    print()\n",
    "for i in range(1,n):\n",
    "    for j in range(n-i,0,-1):\n",
    "        print(\"*\",end=' ')\n",
    "    print()\n",
    "        \n",
    "    \n",
    "        "
   ]
  },
  {
   "cell_type": "code",
   "execution_count": 23,
   "id": "27b20518-3905-4428-94cb-42b16d48e157",
   "metadata": {},
   "outputs": [
    {
     "name": "stdout",
     "output_type": "stream",
     "text": [
      "    * \n",
      "  *  * \n",
      "*  *  * \n"
     ]
    }
   ],
   "source": [
    "#     *\n",
    "#   * * *\n",
    "# * * * * *\n",
    "\n",
    "\n",
    "# 2 1 2\n",
    "# 1 3 1 \n",
    "# 0 5 0\n",
    "rows = 3  # total number of rows\n",
    "\n",
    "for i in range(rows):\n",
    "    # print leading spaces\n",
    "    for space in range(rows - i - 1):\n",
    "        print(\" \", end=\" \")\n",
    "\n",
    "    # print stars\n",
    "    for star in range(2 * i + 1):\n",
    "        if star % 2 == 0:\n",
    "            print(\"*\", end=\" \")\n",
    "        else:\n",
    "            print(\" \", end=\"\")\n",
    "\n",
    "    print()  # move to the next line\n",
    "    "
   ]
  },
  {
   "cell_type": "code",
   "execution_count": 2,
   "id": "2a4c9b2c-bc1a-408b-b821-e85f1df5caf4",
   "metadata": {},
   "outputs": [
    {
     "name": "stdout",
     "output_type": "stream",
     "text": [
      "1 \n",
      "2 1 \n",
      "3 2 1 \n",
      "4 3 2 1 \n",
      "5 4 3 2 1 \n"
     ]
    }
   ],
   "source": [
    "n = 5\n",
    "for i in range(1,n+1):\n",
    "    for j in range(i,0,-1):\n",
    "        print(j,end=' ')\n",
    "    print()"
   ]
  },
  {
   "cell_type": "code",
   "execution_count": 5,
   "id": "e60e955b-a5ea-4be4-a8bf-954234dcecf3",
   "metadata": {},
   "outputs": [
    {
     "name": "stdout",
     "output_type": "stream",
     "text": [
      "22884.333333333332\n"
     ]
    }
   ],
   "source": [
    "x = 10\n",
    "n = 5\n",
    "sum = 1\n",
    "\n",
    "for i in range(2,n+1):\n",
    "    sum = sum +  x ** i / i\n",
    "print(sum)\n",
    "    \n",
    "    "
   ]
  },
  {
   "cell_type": "code",
   "execution_count": 9,
   "id": "9401ad43-89e3-4511-9687-808f9eda01be",
   "metadata": {},
   "outputs": [
    {
     "name": "stdout",
     "output_type": "stream",
     "text": [
      "1.8301230000000004\n"
     ]
    }
   ],
   "source": [
    "x = 10\n",
    "n = 5\n",
    "\n",
    "sum = 0\n",
    "\n",
    "for i in range(1,n+1):\n",
    "    sum = sum + (1/i) * ((x-1) / x) ** i\n",
    "print(sum)"
   ]
  },
  {
   "cell_type": "code",
   "execution_count": null,
   "id": "473eb84d-6835-4835-85cd-c0d474b43cc9",
   "metadata": {},
   "outputs": [],
   "source": [
    "#sum upto n\n",
    "n = 5\n",
    "start = 2\n",
    "sum = 0\n",
    "\n",
    "for i in range(0,n):\n",
    "    sum = sum + start\n",
    "    start = start * 10 + 2\n",
    "print(sum)    "
   ]
  },
  {
   "cell_type": "code",
   "execution_count": 8,
   "id": "971eff38-4cc8-4d24-88af-33a4d01cf651",
   "metadata": {},
   "outputs": [
    {
     "name": "stdin",
     "output_type": "stream",
     "text": [
      "Enter the number:  12\n"
     ]
    },
    {
     "name": "stdout",
     "output_type": "stream",
     "text": [
      "1100"
     ]
    }
   ],
   "source": [
    "n = int(input(\"Enter the number: \"))\n",
    "binary = []\n",
    "\n",
    "while n > 0:\n",
    "    binary.append(n%2)\n",
    "    n = n//2\n",
    "\n",
    "for i in binary[::-1]:\n",
    "    print(i,end='')"
   ]
  },
  {
   "cell_type": "code",
   "execution_count": 15,
   "id": "a9779bb6-dea8-46ca-8a9b-c879dce97a76",
   "metadata": {},
   "outputs": [
    {
     "name": "stdin",
     "output_type": "stream",
     "text": [
      "Enter first number :  23\n",
      "Enter second number :  24\n"
     ]
    },
    {
     "name": "stdout",
     "output_type": "stream",
     "text": [
      "552\n"
     ]
    }
   ],
   "source": [
    "x = int(input(\"Enter first number : \"))\n",
    "y = int(input(\"Enter second number : \"))\n",
    "\n",
    "if x > y:\n",
    "    greater = x\n",
    "else:\n",
    "    greater = y\n",
    "\n",
    "\n",
    "while True:\n",
    "    if(greater % x == 0) and (greater % y == 0):\n",
    "        lcm  = greater\n",
    "        break\n",
    "    greater = greater + 1\n",
    "print(lcm)\n",
    "        \n",
    "    "
   ]
  },
  {
   "cell_type": "code",
   "execution_count": 32,
   "id": "fdd64471-4449-4435-97ea-5a83194133e5",
   "metadata": {},
   "outputs": [
    {
     "name": "stdin",
     "output_type": "stream",
     "text": [
      "Enter first Number:  1\n",
      "Enter second Number:  1\n"
     ]
    },
    {
     "name": "stdout",
     "output_type": "stream",
     "text": [
      "1\n"
     ]
    }
   ],
   "source": [
    "#HCF\n",
    "x = int(input(\"Enter first Number: \"))\n",
    "y = int(input(\"Enter second Number: \"))\n",
    "\n",
    "if x < y:\n",
    "    smaller = x\n",
    "else:\n",
    "    smaller = y\n",
    "\n",
    "for i in range(1,smaller+1):\n",
    "    if (x % i == 0) and (y % i == 0):\n",
    "        hcf = i\n",
    "print(hcf)\n"
   ]
  },
  {
   "cell_type": "code",
   "execution_count": 37,
   "id": "ec15e865-30f9-4439-b129-33723ebb669c",
   "metadata": {},
   "outputs": [
    {
     "name": "stdout",
     "output_type": "stream",
     "text": [
      "DSMP\n"
     ]
    }
   ],
   "source": [
    "#String Questions from Now\n",
    "inputData = \"Data science mentorship program\"\n",
    "result = ''\n",
    "\n",
    "for i in inputData.split():\n",
    "    result = result + i[0].upper()\n",
    "\n",
    "print(result)\n",
    "\n"
   ]
  },
  {
   "cell_type": "code",
   "execution_count": 48,
   "id": "519a6471-8649-4945-9ba7-ef8b1a44d7fe",
   "metadata": {},
   "outputs": [
    {
     "name": "stdout",
     "output_type": "stream",
     "text": [
      "camdatapusx\n"
     ]
    }
   ],
   "source": [
    "str1 = \"campusx\"\n",
    "str2 = \"data\"\n",
    "\n",
    "sliced = str1[0:int(len(str1)/(2))]\n",
    "final = sliced + str2 + str1[int(len(str1)/(2)):]\n",
    "print(final)\n",
    "\n"
   ]
  },
  {
   "cell_type": "code",
   "execution_count": 51,
   "id": "23641648-a158-43ef-a748-f01f0588f225",
   "metadata": {},
   "outputs": [
    {
     "name": "stdout",
     "output_type": "stream",
     "text": [
      "uakirMFFR\n"
     ]
    }
   ],
   "source": [
    "str1 = \"MuFFakirR\"\n",
    "uppercase = ''\n",
    "lowercase = '' \n",
    "for i in str1:\n",
    "    if i == i.upper():\n",
    "        uppercase = uppercase + i\n",
    "    else:\n",
    "        lowercase = lowercase + i\n",
    "print(lowercase + uppercase)\n",
    "        \n",
    "        "
   ]
  },
  {
   "cell_type": "code",
   "execution_count": 64,
   "id": "f278de9a-d5e7-4a09-ab3e-956275808627",
   "metadata": {},
   "outputs": [
    {
     "name": "stdout",
     "output_type": "stream",
     "text": [
      "22\n",
      "3.142857142857143\n"
     ]
    }
   ],
   "source": [
    "inputStr = 'hel123O4every093'\n",
    "sum = 0\n",
    "counter = 0\n",
    "for i in inputStr:\n",
    "    if i.isdigit():\n",
    "        sum = sum + int(i)\n",
    "        counter = counter + 1\n",
    "        \n",
    "print(sum)\n",
    "print(sum/counter)\n",
    "        "
   ]
  },
  {
   "cell_type": "code",
   "execution_count": 65,
   "id": "01982e22-18a0-4c40-8192-67cc7f23f65b",
   "metadata": {},
   "outputs": [
    {
     "name": "stdout",
     "output_type": "stream",
     "text": [
      "2510\n"
     ]
    }
   ],
   "source": [
    "### `Problem 15:` Removal of all characters from a string except integers\n",
    "str1 = 'I am 25 years and 10 months old'\n",
    "result = ''\n",
    "\n",
    "for i in str1:\n",
    "    if i.isdigit():\n",
    "        result = result + i\n",
    "\n",
    "print(result)\n",
    "        \n",
    "        "
   ]
  },
  {
   "cell_type": "code",
   "execution_count": 5,
   "id": "d3022fca-9e0a-4e85-8e4d-6a51b66290bd",
   "metadata": {},
   "outputs": [
    {
     "name": "stdout",
     "output_type": "stream",
     "text": [
      "It is a symmetrical string\n"
     ]
    }
   ],
   "source": [
    "str1 = \"moffmoff\"\n",
    "mid = int(len(str1) / 2)\n",
    "\n",
    "if str1[0:mid] == str1[mid:]:\n",
    "    print(\"It is a symmetrical string\")\n",
    "else:\n",
    "    print(\"It is not a symmetrical string\")"
   ]
  },
  {
   "cell_type": "code",
   "execution_count": 20,
   "id": "2fd08679-9102-45db-b7d5-170645ebb5ff",
   "metadata": {},
   "outputs": [
    {
     "name": "stdout",
     "output_type": "stream",
     "text": [
      "code practice quiz geeks\n"
     ]
    }
   ],
   "source": [
    "str1 = \"geeks quiz practice code\"\n",
    "result = []\n",
    "for i in str1.split():\n",
    "    result.append(i)\n",
    "result.reverse()\n",
    "final = ' '.join(result)\n",
    "print(final)\n"
   ]
  },
  {
   "cell_type": "code",
   "execution_count": 6,
   "id": "26e24951-7e36-4cfa-a5ae-06094b9a0cb4",
   "metadata": {},
   "outputs": [
    {
     "name": "stdout",
     "output_type": "stream",
     "text": [
      "['apple', 'fruits']\n"
     ]
    }
   ],
   "source": [
    "A = \"apple banana mango\" \n",
    "B = \"banana fruits mango\"\n",
    "result = []\n",
    "\n",
    "for i in A.split():\n",
    "    if i not in B and i not in result:\n",
    "        result.append(i)\n",
    "for j in B.split():\n",
    "    if j not in A and j not in result:\n",
    "        result.append(j)\n",
    "\n",
    "print(result)"
   ]
  },
  {
   "cell_type": "code",
   "execution_count": 9,
   "id": "21fa42bc-c9c7-44f8-89e0-d3b066bb5eba",
   "metadata": {},
   "outputs": [
    {
     "name": "stdout",
     "output_type": "stream",
     "text": [
      "4\n"
     ]
    }
   ],
   "source": [
    "sen = \"We can learn data science through campusx mentorship program\"\n",
    "word = \"data\"\n",
    "counter = 0\n",
    "for i in sen.split():\n",
    "    counter += 1\n",
    "    if i == word:\n",
    "        break\n",
    "print(counter)"
   ]
  },
  {
   "cell_type": "code",
   "execution_count": null,
   "id": "e1a3bbf3-119f-4307-b1b0-ee4c276285f4",
   "metadata": {},
   "outputs": [],
   "source": [
    "str1 = \"aaaabbbbbccccddddfff\"\n",
    "result = ''\n",
    "\n",
    "for i in str1.split():\n",
    "    if i not in result:\n",
    "        "
   ]
  }
 ],
 "metadata": {
  "kernelspec": {
   "display_name": "Python [conda env:base] *",
   "language": "python",
   "name": "conda-base-py"
  },
  "language_info": {
   "codemirror_mode": {
    "name": "ipython",
    "version": 3
   },
   "file_extension": ".py",
   "mimetype": "text/x-python",
   "name": "python",
   "nbconvert_exporter": "python",
   "pygments_lexer": "ipython3",
   "version": "3.12.7"
  }
 },
 "nbformat": 4,
 "nbformat_minor": 5
}
