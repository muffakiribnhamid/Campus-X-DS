{
 "cells": [
  {
   "cell_type": "code",
   "execution_count": 1,
   "id": "1a97b762-418d-4361-8dd8-e1ecc7e9522b",
   "metadata": {},
   "outputs": [
    {
     "name": "stdout",
     "output_type": "stream",
     "text": [
      "Length:  10\n",
      "Width:  20\n",
      "Area:  200\n",
      "Perimeter:  60\n"
     ]
    }
   ],
   "source": [
    "\"\"\"\n",
    "\n",
    "##`Q-1:` Rectangle Class\n",
    "1. Write a Rectangle class in Python language, allowing you to build a rectangle with length and width attributes.\n",
    "\n",
    "2. Create a Perimeter() method to calculate the perimeter of the rectangle and a Area() method to calculate the area of  rectangle.\n",
    "\n",
    "3. Create a method display() that display the length, width, perimeter and area of an object created using an instantiation on rectangle class.\n",
    "\n",
    "\"\"\"\n",
    "\n",
    "\n",
    "\n",
    "\n",
    "class Rectangle:\n",
    "\n",
    "    \"\"\"\n",
    "    Rectangle class which allows to build a rectangle with length and width attributes\n",
    "    \"\"\"\n",
    "\n",
    "    def __init__(self,length,width):\n",
    "        self.length = length\n",
    "        self.width = width\n",
    "        self.Display()\n",
    "\n",
    "\n",
    "    def Perimeter(self):\n",
    "        perimeter = (self.length + self.width) * 2\n",
    "        return perimeter\n",
    "\n",
    "    def Area(self):\n",
    "        area = self.length * self.width\n",
    "        return area\n",
    "\n",
    "    def Display(self):\n",
    "        print(\"Length: \", self.length)\n",
    "        print(\"Width: \", self.width)\n",
    "        print(\"Area: \", self.Area())\n",
    "        print(\"Perimeter: \", self.Perimeter())\n",
    "\n",
    "\n",
    "\n",
    "rect1 = Rectangle(10,20)"
   ]
  },
  {
   "cell_type": "code",
   "execution_count": null,
   "id": "39ade924-770f-4ede-b0b0-b59e63987c74",
   "metadata": {},
   "outputs": [],
   "source": [
    "#Question 2 \n",
    "class BankAccount:\n",
    "    def __init__(self, accountNumber, name, balance):\n",
    "        self.accountNumber = accountNumber\n",
    "        self.name = name\n",
    "        self.balance = balance\n",
    "\n",
    "    def deposit(self, amount):\n",
    "        if amount > 0:\n",
    "            self.balance += amount\n",
    "            print(f\"{amount} deposited successfully.\")\n",
    "        else:\n",
    "            print(\"Invalid deposit amount.\")\n",
    "\n",
    "    def withdrawal(self, amount):\n",
    "        if 0 < amount <= self.balance:\n",
    "            self.balance -= amount\n",
    "            print(f\"{amount} withdrawn successfully.\")\n",
    "        else:\n",
    "            print(\"Invalid or insufficient funds.\")\n",
    "\n",
    "    def bank_fees(self):\n",
    "        fee = self.balance * 0.05\n",
    "        self.balance -= fee\n",
    "        print(f\"Bank fee of {fee} applied.\")\n",
    "        return self.balance\n",
    "\n",
    "    def display(self):\n",
    "        print(\"Account Number:\", self.accountNumber)\n",
    "        print(\"Account Holder:\", self.name)\n",
    "        print(\"Balance:\", self.balance)\n",
    "\n",
    "\n",
    "# Example usage:\n",
    "bank1 = BankAccount(1234, \"X\", 200)\n",
    "bank1.deposit(100)\n",
    "bank1.withdrawal(50)\n",
    "bank1.bank_fees()\n",
    "bank1.display()\n"
   ]
  }
 ],
 "metadata": {
  "kernelspec": {
   "display_name": "Python [conda env:base] *",
   "language": "python",
   "name": "conda-base-py"
  },
  "language_info": {
   "codemirror_mode": {
    "name": "ipython",
    "version": 3
   },
   "file_extension": ".py",
   "mimetype": "text/x-python",
   "name": "python",
   "nbconvert_exporter": "python",
   "pygments_lexer": "ipython3",
   "version": "3.12.7"
  }
 },
 "nbformat": 4,
 "nbformat_minor": 5
}
