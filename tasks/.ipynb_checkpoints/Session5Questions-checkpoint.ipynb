{
 "cells": [
  {
   "cell_type": "code",
   "execution_count": 8,
   "id": "fcadc42e-fee3-45fe-8750-a261d6cf37af",
   "metadata": {},
   "outputs": [
    {
     "name": "stdout",
     "output_type": "stream",
     "text": [
      "[(5, 6, 7, 8), (6, 10), (7, 13)]\n"
     ]
    }
   ],
   "source": [
    "# Q1: Join Tuples if similar initial element\n",
    "# While working with Python tuples, we can have a problem in which we need to perform concatenation of records from the similarity of initial element. This problem can have applications in data domains such as Data Science.\n",
    "\n",
    "# For eg.\n",
    "\n",
    "# Input  : test_list = [(5, 6), (5, 7), (5, 8), (6, 10), (7, 13)] \n",
    "# Output : [(5, 6, 7, 8), (6, 10), (7, 13)] \n",
    "\n",
    "test_list = [(5, 6), (5, 7), (5, 8), (6, 10), (7, 13)] \n",
    "uniqe = []\n",
    "\n",
    "for i in test_list:\n",
    "    uniqe.append(i[0])\n",
    "uniqe = set(uniqe)\n",
    "\n",
    "result = []\n",
    "\n",
    "for i in uniqe:\n",
    "    result.append([i])\n",
    "    for j in test_list:\n",
    "        if j[0] == i:\n",
    "            result[-1].append(j[1])\n",
    "    \n",
    "    \n",
    "\n",
    "print(list(map(tuple,result)))"
   ]
  },
  {
   "cell_type": "code",
   "execution_count": 10,
   "id": "3d88921a-c2fc-4a44-ac38-9cd059b22ae0",
   "metadata": {},
   "outputs": [
    {
     "name": "stdout",
     "output_type": "stream",
     "text": [
      "(5, 40, 91, 136, 80)\n"
     ]
    }
   ],
   "source": [
    "t = (1, 5, 7, 8, 10)\n",
    "output = []\n",
    "\n",
    "output.append(t[0]*t[1])\n",
    "\n",
    "for i in range(1,len(t)-1):\n",
    "    output.append(t[i] * t[i-1] + t[i] * t[i+1])\n",
    "\n",
    "output.append(t[-1]*t[-2])\n",
    "\n",
    "print(tuple(output))"
   ]
  },
  {
   "cell_type": "code",
   "execution_count": 36,
   "id": "18a8c2c5-304e-4184-b810-c700b21293e4",
   "metadata": {},
   "outputs": [
    {
     "name": "stdout",
     "output_type": "stream",
     "text": [
      "They are not same!\n"
     ]
    }
   ],
   "source": [
    "t1 = (1,2,3,0)\n",
    "t2 = (10,11,12,13)\n",
    "\n",
    "\n",
    "\n",
    "#check if both tuples have same elements at same indexes\n",
    "for i,j in zip(t1,t2):  \n",
    "    flag = True\n",
    "    if i == j:\n",
    "        continue\n",
    "    else:\n",
    "        flag = False\n",
    "        break\n",
    "\n",
    "if flag:\n",
    "    print(\"They are Same\")\n",
    "else:\n",
    "    print(\"They are not same!\")\n",
    "    \n",
    "        "
   ]
  },
  {
   "cell_type": "code",
   "execution_count": 52,
   "id": "a31f9196-1132-4711-8334-92ef4c30b38b",
   "metadata": {},
   "outputs": [
    {
     "name": "stdout",
     "output_type": "stream",
     "text": [
      " List-2 \n",
      " Set- 2 \n",
      " Tuples- 1\n"
     ]
    }
   ],
   "source": [
    "# ###`Q4`: Count no of tuples, list and set from a list\n",
    "# ```\n",
    "# list1 = [{'hi', 'bye'},{'Geeks', 'forGeeks'},('a', 'b'),['hi', 'bye'],['a', 'b']]\n",
    "\n",
    "# ```\n",
    "# `Output:`\n",
    "\n",
    "# ```\n",
    "# List-2\n",
    "# Set-2\n",
    "# Tuples-1\n",
    "# ```\n",
    "list1 = [{'hi', 'bye'},{'Geeks', 'forGeeks'},('a', 'b'),['hi', 'bye'],['a', 'b']]\n",
    "\n",
    "output = [0,0,0]\n",
    "\n",
    "for i in list1:\n",
    "    if type(i) == list:\n",
    "        output[0] += 1\n",
    "    elif type(i) == set:\n",
    "        output[1] += 1\n",
    "    elif type(i) == tuple:\n",
    "        output[2] += 1\n",
    "\n",
    "print(f\" List-{output[0]} \\n Set- {output[1]} \\n Tuples- {output[2]}\")"
   ]
  },
  {
   "cell_type": "code",
   "execution_count": 57,
   "id": "12638976-c26e-42d3-870d-76258d2c55af",
   "metadata": {},
   "outputs": [
    {
     "data": {
      "text/plain": [
       "[80, 20]"
      ]
     },
     "execution_count": 57,
     "metadata": {},
     "output_type": "execute_result"
    }
   ],
   "source": [
    "#Sets\n",
    "# Input : ar1 = [1, 5, 10, 20, 40, 80]\n",
    "#         ar2 = [6, 7, 20, 80, 100]\n",
    "#         ar3 = [3, 4, 15, 20, 30, 70, 80, 120]\n",
    "\n",
    "# Output : [80, 20]\n",
    "ar1 = [1, 5, 10, 20, 40, 80]\n",
    "ar2 = [6, 7, 20, 80, 100]\n",
    "ar3 = [3, 4, 15, 20, 30, 70, 80, 120]\n",
    "\n",
    "\n",
    "list(set(ar1) & set(ar2) & set(ar3))"
   ]
  },
  {
   "cell_type": "code",
   "execution_count": 59,
   "id": "ee74fa2d-e5d3-44a6-afe6-57f051e71345",
   "metadata": {},
   "outputs": [
    {
     "name": "stdout",
     "output_type": "stream",
     "text": [
      "6\n"
     ]
    }
   ],
   "source": [
    "# Write a program to count unique number of vowels using sets in a given string. Lowercase and upercase vowels will be taken as different.\n",
    "# Input:\n",
    "\n",
    "# Str1 = \"hands-on data science mentorship progrAm with live classes at affordable fee only on CampusX\"\n",
    "# Output:\n",
    "\n",
    "# No of unique vowels-6\n",
    "Str1 = set(\"hands-on data science mentorship progrAm with live classes at affordable fee only on CampusX\")\n",
    "vowels = set(\"aeiouAEIOU\")\n",
    "\n",
    "print(len(Str1 & vowels))\n"
   ]
  },
  {
   "cell_type": "code",
   "execution_count": 61,
   "id": "9654aab1-05af-4c30-beb7-8f0eba87d53d",
   "metadata": {},
   "outputs": [
    {
     "name": "stdin",
     "output_type": "stream",
     "text": [
      "Enter string:  122222211\n"
     ]
    },
    {
     "name": "stdout",
     "output_type": "stream",
     "text": [
      "Yes\n"
     ]
    }
   ],
   "source": [
    "# Q3: Write a program to Check if a given string is binary string of or not.\n",
    "# A string is said to be binary if it's consists of only two unique characters.\n",
    "\n",
    "# Take string input from user.\n",
    "\n",
    "str_test = input(\"Enter string: \")\n",
    "set_test = set(str_test)\n",
    "if len(set_test) == 2:\n",
    "    print(\"Yes\")\n",
    "else:\n",
    "    print(\"No\")"
   ]
  },
  {
   "cell_type": "code",
   "execution_count": null,
   "id": "afa25229-55ae-4989-86eb-26485aba311a",
   "metadata": {},
   "outputs": [],
   "source": [
    "list1 = [[1, 2, 2, 4, 3, 6],\n",
    " [5, 1, 3, 4],\n",
    " [9, 5, 7, 1],\n",
    " [2, 4, 1, 3]]\n",
    "\n",
    "\n"
   ]
  }
 ],
 "metadata": {
  "kernelspec": {
   "display_name": "Python [conda env:base] *",
   "language": "python",
   "name": "conda-base-py"
  },
  "language_info": {
   "codemirror_mode": {
    "name": "ipython",
    "version": 3
   },
   "file_extension": ".py",
   "mimetype": "text/x-python",
   "name": "python",
   "nbconvert_exporter": "python",
   "pygments_lexer": "ipython3",
   "version": "3.12.7"
  }
 },
 "nbformat": 4,
 "nbformat_minor": 5
}
