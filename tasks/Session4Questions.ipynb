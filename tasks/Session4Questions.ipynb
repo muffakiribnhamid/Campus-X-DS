{
 "cells": [
  {
   "cell_type": "code",
   "execution_count": 7,
   "id": "691ada04-9a8f-4031-a775-2cba267f62a9",
   "metadata": {},
   "outputs": [
    {
     "data": {
      "text/plain": [
       "[['M', 'y'], ['na', 'me'], ['i', 's'], ['Kh', 'an']]"
      ]
     },
     "execution_count": 7,
     "metadata": {},
     "output_type": "execute_result"
    }
   ],
   "source": [
    "#Question 1\n",
    "list1 = [\"M\", \"na\", \"i\", \"Kh\"]\n",
    "list2 = [\"y\", \"me\", \"s\", \"an\"]\n",
    "[[i,j] for i,j in zip(list1,list2)]\n"
   ]
  },
  {
   "cell_type": "code",
   "execution_count": 11,
   "id": "ccbdc007-9989-469e-b192-55d4d96f856a",
   "metadata": {},
   "outputs": [
    {
     "name": "stdout",
     "output_type": "stream",
     "text": [
      "Jen's favourite language's are : \n",
      "Python\n",
      "Ruby\n",
      "Sarah's favourite language is : \n",
      "C\n",
      "Edward's favourite language's are : \n",
      "Ruby\n",
      "Go\n",
      "Phil's favourite language's are : \n",
      "Python\n",
      "Haskell\n"
     ]
    }
   ],
   "source": [
    "favorite_languages = {\n",
    "'jen': ['python', 'ruby'],\n",
    "'sarah': ['c'],\n",
    "'edward': ['ruby', 'go'],\n",
    "'phil': ['python', 'haskell'],\n",
    "}\n",
    "\n",
    "\n",
    "for name,languages in favorite_languages.items():\n",
    "\n",
    "    if(len(languages) > 1):\n",
    "        print(f\"{name.title()}'s favourite language's are : \")\n",
    "    else:\n",
    "        print(f\"{name.title()}'s favourite language is : \")\n",
    "\n",
    "\n",
    "    for language in languages:\n",
    "        print(language.title())\n",
    "    \n",
    "    \n",
    "        \n"
   ]
  },
  {
   "cell_type": "code",
   "execution_count": 26,
   "id": "093e5f63-8c5f-4371-8a48-0566b03ca189",
   "metadata": {},
   "outputs": [
    {
     "name": "stdout",
     "output_type": "stream",
     "text": [
      "\n",
      "[10, 20, [300, 400, [5000, 6000, 7000], 500], 30, 40]\n"
     ]
    }
   ],
   "source": [
    "#Question 2\n",
    "list1 = [10, 20, [300, 400, [5000, 6000], 500], 30, 40]\n",
    "\n",
    "list1[2][2].insert(2,7000)\n",
    "print(list1)"
   ]
  },
  {
   "cell_type": "code",
   "execution_count": 45,
   "id": "0d037955-729c-4713-a49f-fe4ebac37ec3",
   "metadata": {},
   "outputs": [
    {
     "name": "stdout",
     "output_type": "stream",
     "text": [
      "Jelly Belly-10\n",
      "Kit Kat-20\n",
      "Double Bubble-34\n",
      "Milky Way-74\n",
      "Three Musketeers-32\n"
     ]
    }
   ],
   "source": [
    "#Question 3 \n",
    "candy_list = ['Jelly Belly','Kit Kat','Double Bubble','Milky Way','Three Musketeers']\n",
    "no_of_items = [10,20,34,74,32]\n",
    "\n",
    "output = [f\"{candy}-{count}\" for candy,count in zip(candy_list,no_of_items)]\n",
    "\n",
    "for line in output:\n",
    "    print(line)"
   ]
  },
  {
   "cell_type": "code",
   "execution_count": 13,
   "id": "39da9121-63bf-4bf0-a796-cf2e1e2e0961",
   "metadata": {},
   "outputs": [
    {
     "name": "stdout",
     "output_type": "stream",
     "text": [
      "[1, 3, 6, 10, 15, 21]\n"
     ]
    }
   ],
   "source": [
    "#Question 4\n",
    "# Problem 4: Running Sum on list\n",
    "# Write a program to print a list after performing running sum on it.\n",
    "\n",
    "# i.e:\n",
    "\n",
    "# Input:\n",
    "\n",
    "# list1 = [1,2,3,4,5,6]\n",
    "# Output:\n",
    "\n",
    "# [1,3,6,10,15,21]\n",
    "\n",
    "\n",
    "\n",
    "\n",
    "list1 = [1,2,3,4,5,6]\n",
    "sumX = 0\n",
    "output = []\n",
    "\n",
    "for i in list1:\n",
    "    sumX += i\n",
    "    output.append(sumX)\n",
    "print(output)\n",
    "\n"
   ]
  },
  {
   "cell_type": "code",
   "execution_count": 16,
   "id": "c04d2568-9ad0-466b-8e07-e96dfb7f14a4",
   "metadata": {},
   "outputs": [
    {
     "name": "stdout",
     "output_type": "stream",
     "text": [
      "[22, 20, 16, 10, 23]\n"
     ]
    }
   ],
   "source": [
    "# Problem 5: You are given a list of integers. You are asked to make a list by running through elements of the list by adding all elements greater and itself.\n",
    "# i.e. Say given list is [2,4,6,10,1] resultant list will be [22,20,10,23].\n",
    "\n",
    "# For 1st element 2 ->> these are greater (4+6+10) values and 2 itself so on adding becomes 22.\n",
    "\n",
    "# For 2nd element 4 ->> greater elements are (6, 10) and 4 itself, so on adding 20\n",
    "\n",
    "# like wise for all other elememts.\n",
    "\n",
    "# [2,4,6,10,1]-->[22,20,16,10,23]\n",
    "\n",
    "\n",
    "list1 = [2,4,6,10,1]\n",
    "sum_x = 0\n",
    "output = []\n",
    "\n",
    "for i in list1: \n",
    "    sum_x = i\n",
    "    for j in list1:\n",
    "        if j > i:\n",
    "            sum_x += j\n",
    "    output.append(sum_x)\n",
    "\n",
    "print(output)"
   ]
  },
  {
   "cell_type": "code",
   "execution_count": 8,
   "id": "b7760c87-73a4-41e7-b425-6e2596604189",
   "metadata": {},
   "outputs": [
    {
     "name": "stdout",
     "output_type": "stream",
     "text": [
      "[34, 67, 89]\n"
     ]
    }
   ],
   "source": [
    "# ###`Problem 6:` Find list of common unique items from two list. and show in increasing order\n",
    "\n",
    "# `Input`\n",
    "\n",
    "# ```\n",
    "# num1 = [23,45,67,78,89,34]\n",
    "# num2 = [34,89,55,56,39,67]\n",
    "# ```\n",
    "\n",
    "# `Output:`\n",
    "# ```\n",
    "# [34, 67, 89]\n",
    "# ```\n",
    "\n",
    "num1 = [23,45,67,78,89,34]\n",
    "num2 = [34,89,55,56,39,67]\n",
    "# common = []\n",
    "\n",
    "\n",
    "# for i in num1:\n",
    "#     for j in num2:\n",
    "#         if j == i:\n",
    "#             common.append(j)\n",
    "\n",
    "# common.sort()\n",
    "# print(common)\n",
    "\n",
    "#or \n",
    "\n",
    "common = sorted(set(num1) & set(num2))\n",
    "print(common)"
   ]
  },
  {
   "cell_type": "code",
   "execution_count": 23,
   "id": "0241f440-7e3c-4526-bd3a-56ec06b9bbd7",
   "metadata": {},
   "outputs": [
    {
     "data": {
      "text/plain": [
       "['456', '23fg', '1ac21', 'kls', '1', '098d']"
      ]
     },
     "execution_count": 23,
     "metadata": {},
     "output_type": "execute_result"
    }
   ],
   "source": [
    "# Sort a list of alphanumeric strings based on product value of numeric character in it. \n",
    "# If in any string there is no numeric character take it's product value as 1.\n",
    "\n",
    "\n",
    "a = ['1ac21', '23fg', '456', '098d','1','kls']\n",
    "products = []\n",
    "\n",
    "for item in a:\n",
    "    product = 1\n",
    "    for char in item:\n",
    "        if char.isdigit():\n",
    "            product *= int(char)\n",
    "    products.append(product)\n",
    "\n",
    "[i[1] for i in sorted(list(zip(products,a)),reverse=True)]"
   ]
  },
  {
   "cell_type": "code",
   "execution_count": 34,
   "id": "383cf4c9-cd9e-421f-bce5-29a9c9f9ee40",
   "metadata": {},
   "outputs": [
    {
     "name": "stdout",
     "output_type": "stream",
     "text": [
      "['CampusX', 'is', 'a', 'channel', 'for', 'data-science', 'aspirants.']\n"
     ]
    }
   ],
   "source": [
    "L = ['CampusX is a channel', 'for data-science', 'aspirants.']\n",
    "output = []\n",
    "\n",
    "for i in L:\n",
    "    words = i.split(' ')\n",
    "    for word in words:\n",
    "        output.append(word)\n",
    "print(output)     \n",
    "            \n",
    "        \n"
   ]
  },
  {
   "cell_type": "code",
   "execution_count": 45,
   "id": "c9c06147-40f6-413a-b094-104a7a8db8b5",
   "metadata": {},
   "outputs": [
    {
     "name": "stdout",
     "output_type": "stream",
     "text": [
      "campux is best channel\n"
     ]
    }
   ],
   "source": [
    "# Problem 9: Convert Character Matrix to single String using string comprehension.\n",
    "# Example 1:\n",
    "\n",
    "# Input:\n",
    "\n",
    "# [['c', 'a', 'm', 'p', 'u', 'x'], ['i', 's'], ['b', 'e', 's', 't'], ['c', 'h', 'a', 'n', 'n', 'e', 'l']]\n",
    "# Output:\n",
    "\n",
    "a = [['c', 'a', 'm', 'p', 'u', 'x'], ['i', 's'], ['b', 'e', 's', 't'], ['c', 'h', 'a', 'n', 'n', 'e', 'l']]\n",
    "# campux is best channel\n",
    "\n",
    "words = ' '.join(''.join(sublist) for sublist in a)\n",
    "print(words)"
   ]
  },
  {
   "cell_type": "code",
   "execution_count": null,
   "id": "f46fa891-a386-4836-b2d6-fe3050ad2cd3",
   "metadata": {},
   "outputs": [],
   "source": [
    "# Problem 10: Add Space between Potential Words.\n",
    "# Example:\n",
    "\n",
    "# Input:\n",
    "\n",
    "# ['campusxIs', 'bestFor', 'dataScientist']\n",
    "# Output:\n",
    "\n",
    "# ['campusx Is', 'best For', 'data Scientist']"
   ]
  },
  {
   "cell_type": "code",
   "execution_count": 55,
   "id": "64b8aef6-cb54-4b3a-85ac-e26b4cf2b9b1",
   "metadata": {},
   "outputs": [
    {
     "name": "stdout",
     "output_type": "stream",
     "text": [
      "['campusx Is ', 'best For ', 'data Scientist ']\n"
     ]
    }
   ],
   "source": [
    "l = ['campusxIs', 'bestFor', 'dataScientist']\n",
    "output = []\n",
    "for i in l:\n",
    "    temp = [[]]\n",
    "    for j in i:        \n",
    "        if j.isupper():\n",
    "            temp.append([])\n",
    "        temp[-1].append(j)\n",
    "\n",
    "    temp_str = \"\"\n",
    "    for item in temp:\n",
    "        temp_str += \"\".join(item) + \" \"\n",
    "    output.append(temp_str)\n",
    "print(output)"
   ]
  },
  {
   "cell_type": "code",
   "execution_count": 70,
   "id": "ff2c1c51-9e84-4926-b765-db948b7c780d",
   "metadata": {},
   "outputs": [
    {
     "name": "stdout",
     "output_type": "stream",
     "text": [
      "[1, 2, 3, 4, 5, 7, 8]\n"
     ]
    }
   ],
   "source": [
    "# Problem 11: Write a program that can perform union operation on 2 lists\n",
    "# Example:\n",
    "\n",
    "# Input:\n",
    "\n",
    "# [1,2,3,4,5,1]\n",
    "# [2,3,5,7,8]\n",
    "# Output:\n",
    "\n",
    "# [1,2,3,4,5,7,8]\n",
    "\n",
    "# output = []\n",
    "\n",
    "# output = list(set(l1) | set(l2))\n",
    "# print(output)\n",
    "\n",
    "# or\n",
    "l1 = [1,2,3,4,5,1]\n",
    "l2 = [2,3,5,7,8]\n",
    "union = []\n",
    "\n",
    "for i in l1:\n",
    "    if i not in union:\n",
    "        union.append(i)\n",
    "\n",
    "for j in l2:\n",
    "    if j not in union:\n",
    "        union.append(j)\n",
    "\n",
    "print(union)"
   ]
  },
  {
   "cell_type": "code",
   "execution_count": 78,
   "id": "7f74c2b2-ab40-4c63-b8dc-6e1282032004",
   "metadata": {},
   "outputs": [
    {
     "name": "stdout",
     "output_type": "stream",
     "text": [
      "[3, 6, 9]\n"
     ]
    }
   ],
   "source": [
    "# Problem 12: Write a program that can find the max number of each row of a matrix\n",
    "# Example:\n",
    "\n",
    "# Input:\n",
    "\n",
    "# [[1,2,3],[4,5,6],[7,8,9]]\n",
    "# Output:\n",
    "\n",
    "# [3,6,9]\n",
    "\n",
    "l = [[1,2,3],[4,5,6],[7,8,9]]\n",
    "output = []\n",
    "\n",
    "\n",
    "for i in l:\n",
    "    output.append(max(i))\n",
    "print(output)\n",
    "\n",
    "    "
   ]
  },
  {
   "cell_type": "code",
   "execution_count": 80,
   "id": "c24d253b-952d-467c-9029-73d0609161d0",
   "metadata": {},
   "outputs": [
    {
     "data": {
      "text/plain": [
       "[[0, 1, 2], [3, 4, 5], [6, 7, 8]]"
      ]
     },
     "execution_count": 80,
     "metadata": {},
     "output_type": "execute_result"
    }
   ],
   "source": [
    "# Problem 13: Write a list comprehension to print the following matrix\n",
    "# [[0, 1, 2], [3, 4, 5], [6, 7, 8]]\n",
    "\n",
    "[[j + 3 * i for j in range(0,3)] for i in range(0,3)]"
   ]
  },
  {
   "cell_type": "code",
   "execution_count": 82,
   "id": "14fc5bc6-5d57-4d50-9237-aae8790f6ccc",
   "metadata": {},
   "outputs": [
    {
     "data": {
      "text/plain": [
       "[1, 2, 3, 4, 5, 6, 7, 8, 9]"
      ]
     },
     "execution_count": 82,
     "metadata": {},
     "output_type": "execute_result"
    }
   ],
   "source": [
    "matrix = [\n",
    "[1,2,3],\n",
    "[4,5,6],\n",
    "[7,8,9]\n",
    "]\n",
    "\n",
    "# result = []\n",
    "# for i in matrix:\n",
    "#     for j in i:\n",
    "#         result.append(j)\n",
    "\n",
    "\n",
    "# print(result)\n",
    "\n",
    "[i for j in matrix for i in j]"
   ]
  },
  {
   "cell_type": "code",
   "execution_count": null,
   "id": "0d7c7f92-8fe9-4472-b4c4-040f5edc81bb",
   "metadata": {},
   "outputs": [],
   "source": []
  }
 ],
 "metadata": {
  "kernelspec": {
   "display_name": "Python [conda env:base] *",
   "language": "python",
   "name": "conda-base-py"
  },
  "language_info": {
   "codemirror_mode": {
    "name": "ipython",
    "version": 3
   },
   "file_extension": ".py",
   "mimetype": "text/x-python",
   "name": "python",
   "nbconvert_exporter": "python",
   "pygments_lexer": "ipython3",
   "version": "3.12.7"
  }
 },
 "nbformat": 4,
 "nbformat_minor": 5
}
