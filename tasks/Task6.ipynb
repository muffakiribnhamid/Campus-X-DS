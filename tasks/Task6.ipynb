{
 "cells": [
  {
   "cell_type": "code",
   "execution_count": 2,
   "id": "41642280-e30c-4721-bb49-27e897f65b15",
   "metadata": {},
   "outputs": [
    {
     "data": {
      "text/plain": [
       "[1, 2, 3, 4, 5]"
      ]
     },
     "execution_count": 2,
     "metadata": {},
     "output_type": "execute_result"
    }
   ],
   "source": [
    "# Problem-1: Write a Python function that takes a list and returns a new list with unique elements of the first list.\n",
    "# Exercise 1:\n",
    "\n",
    "# Input:\n",
    "\n",
    "# [1,2,3,3,3,3,4,5]\n",
    "# Output:\n",
    "\n",
    "# [1, 2, 3, 4, 5]\n",
    "\n",
    "dem = [1,2,3,3,3,3,4,5]\n",
    "\n",
    "def new_list(arr=[]):\n",
    "    new_arr = []\n",
    "    for i in arr:\n",
    "        if i not in new_arr:\n",
    "            new_arr.append(i)\n",
    "    return new_arr\n",
    "\n",
    "new_list(dem)\n",
    "        \n",
    "        \n",
    "    "
   ]
  },
  {
   "cell_type": "code",
   "execution_count": 8,
   "id": "1c39b20a-3036-4558-980a-19f66db1e7db",
   "metadata": {},
   "outputs": [
    {
     "name": "stdout",
     "output_type": "stream",
     "text": [
      "black-green-red-white-yellow\n"
     ]
    }
   ],
   "source": [
    "# Problem-2: Write a Python function that accepts a hyphen-separated sequence of words as parameter and returns the words in a hyphen-separated sequence after sorting them alphabetically.\n",
    "# Example 1:\n",
    "\n",
    "# Input:\n",
    "\n",
    "# green-red-yellow-black-white\n",
    "# Output:\n",
    "\n",
    "# black-green-red-white-yellow\n",
    "\n",
    "def new_list(string=\"\"):\n",
    "    new_list = sorted(string.split(\"-\"))\n",
    "    return \"-\".join(new_list)\n",
    "\n",
    "new_list(\"green-red-yellow-black-white\")\n"
   ]
  },
  {
   "cell_type": "code",
   "execution_count": 6,
   "id": "f9f38531-e4e3-484d-8df2-ced276776aa9",
   "metadata": {},
   "outputs": [
    {
     "name": "stdout",
     "output_type": "stream",
     "text": [
      "No. of Upper case characters:  1\n",
      "No. of Lower case characters:  4\n"
     ]
    }
   ],
   "source": [
    "# Problem 3: Write a Python function that accepts a string and calculate the number of upper case letters and lower case letters.\n",
    "# Sample String : 'CampusX is an Online Mentorship Program fOr EnginEering studentS.'\n",
    "# Expected Output :\n",
    "# No. of Upper case characters :  9\n",
    "# No. of Lower case Characters :  47\n",
    "\n",
    "sample_str = \"Hello\"\n",
    "\n",
    "def case_counter(str):\n",
    "    upper = 0\n",
    "    lower = 0\n",
    "    for i in str:\n",
    "        if i.isupper():\n",
    "            upper += 1\n",
    "        elif i.islower():\n",
    "            lower += 1\n",
    "\n",
    "    print( \"No. of Upper case characters: \",upper)\n",
    "    print( \"No. of Lower case characters: \",lower)\n",
    "    \n",
    "            \n",
    "        \n",
    "case_counter(sample_str)\n",
    "\n",
    "    "
   ]
  },
  {
   "cell_type": "code",
   "execution_count": 7,
   "id": "2a4bb9f6-bddf-48dd-8ea1-e62c3f6fb581",
   "metadata": {},
   "outputs": [
    {
     "data": {
      "text/plain": [
       "[2, 4, 6, 8]"
      ]
     },
     "execution_count": 7,
     "metadata": {},
     "output_type": "execute_result"
    }
   ],
   "source": [
    "# Problem 4: Write a Python program to print the even numbers from a given list.\n",
    "# Sample List : [1, 2, 3, 4, 5, 6, 7, 8, 9]\n",
    "# Expected Result : [2, 4, 6, 8]\n",
    "\n",
    "l = [1, 2, 3, 4, 5, 6, 7, 8, 9]\n",
    "\n",
    "def even_numbers(list = []):\n",
    "    new_list = []\n",
    "    for i in list:\n",
    "        if i % 2 == 0:\n",
    "            new_list.append(i)\n",
    "    return new_list\n",
    "\n",
    "\n",
    "\n",
    "even_numbers(l)\n",
    "            "
   ]
  },
  {
   "cell_type": "code",
   "execution_count": 13,
   "id": "c674ba4f-dc4f-4161-98e9-7fa497c4b5f5",
   "metadata": {},
   "outputs": [
    {
     "name": "stdout",
     "output_type": "stream",
     "text": [
      "Not perfect Number\n"
     ]
    }
   ],
   "source": [
    "# ### **`Problem 5:`** Write a Python function to check whether a number is perfect or not.\n",
    "\n",
    "# A Perfect number is a number that is half the sum of all of its positive divisors (including itself).\n",
    "\n",
    "# Example : \n",
    "\n",
    "# ```\n",
    "# The first perfect number is 6, because 1, 2, and 3 are its proper positive divisors, and 1 + 2 + 3 = 6. \n",
    "# Equivalently, the number 6 is equal to half the sum of all its positive divisors: ( 1 + 2 + 3 + 6 ) / 2 = 6. \n",
    "\n",
    "# The next perfect number is 28 = 1 + 2 + 4 + 7 + 14. This is followed by the perfect numbers 496 and 8128.\n",
    "# ```\n",
    "\n",
    "\n",
    "def perfect_number(n):\n",
    "    divisor_sum = 0\n",
    "    for i in range(1,n+1):\n",
    "        if n % i == 0:\n",
    "           divisor_sum += i\n",
    "    if (divisor_sum / 2) == n:\n",
    "        print(\"Perfect Number\")\n",
    "    else:\n",
    "        print(\"Not perfect Number\")\n",
    "        \n",
    "perfect_number(8)\n",
    "\n"
   ]
  },
  {
   "cell_type": "code",
   "execution_count": 21,
   "id": "ac191508-1d19-48b9-ae37-50ded1a74a7c",
   "metadata": {},
   "outputs": [
    {
     "data": {
      "text/plain": [
       "{1: 10, 2: 20, 3: 30, 4: 40, 5: 50, 6: 60}"
      ]
     },
     "execution_count": 21,
     "metadata": {},
     "output_type": "execute_result"
    }
   ],
   "source": [
    "# ### **`Problem-6:`** Write a Python function to concatenate any no of dictionaries to create a new one.\n",
    "\n",
    "# ```\n",
    "# Sample Dictionary :\n",
    "# dic1={1:10, 2:20}\n",
    "# dic2={3:30, 4:40}\n",
    "# dic3={5:50,6:60}\n",
    "# Expected Result : {1: 10, 2: 20, 3: 30, 4: 40, 5: 50, 6: 60}\n",
    "# ```\n",
    "\n",
    "\n",
    "dic1={1:10, 2:20}\n",
    "dic2={3:30, 4:40}\n",
    "dic3={5:50,6:60}\n",
    "\n",
    "def concatenate_dic(*kwargs):\n",
    "    d = {}\n",
    "    for i in kwargs:\n",
    "        d.update(i)\n",
    "\n",
    "    return d\n",
    "    \n",
    "    \n",
    "\n",
    "concatenate_dic(dic1,dic2,dic3)"
   ]
  },
  {
   "cell_type": "code",
   "execution_count": 7,
   "id": "c784a513-9e5d-4fa6-8a5a-d51ae78e6d55",
   "metadata": {},
   "outputs": [
    {
     "name": "stdin",
     "output_type": "stream",
     "text": [
      "Enter first name muffakir\n",
      "Enter second name hamid\n"
     ]
    },
    {
     "name": "stdout",
     "output_type": "stream",
     "text": [
      "Muffakir Hamid \n"
     ]
    },
    {
     "name": "stdin",
     "output_type": "stream",
     "text": [
      "c to contine, q to quit :  c\n",
      "Enter first name muffakir\n",
      "Enter second name hamid\n"
     ]
    },
    {
     "name": "stdout",
     "output_type": "stream",
     "text": [
      "Muffakir Hamid \n"
     ]
    },
    {
     "name": "stdin",
     "output_type": "stream",
     "text": [
      "c to contine, q to quit :  q\n"
     ]
    }
   ],
   "source": [
    "def format_name(first_name,second_name,last_name = ''):\n",
    "    if second_name:\n",
    "        full_name = f\"{first_name} {second_name} {last_name}\"\n",
    "    else:\n",
    "        full_name = f\"{first_name} {last_name}\"\n",
    "    return full_name.title()\n",
    "\n",
    "format_name(\"muffakir\",\"ibn\",\"hamid\")\n",
    "\n",
    "\n",
    "while True:\n",
    "    f_name = input(\"Enter first name\")\n",
    "    s_name = input(\"Enter second name\")\n",
    "\n",
    "    formatted_name = format_name(f_name,s_name)\n",
    "    print(formatted_name)\n",
    "    \n",
    "    c = input(\"c to contine, q to quit : \")\n",
    "\n",
    "    if c != \"c\":\n",
    "        break\n",
    "    else:\n",
    "        continue\n",
    "        \n",
    "    \n",
    "    "
   ]
  },
  {
   "cell_type": "code",
   "execution_count": 37,
   "id": "ec126a7d-1136-4b4c-b035-217241e7ad04",
   "metadata": {},
   "outputs": [
    {
     "name": "stdout",
     "output_type": "stream",
     "text": [
      "hello -> 3\n"
     ]
    }
   ],
   "source": [
    "# `Problem-7` Write a python function that accepts a string as input and returns the word with most occurence.\n",
    "\n",
    "# ```\n",
    "# Input:\n",
    "# hello how are you i am fine thank you\n",
    "# ```\n",
    "\n",
    "# ```\n",
    "# Output\n",
    "# you -> 2\n",
    "# ```\n",
    "\n",
    "\n",
    "\n",
    "def occurance(s):\n",
    "\n",
    "    dic = {}\n",
    "    for i in s.split():\n",
    "        if i in dic:\n",
    "            dic[i] = dic[i] + 1\n",
    "        else:\n",
    "            dic[i] = 1\n",
    "\n",
    "    max_val = max(dic.values())\n",
    "    for i in dic:\n",
    "        if dic[i] == max_val:\n",
    "            print(i , '->', max_val)\n",
    "\n",
    "        \n",
    "\n",
    "occurance('hello hello hello how are you i am fine thank you')\n",
    "    "
   ]
  },
  {
   "cell_type": "code",
   "execution_count": 44,
   "id": "81f5930c-aa09-45d2-9316-c0e46fb4769d",
   "metadata": {},
   "outputs": [
    {
     "data": {
      "text/plain": [
       "(1, 1)"
      ]
     },
     "execution_count": 44,
     "metadata": {},
     "output_type": "execute_result"
    }
   ],
   "source": [
    "# Problem-9 Write a python function that accepts a list of 2D co-ordinates and a query point, and then finds the the co-ordinate which is closest in terms of distance from the query point.\n",
    "\n",
    "# List of Coordinates\n",
    "# [(1,1),(2,2),(3,3),(4,4)]\n",
    "# Query Point\n",
    "# (0,0)\n",
    "# Output\n",
    "# Nearest to (0,0) is (1,1)\n",
    "\n",
    "def shortest_path(cordinates,query):\n",
    "    temp = []\n",
    "    for i in cordinates:\n",
    "        distance = ((i[0] - query[0]) ** 2 + (i[1] - query[1]) ** 2 ) ** 0.5\n",
    "        temp.append(distance)\n",
    "\n",
    "    return cordinates[sorted(list(enumerate(temp)),key=lambda x : x[1])[0][0]]\n",
    "    \n",
    "shortest_path([(1,1),(2,2),(3,3),(4,4)],(0,0))    "
   ]
  },
  {
   "cell_type": "code",
   "execution_count": 50,
   "id": "a2e572cb-eebd-4268-b1a3-623f3991c875",
   "metadata": {},
   "outputs": [
    {
     "name": "stdout",
     "output_type": "stream",
     "text": [
      "{'rat', 'fat', 'pat', 'cat', 'mat', 'sat', 'bat'}\n",
      "cat mat rat cat\n",
      "sat bat fat cat rat\n",
      "pat cat mat rat\n"
     ]
    },
    {
     "data": {
      "text/plain": [
       "[[1, 0, 0, 2, 1, 0, 0], [1, 1, 0, 1, 0, 1, 1], [1, 0, 1, 1, 1, 0, 0]]"
      ]
     },
     "execution_count": 50,
     "metadata": {},
     "output_type": "execute_result"
    }
   ],
   "source": [
    "# Write a python program that receives a list of strings and performs bag of word operation on those strings\n",
    "\n",
    "L = [\n",
    "    'cat mat rat cat',\n",
    "    'sat bat fat cat rat',\n",
    "    'pat cat mat rat'\n",
    "]\n",
    "\n",
    "def bow(L):\n",
    "    vocab = set()\n",
    "    for i in L:\n",
    "        vocab.update(i.split())\n",
    "    print(vocab)\n",
    "    result = []\n",
    "    for i in L:\n",
    "        result.append([])\n",
    "        for j in vocab:\n",
    "            result[-1].append(i.count(j))\n",
    "        \n",
    "    return result  \n",
    "\n",
    "\n",
    "bow(L)\n",
    "        \n",
    "        "
   ]
  },
  {
   "cell_type": "code",
   "execution_count": 55,
   "id": "ffcab850-5f00-4664-9955-f1c6bf4658e6",
   "metadata": {},
   "outputs": [
    {
     "name": "stdout",
     "output_type": "stream",
     "text": [
      "[11, 11, 14]\n"
     ]
    }
   ],
   "source": [
    "# Write a Python program to add three given lists using Python map and lambda.\n",
    "\n",
    "L1 = [1,2,9]\n",
    "L2 = [7,8,1]\n",
    "L3 = [3,1,4]\n",
    "\n",
    "result = list(map(lambda x,y,z:x+y+z,L1,L2,L3))\n",
    "print(result)"
   ]
  },
  {
   "cell_type": "code",
   "execution_count": 57,
   "id": "8d23f80f-7a4e-45a6-8f6b-f64414ee3a0f",
   "metadata": {},
   "outputs": [
    {
     "name": "stdout",
     "output_type": "stream",
     "text": [
      "[1, 2, 9, 64, 625, 7776]\n"
     ]
    }
   ],
   "source": [
    "# Write a Python program to create a list containing the power of said number in bases\n",
    "# raised to the corresponding number in the index using Python map.\n",
    "\n",
    "list1 = [1,2,3,4,5,6]\n",
    "result = list(map(lambda x,i:x**i,list1,range(len(list1))))\n",
    "print(result)"
   ]
  },
  {
   "cell_type": "code",
   "execution_count": 58,
   "id": "9001ebeb-3a75-4e1e-ae28-7b31f44f25a7",
   "metadata": {},
   "outputs": [
    {
     "data": {
      "text/plain": [
       "['I', 'A', 'o', 'u', 'i', 'i', 'a', 'e', 'a', 'e', 'i', 'a', 'a']"
      ]
     },
     "execution_count": 58,
     "metadata": {},
     "output_type": "execute_result"
    }
   ],
   "source": [
    "# Using filter() and list() functions and .lower()\n",
    "# method filter all the vowels in a given string.\n",
    "\n",
    "str1 = \"FIFA World cup in 2022 will take place in Qatar\"\n",
    "\n",
    "list(filter(lambda x :True if x.lower() in 'aeiou' else False,str1))"
   ]
  },
  {
   "cell_type": "code",
   "execution_count": 59,
   "id": "cde2624a-0f77-40e6-8452-e3e1a009a69a",
   "metadata": {},
   "outputs": [
    {
     "data": {
      "text/plain": [
       "[1, 2, 3, 3, 6, 7, 7, 5, 4]"
      ]
     },
     "execution_count": 59,
     "metadata": {},
     "output_type": "execute_result"
    }
   ],
   "source": [
    "#use reduce to convert 2d list into 1d\n",
    "ini_list = [[1,2,3],\n",
    "            [3,6,7],\n",
    "            [7,5,4],\n",
    "           ]\n",
    "import functools\n",
    "functools.reduce(lambda x,y:x+y,ini_list)"
   ]
  },
  {
   "cell_type": "code",
   "execution_count": 60,
   "id": "89bd41e9-aadb-47e2-b01d-18bcec13de74",
   "metadata": {},
   "outputs": [
    {
     "data": {
      "text/plain": [
       "['Neha Singh', 'Abhinav Sharma']"
      ]
     },
     "execution_count": 60,
     "metadata": {},
     "output_type": "execute_result"
    }
   ],
   "source": [
    "employees = [\n",
    "    {\n",
    "        'fname':'Nitish',\n",
    "        'lname':'Singh',\n",
    "        'age' : 33,\n",
    "        'grade':'skilled'\n",
    "    },\n",
    "    {\n",
    "        'fname':'Ankit',\n",
    "        'lname':'Verma',\n",
    "        'age' : 34,\n",
    "        'grade':'semi-skilled'\n",
    "    },\n",
    "    {\n",
    "        'fname':'Neha',\n",
    "        'lname':'Singh',\n",
    "        'age' : 35,\n",
    "        'grade':'highly-skilled'\n",
    "    },\n",
    "    {\n",
    "        'fname':'Anurag',\n",
    "        'lname':'Kumar',\n",
    "        'age' : 30,\n",
    "        'grade':'skilled'\n",
    "    },\n",
    "    {\n",
    "        'fname':'Abhinav',\n",
    "        'lname':'Sharma',\n",
    "        'age' : 37,\n",
    "        'grade':'highly-skilled'\n",
    "    }\n",
    "    \n",
    "]\n",
    "\n",
    "\n",
    "# A dictionary contains following information about 5 employees:\n",
    "\n",
    "# First name\n",
    "# Last name\n",
    "# Age\n",
    "# Grade(Skilled,Semi-skilled,Highly skilled)\n",
    "# Write a program using map/filter/reduce to a list of employees(first name + last name) who are highly skilled\n",
    "\n",
    "\n",
    "list(map(lambda x:x['fname'] + ' ' + x['lname'],list(filter(lambda x : True if x['grade'] == 'highly-skilled' else False,employees))))"
   ]
  },
  {
   "cell_type": "code",
   "execution_count": 68,
   "id": "3839988e-9e38-42ec-8770-236f63672ac8",
   "metadata": {},
   "outputs": [
    {
     "data": {
      "text/plain": [
       "['Neha Singh', 'Abhinav Sharma']"
      ]
     },
     "execution_count": 68,
     "metadata": {},
     "output_type": "execute_result"
    }
   ],
   "source": [
    "employees = [\n",
    "    {\n",
    "        'fname':'Nitish',\n",
    "        'lname':'Singh',\n",
    "        'age' : 33,\n",
    "        'grade':'skilled'\n",
    "    },\n",
    "    {\n",
    "        'fname':'Ankit',\n",
    "        'lname':'Verma',\n",
    "        'age' : 34,\n",
    "        'grade':'semi-skilled'\n",
    "    },\n",
    "    {\n",
    "        'fname':'Neha',\n",
    "        'lname':'Singh',\n",
    "        'age' : 35,\n",
    "        'grade':'highly-skilled'\n",
    "    },\n",
    "    {\n",
    "        'fname':'Anurag',\n",
    "        'lname':'Kumar',\n",
    "        'age' : 30,\n",
    "        'grade':'skilled'\n",
    "    },\n",
    "    {\n",
    "        'fname':'Abhinav',\n",
    "        'lname':'Sharma',\n",
    "        'age' : 37,\n",
    "        'grade':'highly-skilled'\n",
    "    }\n",
    "\n",
    "]\n",
    "\n",
    "list(map(lambda x: x['fname'] + ' ' + x['lname'], filter(lambda x : True if x['grade'] == 'highly-skilled' else False, employees)))"
   ]
  },
  {
   "cell_type": "code",
   "execution_count": null,
   "id": "4f858f39-4e3f-4992-b15e-a8a3253ee5d2",
   "metadata": {},
   "outputs": [],
   "source": []
  }
 ],
 "metadata": {
  "kernelspec": {
   "display_name": "Python [conda env:base] *",
   "language": "python",
   "name": "conda-base-py"
  },
  "language_info": {
   "codemirror_mode": {
    "name": "ipython",
    "version": 3
   },
   "file_extension": ".py",
   "mimetype": "text/x-python",
   "name": "python",
   "nbconvert_exporter": "python",
   "pygments_lexer": "ipython3",
   "version": "3.12.7"
  }
 },
 "nbformat": 4,
 "nbformat_minor": 5
}
