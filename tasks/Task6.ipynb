{
 "cells": [
  {
   "cell_type": "code",
   "execution_count": 2,
   "id": "41642280-e30c-4721-bb49-27e897f65b15",
   "metadata": {},
   "outputs": [
    {
     "data": {
      "text/plain": [
       "[1, 2, 3, 4, 5]"
      ]
     },
     "execution_count": 2,
     "metadata": {},
     "output_type": "execute_result"
    }
   ],
   "source": [
    "# Problem-1: Write a Python function that takes a list and returns a new list with unique elements of the first list.\n",
    "# Exercise 1:\n",
    "\n",
    "# Input:\n",
    "\n",
    "# [1,2,3,3,3,3,4,5]\n",
    "# Output:\n",
    "\n",
    "# [1, 2, 3, 4, 5]\n",
    "\n",
    "dem = [1,2,3,3,3,3,4,5]\n",
    "\n",
    "def new_list(arr=[]):\n",
    "    new_arr = []\n",
    "    for i in arr:\n",
    "        if i not in new_arr:\n",
    "            new_arr.append(i)\n",
    "    return new_arr\n",
    "\n",
    "new_list(dem)\n",
    "        \n",
    "        \n",
    "    "
   ]
  },
  {
   "cell_type": "code",
   "execution_count": 8,
   "id": "1c39b20a-3036-4558-980a-19f66db1e7db",
   "metadata": {},
   "outputs": [
    {
     "name": "stdout",
     "output_type": "stream",
     "text": [
      "black-green-red-white-yellow\n"
     ]
    }
   ],
   "source": [
    "# Problem-2: Write a Python function that accepts a hyphen-separated sequence of words as parameter and returns the words in a hyphen-separated sequence after sorting them alphabetically.\n",
    "# Example 1:\n",
    "\n",
    "# Input:\n",
    "\n",
    "# green-red-yellow-black-white\n",
    "# Output:\n",
    "\n",
    "# black-green-red-white-yellow\n",
    "\n",
    "def new_list(string=\"\"):\n",
    "    new_list = sorted(string.split(\"-\"))\n",
    "    return \"-\".join(new_list)\n",
    "\n",
    "new_list(\"green-red-yellow-black-white\")\n"
   ]
  },
  {
   "cell_type": "code",
   "execution_count": 6,
   "id": "f9f38531-e4e3-484d-8df2-ced276776aa9",
   "metadata": {},
   "outputs": [
    {
     "name": "stdout",
     "output_type": "stream",
     "text": [
      "No. of Upper case characters:  1\n",
      "No. of Lower case characters:  4\n"
     ]
    }
   ],
   "source": [
    "# Problem 3: Write a Python function that accepts a string and calculate the number of upper case letters and lower case letters.\n",
    "# Sample String : 'CampusX is an Online Mentorship Program fOr EnginEering studentS.'\n",
    "# Expected Output :\n",
    "# No. of Upper case characters :  9\n",
    "# No. of Lower case Characters :  47\n",
    "\n",
    "sample_str = \"Hello\"\n",
    "\n",
    "def case_counter(str):\n",
    "    upper = 0\n",
    "    lower = 0\n",
    "    for i in str:\n",
    "        if i.isupper():\n",
    "            upper += 1\n",
    "        elif i.islower():\n",
    "            lower += 1\n",
    "\n",
    "    print( \"No. of Upper case characters: \",upper)\n",
    "    print( \"No. of Lower case characters: \",lower)\n",
    "    \n",
    "            \n",
    "        \n",
    "case_counter(sample_str)\n",
    "\n",
    "    "
   ]
  },
  {
   "cell_type": "code",
   "execution_count": 7,
   "id": "2a4bb9f6-bddf-48dd-8ea1-e62c3f6fb581",
   "metadata": {},
   "outputs": [
    {
     "data": {
      "text/plain": [
       "[2, 4, 6, 8]"
      ]
     },
     "execution_count": 7,
     "metadata": {},
     "output_type": "execute_result"
    }
   ],
   "source": [
    "# Problem 4: Write a Python program to print the even numbers from a given list.\n",
    "# Sample List : [1, 2, 3, 4, 5, 6, 7, 8, 9]\n",
    "# Expected Result : [2, 4, 6, 8]\n",
    "\n",
    "l = [1, 2, 3, 4, 5, 6, 7, 8, 9]\n",
    "\n",
    "def even_numbers(list = []):\n",
    "    new_list = []\n",
    "    for i in list:\n",
    "        if i % 2 == 0:\n",
    "            new_list.append(i)\n",
    "    return new_list\n",
    "\n",
    "\n",
    "\n",
    "even_numbers(l)\n",
    "            "
   ]
  },
  {
   "cell_type": "code",
   "execution_count": 13,
   "id": "c674ba4f-dc4f-4161-98e9-7fa497c4b5f5",
   "metadata": {},
   "outputs": [
    {
     "name": "stdout",
     "output_type": "stream",
     "text": [
      "Not perfect Number\n"
     ]
    }
   ],
   "source": [
    "# ### **`Problem 5:`** Write a Python function to check whether a number is perfect or not.\n",
    "\n",
    "# A Perfect number is a number that is half the sum of all of its positive divisors (including itself).\n",
    "\n",
    "# Example : \n",
    "\n",
    "# ```\n",
    "# The first perfect number is 6, because 1, 2, and 3 are its proper positive divisors, and 1 + 2 + 3 = 6. \n",
    "# Equivalently, the number 6 is equal to half the sum of all its positive divisors: ( 1 + 2 + 3 + 6 ) / 2 = 6. \n",
    "\n",
    "# The next perfect number is 28 = 1 + 2 + 4 + 7 + 14. This is followed by the perfect numbers 496 and 8128.\n",
    "# ```\n",
    "\n",
    "\n",
    "def perfect_number(n):\n",
    "    divisor_sum = 0\n",
    "    for i in range(1,n+1):\n",
    "        if n % i == 0:\n",
    "           divisor_sum += i\n",
    "    if (divisor_sum / 2) == n:\n",
    "        print(\"Perfect Number\")\n",
    "    else:\n",
    "        print(\"Not perfect Number\")\n",
    "        \n",
    "perfect_number(8)\n",
    "\n"
   ]
  },
  {
   "cell_type": "code",
   "execution_count": 18,
   "id": "ac191508-1d19-48b9-ae37-50ded1a74a7c",
   "metadata": {},
   "outputs": [
    {
     "ename": "TypeError",
     "evalue": "concatenate_dic() takes 0 positional arguments but 1 was given",
     "output_type": "error",
     "traceback": [
      "\u001b[0;31m---------------------------------------------------------------------------\u001b[0m",
      "\u001b[0;31mTypeError\u001b[0m                                 Traceback (most recent call last)",
      "Cell \u001b[0;32mIn[18], line 18\u001b[0m\n\u001b[1;32m     14\u001b[0m         \u001b[38;5;28mprint\u001b[39m(i)\n\u001b[1;32m     16\u001b[0m dic1\u001b[38;5;241m=\u001b[39m{\u001b[38;5;241m1\u001b[39m:\u001b[38;5;241m1\u001b[39m}\n\u001b[0;32m---> 18\u001b[0m concatenate_dic(dic1)\n",
      "\u001b[0;31mTypeError\u001b[0m: concatenate_dic() takes 0 positional arguments but 1 was given"
     ]
    }
   ],
   "source": [
    "# ### **`Problem-6:`** Write a Python function to concatenate any no of dictionaries to create a new one.\n",
    "\n",
    "# ```\n",
    "# Sample Dictionary :\n",
    "# dic1={1:10, 2:20}\n",
    "# dic2={3:30, 4:40}\n",
    "# dic3={5:50,6:60}\n",
    "# Expected Result : {1: 10, 2: 20, 3: 30, 4: 40, 5: 50, 6: 60}\n",
    "# ```\n",
    "\n",
    "\n",
    "def concatenate_dic(**kwargs):\n",
    "    for i in kwargs.values():\n",
    "        print(i)\n",
    "\n",
    "dic1={1:1}\n",
    "\n",
    "concatenate_dic(dic1)\n",
    "    \n",
    "    "
   ]
  },
  {
   "cell_type": "code",
   "execution_count": null,
   "id": "c784a513-9e5d-4fa6-8a5a-d51ae78e6d55",
   "metadata": {},
   "outputs": [],
   "source": []
  }
 ],
 "metadata": {
  "kernelspec": {
   "display_name": "Python [conda env:base] *",
   "language": "python",
   "name": "conda-base-py"
  },
  "language_info": {
   "codemirror_mode": {
    "name": "ipython",
    "version": 3
   },
   "file_extension": ".py",
   "mimetype": "text/x-python",
   "name": "python",
   "nbconvert_exporter": "python",
   "pygments_lexer": "ipython3",
   "version": "3.12.7"
  }
 },
 "nbformat": 4,
 "nbformat_minor": 5
}
