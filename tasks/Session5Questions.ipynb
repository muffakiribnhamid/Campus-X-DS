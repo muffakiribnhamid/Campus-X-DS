{
 "cells": [
  {
   "cell_type": "code",
   "execution_count": 8,
   "id": "fcadc42e-fee3-45fe-8750-a261d6cf37af",
   "metadata": {},
   "outputs": [
    {
     "name": "stdout",
     "output_type": "stream",
     "text": [
      "[(5, 6, 7, 8), (6, 10), (7, 13)]\n"
     ]
    }
   ],
   "source": [
    "# Q1: Join Tuples if similar initial element\n",
    "# While working with Python tuples, we can have a problem in which we need to perform concatenation of records from the similarity of initial element. This problem can have applications in data domains such as Data Science.\n",
    "\n",
    "# For eg.\n",
    "\n",
    "# Input  : test_list = [(5, 6), (5, 7), (5, 8), (6, 10), (7, 13)] \n",
    "# Output : [(5, 6, 7, 8), (6, 10), (7, 13)] \n",
    "\n",
    "test_list = [(5, 6), (5, 7), (5, 8), (6, 10), (7, 13)] \n",
    "uniqe = []\n",
    "\n",
    "for i in test_list:\n",
    "    uniqe.append(i[0])\n",
    "uniqe = set(uniqe)\n",
    "\n",
    "result = []\n",
    "\n",
    "for i in uniqe:\n",
    "    result.append([i])\n",
    "    for j in test_list:\n",
    "        if j[0] == i:\n",
    "            result[-1].append(j[1])\n",
    "    \n",
    "    \n",
    "\n",
    "print(list(map(tuple,result)))"
   ]
  },
  {
   "cell_type": "code",
   "execution_count": 10,
   "id": "3d88921a-c2fc-4a44-ac38-9cd059b22ae0",
   "metadata": {},
   "outputs": [
    {
     "name": "stdout",
     "output_type": "stream",
     "text": [
      "(5, 40, 91, 136, 80)\n"
     ]
    }
   ],
   "source": [
    "t = (1, 5, 7, 8, 10)\n",
    "output = []\n",
    "\n",
    "output.append(t[0]*t[1])\n",
    "\n",
    "for i in range(1,len(t)-1):\n",
    "    output.append(t[i] * t[i-1] + t[i] * t[i+1])\n",
    "\n",
    "output.append(t[-1]*t[-2])\n",
    "\n",
    "print(tuple(output))"
   ]
  },
  {
   "cell_type": "code",
   "execution_count": 36,
   "id": "18a8c2c5-304e-4184-b810-c700b21293e4",
   "metadata": {},
   "outputs": [
    {
     "name": "stdout",
     "output_type": "stream",
     "text": [
      "They are not same!\n"
     ]
    }
   ],
   "source": [
    "t1 = (1,2,3,0)\n",
    "t2 = (10,11,12,13)\n",
    "\n",
    "\n",
    "\n",
    "#check if both tuples have same elements at same indexes\n",
    "for i,j in zip(t1,t2):  \n",
    "    flag = True\n",
    "    if i == j:\n",
    "        continue\n",
    "    else:\n",
    "        flag = False\n",
    "        break\n",
    "\n",
    "if flag:\n",
    "    print(\"They are Same\")\n",
    "else:\n",
    "    print(\"They are not same!\")\n",
    "    \n",
    "        "
   ]
  },
  {
   "cell_type": "code",
   "execution_count": 52,
   "id": "a31f9196-1132-4711-8334-92ef4c30b38b",
   "metadata": {},
   "outputs": [
    {
     "name": "stdout",
     "output_type": "stream",
     "text": [
      " List-2 \n",
      " Set- 2 \n",
      " Tuples- 1\n"
     ]
    }
   ],
   "source": [
    "# ###`Q4`: Count no of tuples, list and set from a list\n",
    "# ```\n",
    "# list1 = [{'hi', 'bye'},{'Geeks', 'forGeeks'},('a', 'b'),['hi', 'bye'],['a', 'b']]\n",
    "\n",
    "# ```\n",
    "# `Output:`\n",
    "\n",
    "# ```\n",
    "# List-2\n",
    "# Set-2\n",
    "# Tuples-1\n",
    "# ```\n",
    "list1 = [{'hi', 'bye'},{'Geeks', 'forGeeks'},('a', 'b'),['hi', 'bye'],['a', 'b']]\n",
    "\n",
    "output = [0,0,0]\n",
    "\n",
    "for i in list1:\n",
    "    if type(i) == list:\n",
    "        output[0] += 1\n",
    "    elif type(i) == set:\n",
    "        output[1] += 1\n",
    "    elif type(i) == tuple:\n",
    "        output[2] += 1\n",
    "\n",
    "print(f\" List-{output[0]} \\n Set- {output[1]} \\n Tuples- {output[2]}\")"
   ]
  },
  {
   "cell_type": "code",
   "execution_count": 57,
   "id": "12638976-c26e-42d3-870d-76258d2c55af",
   "metadata": {},
   "outputs": [
    {
     "data": {
      "text/plain": [
       "[80, 20]"
      ]
     },
     "execution_count": 57,
     "metadata": {},
     "output_type": "execute_result"
    }
   ],
   "source": [
    "#Sets\n",
    "# Input : ar1 = [1, 5, 10, 20, 40, 80]\n",
    "#         ar2 = [6, 7, 20, 80, 100]\n",
    "#         ar3 = [3, 4, 15, 20, 30, 70, 80, 120]\n",
    "\n",
    "# Output : [80, 20]\n",
    "ar1 = [1, 5, 10, 20, 40, 80]\n",
    "ar2 = [6, 7, 20, 80, 100]\n",
    "ar3 = [3, 4, 15, 20, 30, 70, 80, 120]\n",
    "\n",
    "\n",
    "list(set(ar1) & set(ar2) & set(ar3))"
   ]
  },
  {
   "cell_type": "code",
   "execution_count": 59,
   "id": "ee74fa2d-e5d3-44a6-afe6-57f051e71345",
   "metadata": {},
   "outputs": [
    {
     "name": "stdout",
     "output_type": "stream",
     "text": [
      "6\n"
     ]
    }
   ],
   "source": [
    "# Write a program to count unique number of vowels using sets in a given string. Lowercase and upercase vowels will be taken as different.\n",
    "# Input:\n",
    "\n",
    "# Str1 = \"hands-on data science mentorship progrAm with live classes at affordable fee only on CampusX\"\n",
    "# Output:\n",
    "\n",
    "# No of unique vowels-6\n",
    "Str1 = set(\"hands-on data science mentorship progrAm with live classes at affordable fee only on CampusX\")\n",
    "vowels = set(\"aeiouAEIOU\")\n",
    "\n",
    "print(len(Str1 & vowels))\n"
   ]
  },
  {
   "cell_type": "code",
   "execution_count": 61,
   "id": "9654aab1-05af-4c30-beb7-8f0eba87d53d",
   "metadata": {},
   "outputs": [
    {
     "name": "stdin",
     "output_type": "stream",
     "text": [
      "Enter string:  122222211\n"
     ]
    },
    {
     "name": "stdout",
     "output_type": "stream",
     "text": [
      "Yes\n"
     ]
    }
   ],
   "source": [
    "# Q3: Write a program to Check if a given string is binary string of or not.\n",
    "# A string is said to be binary if it's consists of only two unique characters.\n",
    "\n",
    "# Take string input from user.\n",
    "\n",
    "str_test = input(\"Enter string: \")\n",
    "set_test = set(str_test)\n",
    "if len(set_test) == 2:\n",
    "    print(\"Yes\")\n",
    "else:\n",
    "    print(\"No\")"
   ]
  },
  {
   "cell_type": "code",
   "execution_count": 64,
   "id": "afa25229-55ae-4989-86eb-26485aba311a",
   "metadata": {},
   "outputs": [
    {
     "name": "stdout",
     "output_type": "stream",
     "text": [
      "[1, 2, 3, 4, 5, 6, 7, 9]\n"
     ]
    }
   ],
   "source": [
    "list1 = [[1, 2, 2, 4, 3, 6],\n",
    " [5, 1, 3, 4],\n",
    " [9, 5, 7, 1],\n",
    " [2, 4, 1, 3]]\n",
    "\n",
    "s = set()\n",
    "\n",
    "\n",
    "for i in list1:\n",
    "    s.update(i)\n",
    "\n",
    "print(list(s))"
   ]
  },
  {
   "cell_type": "code",
   "execution_count": 69,
   "id": "d23a9465-5c2c-4aab-964c-ee8ebb3f8bee",
   "metadata": {},
   "outputs": [
    {
     "data": {
      "text/plain": [
       "[4, 5, 9, 10]"
      ]
     },
     "execution_count": 69,
     "metadata": {},
     "output_type": "execute_result"
    }
   ],
   "source": [
    "lst1 = {15, 9, 10, 56, 23, 78, 5, 4, 9}\n",
    "lst2 = {9, 4, 5, 36, 47, 26, 10, 45, 87}\n",
    "\n",
    "\n",
    "[i for i in lst1 if i in lst2]"
   ]
  },
  {
   "cell_type": "code",
   "execution_count": 89,
   "id": "10ef3cb7-c376-4afc-a5bd-82775aa68f61",
   "metadata": {},
   "outputs": [
    {
     "name": "stdout",
     "output_type": "stream",
     "text": [
      "CampusX\n"
     ]
    }
   ],
   "source": [
    "# Q1: Key with maximum unique values\n",
    "# Given a dictionary with values list, extract key whose value has most unique values.\n",
    "\n",
    "# Example 1:\n",
    "\n",
    "# Input:\n",
    "\n",
    "# test_dict = {\"CampusX\" : [5, 7, 9, 4, 0], \"is\" : [6, 7, 4, 3, 3], \"Best\" : [9, 9, 6, 5, 5]}\n",
    "# Output:\n",
    "\n",
    "# CampusX\n",
    "\n",
    "test_dict = {\"CampusX\" : [5, 7, 9, 4, 0], \"is\" : [6, 7, 4, 3, 3], \"Best\" : [9, 9, 6, 5, 5]}\n",
    "\n",
    "max_len = 0\n",
    "max_key = \"\"\n",
    "\n",
    "for i in test_dict:\n",
    "    if max_len < len(set(test_dict[i])):\n",
    "        max_len = len(set(test_dict[i]))\n",
    "        max_key = i\n",
    "\n",
    "print(max_key)\n",
    "    "
   ]
  },
  {
   "cell_type": "code",
   "execution_count": 91,
   "id": "686389b9-9a82-4856-b42f-5ca71ebd40d7",
   "metadata": {},
   "outputs": [
    {
     "name": "stdout",
     "output_type": "stream",
     "text": [
      "CampusX is the best channel for Data-Science students.\n"
     ]
    }
   ],
   "source": [
    "# Q2: Replace words from Dictionary. Given String, replace it’s words from lookup dictionary.\n",
    "# Example 1:\n",
    "\n",
    "# Input:\n",
    "result = []\n",
    "\n",
    "test_str = 'CampusX best for DS students.'\n",
    "repl_dict = {\"best\" : \"is the best channel\", \"DS\" : \"Data-Science\"}\n",
    "\n",
    "for i in test_str.split():\n",
    "    if i in repl_dict:\n",
    "        result.append(repl_dict[i])\n",
    "    else:\n",
    "        result.append(i)\n",
    "\n",
    "print(\" \".join(result))\n",
    "        \n",
    "    "
   ]
  },
  {
   "cell_type": "code",
   "execution_count": 92,
   "id": "b4062bbb-6bee-4628-b602-35693e06398e",
   "metadata": {},
   "outputs": [
    {
     "name": "stdout",
     "output_type": "stream",
     "text": [
      "[{'name': 'DataScience', 'id': 3}, {'name': 'is', 'id': 8}]\n"
     ]
    }
   ],
   "source": [
    "# Q3: Convert List to List of dictionaries. Given list values and keys list, convert these values to key value pairs in form of list of dictionaries.\n",
    "# Example 1:\n",
    "\n",
    "# Input:\n",
    "\n",
    "test_list = [\"DataScience\", 3, \"is\", 8]\n",
    "key_list = [\"name\", \"id\"]\n",
    "n = len(test_list)\n",
    "\n",
    "res = []\n",
    "\n",
    "for i in range(0,n,2):\n",
    "    res.append({key_list[0] : test_list[i], key_list[1] : test_list[i+1]})\n",
    "\n",
    "print(res)"
   ]
  },
  {
   "cell_type": "code",
   "execution_count": 97,
   "id": "0ad9a0f5-a77a-4827-8aec-869bdbf6557b",
   "metadata": {},
   "outputs": [
    {
     "name": "stdout",
     "output_type": "stream",
     "text": [
      "{'akash': [10], 'gaurav': [12], 'anand': [14], 'suraj': [20], 'akhil': [25], 'ashish': [30]}\n"
     ]
    }
   ],
   "source": [
    "# Q4: Convert a list of Tuples into Dictionary.\n",
    "# Example 1:\n",
    "\n",
    "# Input:\n",
    "\n",
    "# [(\"akash\", 10), (\"gaurav\", 12), (\"anand\", 14), (\"suraj\", 20), (\"akhil\", 25), (\"ashish\", 30)]\n",
    "# Output:\n",
    "\n",
    "# {'akash': [10], 'gaurav': [12], 'anand': [14], 'suraj': [20], 'akhil': [25], 'ashish': [30]}\n",
    "\n",
    "tup = [(\"akash\", 10), (\"gaurav\", 12), (\"anand\", 14), (\"suraj\", 20), (\"akhil\", 25), (\"ashish\", 30)]\n",
    "# dic = {'akash': [10], 'gaurav': [12], 'anand': [14], 'suraj': [20], 'akhil': [25], 'ashish': [30]}\n",
    "dic = {}\n",
    "\n",
    "for i,j in tup:\n",
    "    dic[i] = [j]\n",
    "print(dic)"
   ]
  },
  {
   "cell_type": "code",
   "execution_count": null,
   "id": "725df9e7-7195-466b-9c37-6a2224e44f88",
   "metadata": {},
   "outputs": [],
   "source": []
  }
 ],
 "metadata": {
  "kernelspec": {
   "display_name": "Python [conda env:base] *",
   "language": "python",
   "name": "conda-base-py"
  },
  "language_info": {
   "codemirror_mode": {
    "name": "ipython",
    "version": 3
   },
   "file_extension": ".py",
   "mimetype": "text/x-python",
   "name": "python",
   "nbconvert_exporter": "python",
   "pygments_lexer": "ipython3",
   "version": "3.12.7"
  }
 },
 "nbformat": 4,
 "nbformat_minor": 5
}
