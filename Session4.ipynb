{
 "cells": [
  {
   "cell_type": "code",
   "execution_count": 4,
   "id": "53d325f6-6a1e-42fd-a43f-d14305e83c8e",
   "metadata": {},
   "outputs": [
    {
     "name": "stdout",
     "output_type": "stream",
     "text": [
      "['Muffakir', 'Ibn', 'Hamid']\n"
     ]
    }
   ],
   "source": [
    "#In this session we will study about Lists"
   ]
  },
  {
   "cell_type": "code",
   "execution_count": null,
   "id": "ee910e48-3250-43cc-9770-46a021e185ca",
   "metadata": {},
   "outputs": [],
   "source": [
    "# - What are Lists?\n",
    "# - Lists Vs Arrays\n",
    "# - Characterstics of a List\n",
    "# - How to create a list\n",
    "# - Access items from a List\n",
    "# - Editing items in a List\n",
    "# - Deleting items from a List\n",
    "# - Operations on Lists\n",
    "# - Functions on Lists"
   ]
  },
  {
   "cell_type": "code",
   "execution_count": null,
   "id": "e16fbcf4-b760-4fec-93b5-ca2927569777",
   "metadata": {},
   "outputs": [],
   "source": [
    "#Lists:\n",
    "# A datatype where you can store multiple items under 1 name\n",
    "# It is like dynamic arrays which means you can add more items on the fly."
   ]
  },
  {
   "cell_type": "code",
   "execution_count": null,
   "id": "62d48702-cc6c-4b16-b68e-9c3613f6b8b3",
   "metadata": {},
   "outputs": [],
   "source": [
    "#Array vs List:\n",
    "    #Fixed VS Dynamic Size\n",
    "    #Convenience -> Hetrogeneous "
   ]
  },
  {
   "cell_type": "code",
   "execution_count": 15,
   "id": "d20f9b07-2fcc-40de-b083-9c5e01cb0a83",
   "metadata": {},
   "outputs": [
    {
     "name": "stdout",
     "output_type": "stream",
     "text": [
      "4918904256\n",
      "4344962832\n",
      "4344962864\n",
      "4344962896\n"
     ]
    }
   ],
   "source": [
    "l = [1,2,3]\n",
    "print(id(l))\n",
    "print(id(l[0]))\n",
    "print(id(l[1]))\n",
    "print(id(l[2]))\n",
    "\n"
   ]
  },
  {
   "cell_type": "code",
   "execution_count": null,
   "id": "724168c3-e941-4dd7-87a4-ce22405bc49b",
   "metadata": {},
   "outputs": [],
   "source": [
    "## Characterstics of a List\n",
    "\n",
    "# - Ordered\n",
    "# - Changeble/Mutable\n",
    "# - Hetrogeneous\n",
    "# - Can have duplicates\n",
    "# - are dynamic\n",
    "# - can be nested\n",
    "# - items can be accessed \n",
    "# - can contain any kind of objects in python"
   ]
  },
  {
   "cell_type": "code",
   "execution_count": 19,
   "id": "7dfa6275-08ef-41ef-9940-c3da44ce6256",
   "metadata": {},
   "outputs": [
    {
     "name": "stdout",
     "output_type": "stream",
     "text": [
      "[]\n",
      "[1, 2, 3, 4, 5]\n",
      "[1, 2, 3, 4, [1, 2, 3]]\n",
      "[[[1, 2, 3], [1, 2, 3], [1, 2, 3]]]\n",
      "[1, 2, 'Hello', True]\n",
      "['H', 'e', 'l', 'l', 'o']\n"
     ]
    }
   ],
   "source": [
    "#creating a list\n",
    "#Empty\n",
    "print([])\n",
    "#1D / Homogenous List\n",
    "print([1,2,3,4,5])\n",
    "#2D -> Containing a nested a list\n",
    "print([1,2,3,4,[1,2,3]])\n",
    "#3D\n",
    "print([[[1,2,3],[1,2,3],[1,2,3]]])\n",
    "#Heterogeneous\n",
    "print([1,2,\"Hello\",True])\n",
    "#using type conversion\n",
    "print(list(\"Hello\"))"
   ]
  },
  {
   "cell_type": "code",
   "execution_count": 30,
   "id": "2c05d35b-3d9b-4fed-af01-a77ded24ff61",
   "metadata": {},
   "outputs": [
    {
     "name": "stdout",
     "output_type": "stream",
     "text": [
      "[[1, 2, 3], [4, 5, 6], [7, 8, 9]]\n",
      "5\n"
     ]
    }
   ],
   "source": [
    "#Accessing Items from a List\n",
    "#Indexing\n",
    "L = [[[1,2,3],[4,5,6],[7,8,9]]]\n",
    "print(L[0])\n",
    "print(L[0][1][1])\n",
    "\n",
    "\n"
   ]
  },
  {
   "cell_type": "code",
   "execution_count": 33,
   "id": "74389ff9-cfca-4719-8256-a63dbe20340e",
   "metadata": {},
   "outputs": [
    {
     "name": "stdout",
     "output_type": "stream",
     "text": [
      "[1, 3, 5]\n"
     ]
    }
   ],
   "source": [
    "#Slicing\n",
    "L = [1,2,3,4,5]\n",
    "print(L[0::2])"
   ]
  },
  {
   "cell_type": "code",
   "execution_count": 56,
   "id": "8b0d962c-2174-44bb-a767-5ea8eb45d869",
   "metadata": {},
   "outputs": [
    {
     "name": "stdout",
     "output_type": "stream",
     "text": [
      "[1, 2, 3, 4, 5, True]\n"
     ]
    }
   ],
   "source": [
    "#Adding Items to a list\n",
    "L = [1,2,3,4,5]\n",
    "L.append(True)\n",
    "print(L)"
   ]
  },
  {
   "cell_type": "code",
   "execution_count": 57,
   "id": "df37b21f-10b3-4633-a5f8-ee4915563370",
   "metadata": {},
   "outputs": [
    {
     "name": "stdout",
     "output_type": "stream",
     "text": [
      "[1, 2, 3, 4, 5, 6, 7, 8]\n"
     ]
    }
   ],
   "source": [
    "#Extend\n",
    "L = [1,2,3,4,5]\n",
    "L.extend([6,7,8])\n",
    "print(L)"
   ]
  },
  {
   "cell_type": "code",
   "execution_count": 58,
   "id": "7d988397-d9e6-470c-aac8-4274644ee221",
   "metadata": {},
   "outputs": [
    {
     "name": "stdout",
     "output_type": "stream",
     "text": [
      "[1, 2, 3, 4, 5, [1, 2, 3]]\n"
     ]
    }
   ],
   "source": [
    "L = [1,2,3,4,5]\n",
    "L.append([1,2,3])\n",
    "print(L)"
   ]
  },
  {
   "cell_type": "code",
   "execution_count": 59,
   "id": "551b7042-fb3f-475d-99d9-71bd79ad9daa",
   "metadata": {},
   "outputs": [
    {
     "name": "stdout",
     "output_type": "stream",
     "text": [
      "[1, 2, 3, 4, 5, 'd', 'e', 'l', 'h', 'i']\n"
     ]
    }
   ],
   "source": [
    "L = [1,2,3,4,5]\n",
    "L.extend('delhi')\n",
    "print(L)"
   ]
  },
  {
   "cell_type": "code",
   "execution_count": 61,
   "id": "08d72880-f38b-4314-8196-a5d4942f3e5b",
   "metadata": {},
   "outputs": [
    {
     "name": "stdout",
     "output_type": "stream",
     "text": [
      "[1, 100, 2, 3, 4, 5]\n"
     ]
    }
   ],
   "source": [
    "#insert\n",
    "L = [1,2,3,4,5]\n",
    "L.insert(1,100)\n",
    "print(L)"
   ]
  },
  {
   "cell_type": "code",
   "execution_count": 63,
   "id": "7e377383-8801-48ba-a2f7-b86b4cfb6cc4",
   "metadata": {},
   "outputs": [
    {
     "name": "stdout",
     "output_type": "stream",
     "text": [
      "[1, 200, 300, 500, 500]\n"
     ]
    }
   ],
   "source": [
    "#Editing items in a list\n",
    "L = [1,2,3,4,5]\n",
    "#Editing with indexing\n",
    "L[-1] = 500\n",
    "L[1:4] = [200,300,500]\n",
    "\n",
    "print(L)"
   ]
  },
  {
   "cell_type": "code",
   "execution_count": 66,
   "id": "49e4960b-ace8-46cc-9317-23db5cc3a294",
   "metadata": {},
   "outputs": [
    {
     "name": "stdout",
     "output_type": "stream",
     "text": [
      "[1, 4]\n"
     ]
    }
   ],
   "source": [
    "#Deleting items from a List\n",
    "L = [1,2,3,4,5]\n",
    "\n",
    "# indexing\n",
    "del L[-1]\n",
    "\n",
    "# slicing\n",
    "del L[1:3]\n",
    "print(L)\n"
   ]
  },
  {
   "cell_type": "code",
   "execution_count": 71,
   "id": "b0e0bc4f-844f-46de-816b-34343aaa264f",
   "metadata": {},
   "outputs": [
    {
     "name": "stdout",
     "output_type": "stream",
     "text": [
      "[2, 3, 4, 5]\n"
     ]
    }
   ],
   "source": [
    "#remove\n",
    "L = [1,2,3,4,5]\n",
    "L.remove(1)\n",
    "print(L)"
   ]
  },
  {
   "cell_type": "code",
   "execution_count": 73,
   "id": "02596b48-969c-4e7e-9363-876d2c659c39",
   "metadata": {},
   "outputs": [
    {
     "name": "stdout",
     "output_type": "stream",
     "text": [
      "[1, 3, 4, 5]\n"
     ]
    }
   ],
   "source": [
    "# pop\n",
    "L = [1,2,3,4,5]\n",
    "\n",
    "L.pop(1)\n",
    "\n",
    "print(L)\n"
   ]
  },
  {
   "cell_type": "code",
   "execution_count": 74,
   "id": "b9ea4b59-f4c9-414f-8ccd-fc9511a6b32e",
   "metadata": {},
   "outputs": [
    {
     "name": "stdout",
     "output_type": "stream",
     "text": [
      "[]\n"
     ]
    }
   ],
   "source": [
    "#clear\n",
    "L = [1,2,3,4,5]\n",
    "L.clear()\n",
    "\n",
    "print(L)"
   ]
  },
  {
   "cell_type": "code",
   "execution_count": null,
   "id": "e033fa30-2bb1-4fa5-9775-d63b95cdbc78",
   "metadata": {},
   "outputs": [],
   "source": [
    "# Operations on Lists\n",
    "\n",
    "# Arithmetic\n",
    "# Membership\n",
    "# Loop"
   ]
  },
  {
   "cell_type": "code",
   "execution_count": null,
   "id": "fa2dd9f3-45c7-4fb4-9dfa-6b6f52df88c9",
   "metadata": {},
   "outputs": [],
   "source": [
    "# Arithmetic (+ ,*)\n",
    "\n",
    "L1 = [1,2,3,4]\n",
    "L2 = [5,6,7,8]\n",
    "\n",
    "# Concatenation/Merge\n",
    "print(L1 + L2)\n",
    "print(L1*3)"
   ]
  },
  {
   "cell_type": "code",
   "execution_count": 75,
   "id": "84f4db8d-3518-4ae5-aec1-2ed92aa744da",
   "metadata": {},
   "outputs": [
    {
     "name": "stdout",
     "output_type": "stream",
     "text": [
      "False\n",
      "True\n"
     ]
    }
   ],
   "source": [
    "L1 = [1,2,3,4,5]\n",
    "L2 = [1,2,3,4,[5,6]]\n",
    "\n",
    "print(5 not in L1)\n",
    "print([5,6] in L2)"
   ]
  },
  {
   "cell_type": "code",
   "execution_count": 76,
   "id": "2cbe2df8-32bf-4beb-b8ff-c1c293c17439",
   "metadata": {},
   "outputs": [
    {
     "name": "stdout",
     "output_type": "stream",
     "text": [
      "[[1, 2], [3, 4]]\n",
      "[[5, 6], [7, 8]]\n"
     ]
    }
   ],
   "source": [
    "# Loops\n",
    "L1 = [1,2,3,4,5]\n",
    "L2 = [1,2,3,4,[5,6]]\n",
    "L3 = [[[1,2],[3,4]],[[5,6],[7,8]]]\n",
    "\n",
    "for i in L3:\n",
    "  print(i)"
   ]
  },
  {
   "cell_type": "code",
   "execution_count": 77,
   "id": "e62d7a4b-4a22-44eb-8b82-89bfb41767d2",
   "metadata": {},
   "outputs": [
    {
     "name": "stdout",
     "output_type": "stream",
     "text": [
      "5\n",
      "0\n",
      "7\n",
      "[7, 5, 2, 1, 0]\n"
     ]
    }
   ],
   "source": [
    "#List functions\n",
    "L = [2,1,5,7,0]\n",
    "\n",
    "print(len(L))\n",
    "print(min(L))\n",
    "print(max(L))\n",
    "print(sorted(L,reverse=True))\n"
   ]
  },
  {
   "cell_type": "code",
   "execution_count": 79,
   "id": "d981a62e-e807-40e0-af56-ab2f54fdd918",
   "metadata": {},
   "outputs": [
    {
     "data": {
      "text/plain": [
       "2"
      ]
     },
     "execution_count": 79,
     "metadata": {},
     "output_type": "execute_result"
    }
   ],
   "source": [
    "L = [1,2,1,3,4,1,5,5]\n",
    "L.count(5)\n",
    "\n",
    "#count returns how many given items are in a list\n"
   ]
  },
  {
   "cell_type": "code",
   "execution_count": 80,
   "id": "63b57582-5894-4740-9be0-073e5588a9ce",
   "metadata": {},
   "outputs": [
    {
     "data": {
      "text/plain": [
       "0"
      ]
     },
     "execution_count": 80,
     "metadata": {},
     "output_type": "execute_result"
    }
   ],
   "source": [
    "# index\n",
    "L = [1,2,1,3,4,1,5]\n",
    "L.index(1)"
   ]
  },
  {
   "cell_type": "code",
   "execution_count": 81,
   "id": "56d685fa-a551-4edf-aba7-746aea3fdff1",
   "metadata": {},
   "outputs": [
    {
     "name": "stdout",
     "output_type": "stream",
     "text": [
      "[0, 7, 5, 1, 2]\n"
     ]
    }
   ],
   "source": [
    "# reverse\n",
    "L = [2,1,5,7,0]\n",
    "# permanently reverses the list\n",
    "L.reverse()\n",
    "print(L)"
   ]
  },
  {
   "cell_type": "code",
   "execution_count": 82,
   "id": "c7e9bd99-d051-40d0-bda0-9193b29407ed",
   "metadata": {},
   "outputs": [
    {
     "name": "stdout",
     "output_type": "stream",
     "text": [
      "[2, 1, 5, 7, 0]\n",
      "[0, 1, 2, 5, 7]\n",
      "[2, 1, 5, 7, 0]\n",
      "[0, 1, 2, 5, 7]\n"
     ]
    }
   ],
   "source": [
    "# sort (vs sorted)\n",
    "L = [2,1,5,7,0]\n",
    "print(L)\n",
    "print(sorted(L))\n",
    "#differnce bw sorted() and .sort() is that sorted temporary sorts the list on the other hand .sort() compeletely changes the list.\n",
    "print(L)\n",
    "L.sort()\n",
    "print(L)"
   ]
  },
  {
   "cell_type": "code",
   "execution_count": null,
   "id": "f2b2d08b-2637-4cc1-97d4-c0b459982f73",
   "metadata": {},
   "outputs": [],
   "source": [
    "# copy -> shallow\n",
    "L = [2,1,5,7,0]\n",
    "print(L)\n",
    "print(id(L))\n",
    "L1 = L.copy()\n",
    "print(L1)\n",
    "print(id(L1))"
   ]
  },
  {
   "cell_type": "code",
   "execution_count": null,
   "id": "a42d9672-5187-4ee4-8a12-2420bdd8bd75",
   "metadata": {},
   "outputs": [],
   "source": [
    "#List comprehension\n",
    "#List Comprehension provides a concise way of creating lists.\n",
    "\n",
    "# newlist = [expression for item in iterable if condition == true]\n"
   ]
  },
  {
   "cell_type": "code",
   "execution_count": 35,
   "id": "9ef81223-bb28-48a8-bbc0-a9b2332774af",
   "metadata": {},
   "outputs": [
    {
     "name": "stdout",
     "output_type": "stream",
     "text": [
      "[1, 2, 3, 4, 1, 2, 3, 4, 1, 2, 3, 4, 1, 2, 3, 4]\n"
     ]
    }
   ],
   "source": [
    "l1 = [1,2,3,4]\n",
    "l2 = [5,6,7,8]\n",
    "\n",
    "print(l1 * 4)"
   ]
  },
  {
   "cell_type": "code",
   "execution_count": 43,
   "id": "56b291ef-e76f-44e5-85b2-5a5fa4597ccf",
   "metadata": {},
   "outputs": [
    {
     "data": {
      "text/plain": [
       "[1, 4, 9, 16]"
      ]
     },
     "execution_count": 43,
     "metadata": {},
     "output_type": "execute_result"
    }
   ],
   "source": [
    "l = [1,2,3,4]\n",
    "[i ** 2 for i in l]"
   ]
  },
  {
   "cell_type": "code",
   "execution_count": 45,
   "id": "2f33919e-7df3-40d0-bac8-df79a4ca05a0",
   "metadata": {},
   "outputs": [
    {
     "data": {
      "text/plain": [
       "[5, 10, 15, 20, 25, 30, 35, 40, 45, 50]"
      ]
     },
     "execution_count": 45,
     "metadata": {},
     "output_type": "execute_result"
    }
   ],
   "source": [
    "[i for i in range(1,51) if i % 5 == 0]"
   ]
  },
  {
   "cell_type": "code",
   "execution_count": 49,
   "id": "62f50d36-39a2-4e72-9a32-92dd3533c7e8",
   "metadata": {},
   "outputs": [
    {
     "data": {
      "text/plain": [
       "['python', 'php']"
      ]
     },
     "execution_count": 49,
     "metadata": {},
     "output_type": "execute_result"
    }
   ],
   "source": [
    "languages = ['java','python','php','c','javascript']\n",
    "\n",
    "[language for language in languages if language.startswith('p') ]"
   ]
  },
  {
   "cell_type": "code",
   "execution_count": 50,
   "id": "a63c8a0d-6932-4f7a-a178-cb5765477c60",
   "metadata": {},
   "outputs": [
    {
     "data": {
      "text/plain": [
       "['apple']"
      ]
     },
     "execution_count": 50,
     "metadata": {},
     "output_type": "execute_result"
    }
   ],
   "source": [
    "basket = ['apple','guava','cheryy','bannana']\n",
    "my_fruits = ['apple','kiwi','grapes','banana']\n",
    "\n",
    "[fruit for fruit in my_fruits if fruit in basket if fruit.startswith('a')]"
   ]
  },
  {
   "cell_type": "code",
   "execution_count": 55,
   "id": "b535df24-2cb9-4434-a6a2-ad7e054d1862",
   "metadata": {},
   "outputs": [
    {
     "data": {
      "text/plain": [
       "[3, 6, 9, 12, 15, 18, 21, 24, 27]"
      ]
     },
     "execution_count": 55,
     "metadata": {},
     "output_type": "execute_result"
    }
   ],
   "source": [
    "n = 3\n",
    "[i * n for i in range(1,10)]"
   ]
  },
  {
   "cell_type": "code",
   "execution_count": 84,
   "id": "387c5952-9453-4ecb-8c78-22f138de2450",
   "metadata": {},
   "outputs": [
    {
     "name": "stdout",
     "output_type": "stream",
     "text": [
      "1\n",
      "2\n",
      "3\n",
      "4\n"
     ]
    }
   ],
   "source": [
    "#Ways to traverse a list\n",
    "\n",
    "#itemwise\n",
    "l = [1,2,3,4]\n",
    "\n",
    "for i in l:\n",
    "    print(i)"
   ]
  },
  {
   "cell_type": "code",
   "execution_count": 86,
   "id": "341ab40e-1aa0-4c98-b19d-25acb8245820",
   "metadata": {},
   "outputs": [
    {
     "name": "stdout",
     "output_type": "stream",
     "text": [
      "0\n",
      "1\n",
      "2\n",
      "3\n"
     ]
    }
   ],
   "source": [
    "#index wise\n",
    "l = [1,2,3,4]\n",
    "for i in range(0,len(l)):\n",
    "    print(i)"
   ]
  },
  {
   "cell_type": "code",
   "execution_count": 92,
   "id": "31c6804a-6670-40fd-b352-ecdfc8a11c06",
   "metadata": {},
   "outputs": [
    {
     "data": {
      "text/plain": [
       "[5, 7, 9]"
      ]
     },
     "execution_count": 92,
     "metadata": {},
     "output_type": "execute_result"
    }
   ],
   "source": [
    "#Zip function\n",
    "#The zip() function returns a zip object, which is an iterator of tuples where the first item in each passed iterator is paired together, and then the second item in each passed iterator are paired together.\n",
    "\n",
    "\n",
    "\n",
    "a = [1,2,3]\n",
    "b = [4,5,6]\n",
    "\n",
    "x = list(zip(a,b))\n",
    "[i+j for i,j in zip(a,b)]"
   ]
  },
  {
   "cell_type": "code",
   "execution_count": null,
   "id": "1daea714-6077-4f72-b519-af406432f9c5",
   "metadata": {},
   "outputs": [],
   "source": [
    "## Disadvantages of Python Lists\n",
    "\n",
    "- Slow\n",
    "- Risky usage\n",
    "- eats up more memory"
   ]
  }
 ],
 "metadata": {
  "kernelspec": {
   "display_name": "Python [conda env:base] *",
   "language": "python",
   "name": "conda-base-py"
  },
  "language_info": {
   "codemirror_mode": {
    "name": "ipython",
    "version": 3
   },
   "file_extension": ".py",
   "mimetype": "text/x-python",
   "name": "python",
   "nbconvert_exporter": "python",
   "pygments_lexer": "ipython3",
   "version": "3.12.7"
  }
 },
 "nbformat": 4,
 "nbformat_minor": 5
}
