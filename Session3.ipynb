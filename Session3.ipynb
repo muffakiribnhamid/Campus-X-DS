{
 "cells": [
  {
   "cell_type": "code",
   "execution_count": 8,
   "id": "7ee7d21c-f53b-4300-83d1-488d2113a9db",
   "metadata": {},
   "outputs": [
    {
     "name": "stdout",
     "output_type": "stream",
     "text": [
      "1 1\n",
      "1 2\n",
      "1 3\n",
      "1 4\n",
      "2 1\n",
      "2 2\n",
      "2 3\n",
      "2 4\n",
      "3 1\n",
      "3 2\n",
      "3 3\n",
      "3 4\n",
      "4 1\n",
      "4 2\n",
      "4 3\n",
      "4 4\n"
     ]
    }
   ],
   "source": [
    "for i in range(1,5):\n",
    "    for j in range(1,5):\n",
    "        print(i,j)"
   ]
  },
  {
   "cell_type": "code",
   "execution_count": 12,
   "id": "ade3960d-a877-482d-8f17-099b1c8d2df6",
   "metadata": {},
   "outputs": [
    {
     "name": "stdin",
     "output_type": "stream",
     "text": [
      "Enter no of rows:  5\n"
     ]
    },
    {
     "name": "stdout",
     "output_type": "stream",
     "text": [
      "*\n",
      "**\n",
      "***\n",
      "****\n",
      "*****\n"
     ]
    }
   ],
   "source": [
    "rows = int(input(\"Enter no of rows: \"))\n",
    "for i in range(1,rows + 1):\n",
    "    for j in range(1,i+1):\n",
    "        print('*',end='')\n",
    "    print()\n",
    "    "
   ]
  },
  {
   "cell_type": "code",
   "execution_count": 16,
   "id": "bc46cc20-a217-4023-b3aa-06357f44e502",
   "metadata": {},
   "outputs": [
    {
     "name": "stdin",
     "output_type": "stream",
     "text": [
      "Enter no of rows:  4\n"
     ]
    },
    {
     "name": "stdout",
     "output_type": "stream",
     "text": [
      "1\n",
      "121\n",
      "12321\n",
      "1234321\n"
     ]
    }
   ],
   "source": [
    "rows = int(input(\"Enter no of rows: \"))\n",
    "for i in range(1,rows + 1):\n",
    "    for j in range(1,i+1):\n",
    "        print(j,end='')\n",
    "    for k in range(i-1,0,-1):\n",
    "        print(k,end='')\n",
    "    print()\n"
   ]
  },
  {
   "cell_type": "code",
   "execution_count": 1,
   "id": "f119098e-6813-42c2-8685-7216425e0940",
   "metadata": {},
   "outputs": [
    {
     "name": "stdout",
     "output_type": "stream",
     "text": [
      "1\n",
      "2\n",
      "3\n",
      "4\n"
     ]
    }
   ],
   "source": [
    "for i in range(1,10):\n",
    "    if i == 5:\n",
    "        break\n",
    "    print(i)"
   ]
  },
  {
   "cell_type": "code",
   "execution_count": 5,
   "id": "1375fa99-3e1f-4a24-b810-187b67a46b51",
   "metadata": {},
   "outputs": [
    {
     "name": "stdin",
     "output_type": "stream",
     "text": [
      "Enter lower range 10\n",
      "Enter upper range 100\n"
     ]
    },
    {
     "name": "stdout",
     "output_type": "stream",
     "text": [
      "2\n",
      "10\n",
      "5\n",
      "10\n",
      "2\n",
      "12\n",
      "3\n",
      "12\n",
      "4\n",
      "12\n",
      "6\n",
      "12\n",
      "2\n",
      "14\n",
      "7\n",
      "14\n",
      "3\n",
      "15\n",
      "5\n",
      "15\n",
      "2\n",
      "16\n",
      "4\n",
      "16\n",
      "8\n",
      "16\n",
      "2\n",
      "18\n",
      "3\n",
      "18\n",
      "6\n",
      "18\n",
      "9\n",
      "18\n",
      "2\n",
      "20\n",
      "4\n",
      "20\n",
      "5\n",
      "20\n",
      "10\n",
      "20\n",
      "3\n",
      "21\n",
      "7\n",
      "21\n",
      "2\n",
      "22\n",
      "11\n",
      "22\n",
      "2\n",
      "24\n",
      "3\n",
      "24\n",
      "4\n",
      "24\n",
      "6\n",
      "24\n",
      "8\n",
      "24\n",
      "12\n",
      "24\n",
      "5\n",
      "25\n",
      "2\n",
      "26\n",
      "13\n",
      "26\n",
      "3\n",
      "27\n",
      "9\n",
      "27\n",
      "2\n",
      "28\n",
      "4\n",
      "28\n",
      "7\n",
      "28\n",
      "14\n",
      "28\n",
      "2\n",
      "30\n",
      "3\n",
      "30\n",
      "5\n",
      "30\n",
      "6\n",
      "30\n",
      "10\n",
      "30\n",
      "15\n",
      "30\n",
      "2\n",
      "32\n",
      "4\n",
      "32\n",
      "8\n",
      "32\n",
      "16\n",
      "32\n",
      "3\n",
      "33\n",
      "11\n",
      "33\n",
      "2\n",
      "34\n",
      "17\n",
      "34\n",
      "5\n",
      "35\n",
      "7\n",
      "35\n",
      "2\n",
      "36\n",
      "3\n",
      "36\n",
      "4\n",
      "36\n",
      "6\n",
      "36\n",
      "9\n",
      "36\n",
      "12\n",
      "36\n",
      "18\n",
      "36\n",
      "2\n",
      "38\n",
      "19\n",
      "38\n",
      "3\n",
      "39\n",
      "13\n",
      "39\n",
      "2\n",
      "40\n",
      "4\n",
      "40\n",
      "5\n",
      "40\n",
      "8\n",
      "40\n",
      "10\n",
      "40\n",
      "20\n",
      "40\n",
      "2\n",
      "42\n",
      "3\n",
      "42\n",
      "6\n",
      "42\n",
      "7\n",
      "42\n",
      "14\n",
      "42\n",
      "21\n",
      "42\n",
      "2\n",
      "44\n",
      "4\n",
      "44\n",
      "11\n",
      "44\n",
      "22\n",
      "44\n",
      "3\n",
      "45\n",
      "5\n",
      "45\n",
      "9\n",
      "45\n",
      "15\n",
      "45\n",
      "2\n",
      "46\n",
      "23\n",
      "46\n",
      "2\n",
      "48\n",
      "3\n",
      "48\n",
      "4\n",
      "48\n",
      "6\n",
      "48\n",
      "8\n",
      "48\n",
      "12\n",
      "48\n",
      "16\n",
      "48\n",
      "24\n",
      "48\n",
      "7\n",
      "49\n",
      "2\n",
      "50\n",
      "5\n",
      "50\n",
      "10\n",
      "50\n",
      "25\n",
      "50\n",
      "3\n",
      "51\n",
      "17\n",
      "51\n",
      "2\n",
      "52\n",
      "4\n",
      "52\n",
      "13\n",
      "52\n",
      "26\n",
      "52\n",
      "2\n",
      "54\n",
      "3\n",
      "54\n",
      "6\n",
      "54\n",
      "9\n",
      "54\n",
      "18\n",
      "54\n",
      "27\n",
      "54\n",
      "5\n",
      "55\n",
      "11\n",
      "55\n",
      "2\n",
      "56\n",
      "4\n",
      "56\n",
      "7\n",
      "56\n",
      "8\n",
      "56\n",
      "14\n",
      "56\n",
      "28\n",
      "56\n",
      "3\n",
      "57\n",
      "19\n",
      "57\n",
      "2\n",
      "58\n",
      "29\n",
      "58\n",
      "2\n",
      "60\n",
      "3\n",
      "60\n",
      "4\n",
      "60\n",
      "5\n",
      "60\n",
      "6\n",
      "60\n",
      "10\n",
      "60\n",
      "12\n",
      "60\n",
      "15\n",
      "60\n",
      "20\n",
      "60\n",
      "30\n",
      "60\n",
      "2\n",
      "62\n",
      "31\n",
      "62\n",
      "3\n",
      "63\n",
      "7\n",
      "63\n",
      "9\n",
      "63\n",
      "21\n",
      "63\n",
      "2\n",
      "64\n",
      "4\n",
      "64\n",
      "8\n",
      "64\n",
      "16\n",
      "64\n",
      "32\n",
      "64\n",
      "5\n",
      "65\n",
      "13\n",
      "65\n",
      "2\n",
      "66\n",
      "3\n",
      "66\n",
      "6\n",
      "66\n",
      "11\n",
      "66\n",
      "22\n",
      "66\n",
      "33\n",
      "66\n",
      "2\n",
      "68\n",
      "4\n",
      "68\n",
      "17\n",
      "68\n",
      "34\n",
      "68\n",
      "3\n",
      "69\n",
      "23\n",
      "69\n",
      "2\n",
      "70\n",
      "5\n",
      "70\n",
      "7\n",
      "70\n",
      "10\n",
      "70\n",
      "14\n",
      "70\n",
      "35\n",
      "70\n",
      "2\n",
      "72\n",
      "3\n",
      "72\n",
      "4\n",
      "72\n",
      "6\n",
      "72\n",
      "8\n",
      "72\n",
      "9\n",
      "72\n",
      "12\n",
      "72\n",
      "18\n",
      "72\n",
      "24\n",
      "72\n",
      "36\n",
      "72\n",
      "2\n",
      "74\n",
      "37\n",
      "74\n",
      "3\n",
      "75\n",
      "5\n",
      "75\n",
      "15\n",
      "75\n",
      "25\n",
      "75\n",
      "2\n",
      "76\n",
      "4\n",
      "76\n",
      "19\n",
      "76\n",
      "38\n",
      "76\n",
      "7\n",
      "77\n",
      "11\n",
      "77\n",
      "2\n",
      "78\n",
      "3\n",
      "78\n",
      "6\n",
      "78\n",
      "13\n",
      "78\n",
      "26\n",
      "78\n",
      "39\n",
      "78\n",
      "2\n",
      "80\n",
      "4\n",
      "80\n",
      "5\n",
      "80\n",
      "8\n",
      "80\n",
      "10\n",
      "80\n",
      "16\n",
      "80\n",
      "20\n",
      "80\n",
      "40\n",
      "80\n",
      "3\n",
      "81\n",
      "9\n",
      "81\n",
      "27\n",
      "81\n",
      "2\n",
      "82\n",
      "41\n",
      "82\n",
      "2\n",
      "84\n",
      "3\n",
      "84\n",
      "4\n",
      "84\n",
      "6\n",
      "84\n",
      "7\n",
      "84\n",
      "12\n",
      "84\n",
      "14\n",
      "84\n",
      "21\n",
      "84\n",
      "28\n",
      "84\n",
      "42\n",
      "84\n",
      "5\n",
      "85\n",
      "17\n",
      "85\n",
      "2\n",
      "86\n",
      "43\n",
      "86\n",
      "3\n",
      "87\n",
      "29\n",
      "87\n",
      "2\n",
      "88\n",
      "4\n",
      "88\n",
      "8\n",
      "88\n",
      "11\n",
      "88\n",
      "22\n",
      "88\n",
      "44\n",
      "88\n",
      "2\n",
      "90\n",
      "3\n",
      "90\n",
      "5\n",
      "90\n",
      "6\n",
      "90\n",
      "9\n",
      "90\n",
      "10\n",
      "90\n",
      "15\n",
      "90\n",
      "18\n",
      "90\n",
      "30\n",
      "90\n",
      "45\n",
      "90\n",
      "7\n",
      "91\n",
      "13\n",
      "91\n",
      "2\n",
      "92\n",
      "4\n",
      "92\n",
      "23\n",
      "92\n",
      "46\n",
      "92\n",
      "3\n",
      "93\n",
      "31\n",
      "93\n",
      "2\n",
      "94\n",
      "47\n",
      "94\n",
      "5\n",
      "95\n",
      "19\n",
      "95\n",
      "2\n",
      "96\n",
      "3\n",
      "96\n",
      "4\n",
      "96\n",
      "6\n",
      "96\n",
      "8\n",
      "96\n",
      "12\n",
      "96\n",
      "16\n",
      "96\n",
      "24\n",
      "96\n",
      "32\n",
      "96\n",
      "48\n",
      "96\n",
      "2\n",
      "98\n",
      "7\n",
      "98\n",
      "14\n",
      "98\n",
      "49\n",
      "98\n",
      "3\n",
      "99\n",
      "9\n",
      "99\n",
      "11\n",
      "99\n",
      "33\n",
      "99\n",
      "2\n",
      "100\n",
      "4\n",
      "100\n",
      "5\n",
      "100\n",
      "10\n",
      "100\n",
      "20\n",
      "100\n",
      "25\n",
      "100\n",
      "50\n",
      "100\n"
     ]
    }
   ],
   "source": [
    "lower = int(input(\"Enter lower range\"))\n",
    "upper = int(input(\"Enter upper range\"))\n",
    "\n",
    "for i in range(lower,upper+1):\n",
    "    for j in range(2,i):\n",
    "        if i % j == 0:\n",
    "            break\n",
    "    else:\n",
    "        print(i)\n"
   ]
  },
  {
   "cell_type": "code",
   "execution_count": 6,
   "id": "85066e7a-7dba-40c3-94a0-237b13670905",
   "metadata": {},
   "outputs": [
    {
     "name": "stdout",
     "output_type": "stream",
     "text": [
      "1\n",
      "2\n",
      "3\n",
      "4\n",
      "6\n",
      "7\n",
      "8\n",
      "9\n"
     ]
    }
   ],
   "source": [
    "for i in range(1,10):\n",
    "    if i == 5:\n",
    "        continue\n",
    "    print(i)"
   ]
  },
  {
   "cell_type": "code",
   "execution_count": null,
   "id": "623c6ab0-9180-4e5c-b8cb-be4e1f8760c1",
   "metadata": {},
   "outputs": [],
   "source": [
    "# strings\n",
    "#ways to create a string\n",
    "s = 'Hello'\n",
    "s = \"Hello\"\n",
    "s = '''Hello'''\n"
   ]
  },
  {
   "cell_type": "code",
   "execution_count": 10,
   "id": "95ae981c-5d05-4477-80df-13ca798429eb",
   "metadata": {},
   "outputs": [
    {
     "name": "stdout",
     "output_type": "stream",
     "text": [
      "l\n",
      "e\n"
     ]
    }
   ],
   "source": [
    "#Positive Indexing\n",
    "s = 'Hello World'\n",
    "print(s[2])\n",
    "\n",
    "\n",
    "#Negative Indexing\n",
    "x = \"Synide\"\n",
    "print(x[-1])\n"
   ]
  },
  {
   "cell_type": "code",
   "execution_count": 18,
   "id": "fb30537e-fcad-433f-afe2-dabc5f3cede9",
   "metadata": {},
   "outputs": [
    {
     "name": "stdout",
     "output_type": "stream",
     "text": [
      "Hello\n",
      "HlW\n",
      "!dlroW olleH\n"
     ]
    }
   ],
   "source": [
    "#Slicing\n",
    "s = \"Hello World!\"\n",
    "print(s[0:5])\n",
    "\n",
    "\n",
    "#the third para\n",
    "\n",
    "print(s[0:7:3])\n",
    "\n",
    "\n",
    "#reverse a string\n",
    "print(s[::-1])"
   ]
  },
  {
   "cell_type": "code",
   "execution_count": 22,
   "id": "42d5b8aa-f8d6-4743-a341-2e6fd2a4bec6",
   "metadata": {},
   "outputs": [],
   "source": [
    "#Editing and Deleting a String\n",
    "\n",
    "#s = \"muffakir hamid\"\n",
    "#s[0] = \"M\"\n",
    "\n",
    "#Python strings are immutable i.e they can't be edited once defined\n",
    "\n",
    "\n",
    "\n",
    "#deleting a string\n",
    "s = \"Hello World\"\n",
    "del s\n",
    "# print(s)\n",
    "# error"
   ]
  },
  {
   "cell_type": "code",
   "execution_count": 23,
   "id": "6130001a-3ba8-42b3-b1dc-41543d36f56f",
   "metadata": {},
   "outputs": [],
   "source": [
    "s = \"hello world\"\n",
    "# del s[-1:-5:2]\n",
    "# print(s)\n",
    "\n",
    "#it will throw an error"
   ]
  },
  {
   "cell_type": "code",
   "execution_count": 25,
   "id": "b44faae3-64b1-4fb8-a73e-d6477e5d0729",
   "metadata": {},
   "outputs": [
    {
     "name": "stdout",
     "output_type": "stream",
     "text": [
      "strabc\n",
      "yyyyyyyyyy\n"
     ]
    }
   ],
   "source": [
    "#Operations on strings\n",
    "\n",
    "#Arthemtic Operations on Strings\n",
    "#-> Addtion\n",
    "a = \"str\"\n",
    "b = \"abc\"\n",
    "\n",
    "print(a+b)\n",
    "\n",
    "#-> Multiplication\n",
    "x = \"y\"\n",
    "print(x*10)"
   ]
  },
  {
   "cell_type": "code",
   "execution_count": 30,
   "id": "6c2fc898-197a-44c8-a691-4ad2013487a3",
   "metadata": {},
   "outputs": [
    {
     "name": "stdout",
     "output_type": "stream",
     "text": [
      "False\n",
      "False\n"
     ]
    }
   ],
   "source": [
    "#Relational Op\n",
    "\n",
    "print(\"hello\" == \"Hello\")\n",
    "print(\"Mumbai\" > \"pune\")\n"
   ]
  },
  {
   "cell_type": "code",
   "execution_count": 32,
   "id": "33ca9637-2ba5-49df-ac7b-ed92b97213fb",
   "metadata": {},
   "outputs": [
    {
     "data": {
      "text/plain": [
       "'hello'"
      ]
     },
     "execution_count": 32,
     "metadata": {},
     "output_type": "execute_result"
    }
   ],
   "source": [
    "'hello' or 'world'"
   ]
  },
  {
   "cell_type": "code",
   "execution_count": 34,
   "id": "8da66b90-59d8-40c2-b13d-6bd7094a6c5c",
   "metadata": {},
   "outputs": [
    {
     "name": "stdout",
     "output_type": "stream",
     "text": [
      "h\n",
      "e\n",
      "l\n",
      "l\n",
      "o\n"
     ]
    }
   ],
   "source": [
    "for i in \"hello\":\n",
    "    print(i)"
   ]
  },
  {
   "cell_type": "code",
   "execution_count": 38,
   "id": "74cefc5b-48e0-4456-8ab6-cda415763830",
   "metadata": {},
   "outputs": [
    {
     "name": "stdout",
     "output_type": "stream",
     "text": [
      "5\n",
      "r\n",
      "S\n",
      "[' ', 'H', 'W', 'd', 'e', 'l', 'l', 'l', 'o', 'o', 'r']\n"
     ]
    }
   ],
   "source": [
    "#String Functions\n",
    "#Common Functions\n",
    "\n",
    "#len : it gives the length of the string\n",
    "print(len(\"Hello\"))\n",
    "#max : Based on ASCII value it gives the max character\n",
    "print(max(\"Hello World\"))\n",
    "#min : Based on ASCII value it gives the min character\n",
    "print(min(\"Synide\"))\n",
    "#sorted : gives a sorted list\n",
    "print(sorted(\"Hello World\"))"
   ]
  },
  {
   "cell_type": "code",
   "execution_count": 42,
   "id": "1ae42909-0816-4258-93b3-b77f822b7b0d",
   "metadata": {},
   "outputs": [
    {
     "name": "stdout",
     "output_type": "stream",
     "text": [
      "Hello world\n",
      "Hello World\n",
      "HELLO WORLD\n",
      "hello world\n"
     ]
    }
   ],
   "source": [
    "#Capitalize/Title/Upper/Lower/Swapcase\n",
    "s = 'hello world'\n",
    "\n",
    "#capitalize : Gives first letter capital\n",
    "print(s.capitalize())\n",
    "#title: Returns each first letter of a word as capital\n",
    "print(s.title())\n",
    "#upper: Returns characters in uppercase\n",
    "print(s.upper())\n",
    "#lower: Returns characters in lower\n",
    "print(s.lower())\n",
    "\n",
    "\n",
    "\n",
    "\n"
   ]
  },
  {
   "cell_type": "code",
   "execution_count": 50,
   "id": "4c239c2f-adba-4d65-8ae4-b2e38233d05c",
   "metadata": {},
   "outputs": [
    {
     "name": "stdout",
     "output_type": "stream",
     "text": [
      "3\n",
      "0\n",
      "0\n"
     ]
    }
   ],
   "source": [
    "#Count/Find/Index\n",
    "print('my name is muffakir'.count('m'))\n",
    "print('my name is muffakir'.find('m'))\n",
    "print('my name is muffakir'.index('m'))\n",
    "\n"
   ]
  },
  {
   "cell_type": "code",
   "execution_count": 52,
   "id": "a35ca07f-32f1-47a8-8b9d-c669f94e3544",
   "metadata": {},
   "outputs": [
    {
     "name": "stdout",
     "output_type": "stream",
     "text": [
      "Hi my name is nitish and i am male\n"
     ]
    }
   ],
   "source": [
    "#format\n",
    "name = \"nitish\"\n",
    "gender = \"male\"\n",
    "print(\"Hi my name is {} and i am {}\".format(name,gender))"
   ]
  },
  {
   "cell_type": "code",
   "execution_count": 57,
   "id": "56c01b23-af62-42aa-8d81-6dbbf41b22f4",
   "metadata": {},
   "outputs": [
    {
     "name": "stdout",
     "output_type": "stream",
     "text": [
      "True\n",
      "True\n",
      "False\n",
      "False\n"
     ]
    }
   ],
   "source": [
    "#isalnum\n",
    "print(\"muffakir9910\".isalnum())\n",
    "print(\"muffakir\".isalpha())\n",
    "print(\"123abc\".isdigit())\n",
    "print(\"1\".isidentifier())\n",
    "\n",
    "\n"
   ]
  },
  {
   "cell_type": "code",
   "execution_count": 64,
   "id": "c6d7fd23-7b56-4ed7-880c-3274602d2368",
   "metadata": {},
   "outputs": [
    {
     "name": "stdout",
     "output_type": "stream",
     "text": [
      "['Hello', 'World']\n",
      "Hello-World\n"
     ]
    }
   ],
   "source": [
    "#Split : breaks a sentence into word by word and gives a python list\n",
    "x = \"Hello World\"\n",
    "print(x.split())\n",
    "\n",
    "#join : It joins a list in a string\n",
    "print(\"-\".join(['Hello', 'World']))"
   ]
  },
  {
   "cell_type": "code",
   "execution_count": 66,
   "id": "c826431f-3499-424a-99bf-01abe5480376",
   "metadata": {},
   "outputs": [
    {
     "name": "stdout",
     "output_type": "stream",
     "text": [
      "Hello my name is Muffakir\n"
     ]
    }
   ],
   "source": [
    "#replace\n",
    "x = \"Hello my name is synide\"\n",
    "\n",
    "print(x.replace('synide','Muffakir'))"
   ]
  },
  {
   "cell_type": "code",
   "execution_count": 67,
   "id": "675e0154-e602-4cd0-8112-2b4dc0319cdd",
   "metadata": {},
   "outputs": [
    {
     "data": {
      "text/plain": [
       "'muffakir'"
      ]
     },
     "execution_count": 67,
     "metadata": {},
     "output_type": "execute_result"
    }
   ],
   "source": [
    "#Strip - removes whitespaces\n",
    "'muffakir                 '.strip()"
   ]
  },
  {
   "cell_type": "code",
   "execution_count": null,
   "id": "cd7547ef-f528-4746-a415-2ef6d9b77066",
   "metadata": {},
   "outputs": [],
   "source": []
  }
 ],
 "metadata": {
  "kernelspec": {
   "display_name": "Python [conda env:base] *",
   "language": "python",
   "name": "conda-base-py"
  },
  "language_info": {
   "codemirror_mode": {
    "name": "ipython",
    "version": 3
   },
   "file_extension": ".py",
   "mimetype": "text/x-python",
   "name": "python",
   "nbconvert_exporter": "python",
   "pygments_lexer": "ipython3",
   "version": "3.12.7"
  }
 },
 "nbformat": 4,
 "nbformat_minor": 5
}
